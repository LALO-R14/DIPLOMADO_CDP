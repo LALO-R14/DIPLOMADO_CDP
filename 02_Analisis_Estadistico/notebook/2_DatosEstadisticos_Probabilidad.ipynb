{
 "cells": [
  {
   "cell_type": "markdown",
   "metadata": {},
   "source": [
    "<img src=\"https://raw.githubusercontent.com/jhermosillo/DIPLOMADO_CDP/main/02_Analisis_Estadistico/images/logos/ColorLogo.png\">"
   ]
  },
  {
   "cell_type": "markdown",
   "metadata": {},
   "source": [
    "[![Open In Colab](https://colab.research.google.com/assets/colab-badge.svg)](https://colab.research.google.com/github/jhermosillo/DIPLOMADO_CDP/blob/master/02_Analisis_Estadistico/notebook/2_DatosEstadisticos_Probabilidad.ipynb)"
   ]
  },
  {
   "cell_type": "markdown",
   "metadata": {},
   "source": [
    "<a id=\"contenido\"></a>\n",
    "<h1><center>Contenido | Módulo 2</center><h1>\n",
    "    \n",
    "---\n",
    "    \n",
    "* [Tipos de datos estadísticos](#a)   \n",
    "* [Medidas de tendencia central](#b) \n",
    "* [Medidas de dispersión](#c) \n",
    "* [Distribuciones de probabilidad](#d)\n",
    "* [Ejercicio](#e)"
   ]
  },
  {
   "cell_type": "markdown",
   "metadata": {},
   "source": [
    "<a id=\"a\"></a>\n",
    "<h1><center>2.1. Tipos de datos estadísticos</center></h1>\n",
    "\n",
    "[Regreso a contenido](#contenido)"
   ]
  },
  {
   "cell_type": "markdown",
   "metadata": {},
   "source": [
    "Para construir un **pipeline** adecuado en ciencia de datos, debemos tener un buen entendimiento del tipo de variables que estaremos percibiendo de los diferentes conjuntos de datos (datasets) que nos podamos encontrar....\n"
   ]
  },
  {
   "cell_type": "markdown",
   "metadata": {},
   "source": [
    "---\n",
    "\n",
    "Veamos ahora los conceptos estadísticos básicos relacionados con el tipo de datos que se estudian.\n",
    "\n",
    "Se llama **variable estadística** a cada una de las características que pueden estudiarse de la población (o de muestras)."
   ]
  },
  {
   "cell_type": "markdown",
   "metadata": {},
   "source": [
    "1. **Cualitativas**: son variables que reflejan la propiedad o calidad de los objetos. Y aquí los números no significan ellos mismos, como en el caso cuantitativo, sino algunas cualidades o propiedades de los objetos. En otras palabras, sirven como marcadores para algunas categorías. Por ejemplo, digamos que comparamos a personas que viven en un estado con personas que viven en otro estado. \n",
    "\n",
    "   Podemos codificar a las personas de Morelos por 1, Guadalajara por 2, uno y dos no significarían nada excepto que denotan estas categorías, que son el centro de nuestro análisis.\n",
    "\n",
    " 1.1. *Variables nominales*:  es la escala más básica, la más sencilla. La única información que contiene es información sobre un objeto que pertenece a una determinada clase o grupo. Significa que estas variables solo se pueden medir en términos de pertenencia a algunas clases significativamente diferentes, y no podrá determinar el orden de estas clases.\n",
    " \n",
    " 1.2. *Variables ordinales*: se diferencian ligeramente de las variables nominales por el hecho en el orden que aparecen. Entonces, los valores no solo dividen los objetos en clases o grupos, sino que también los ordenan de cierta manera.\n",
    " \n",
    "---\n",
    "\n",
    "2. **Cuantitativas**: aquellas cuyo resultado es un número. A su vez, las hay de dos tipos:\n",
    "    \n",
    " 2.1. *Cuantitativas discretas*: cuando se toman valores aislados. Tomemos como ejemplo el número de hijos en la familia: podemos tener 1 hijo, 3 hijos, 5 hijos e incluso 10, pero no podemos tener 1,5 o 3,75. Es decir, estos son algunos valores discretos en forma de puntos.\n",
    " \n",
    "  2.2. *Cuantitativas continuas*: ocupa todo el espacio, puede ser cualquier valor de -∞ a +∞, puede ser fraccional. Por ejemplo, podemos medir el tiempo en días, horas, segundos, milisegundos, etc. La escala continua se determina a través de todos los valores posibles."
   ]
  },
  {
   "cell_type": "markdown",
   "metadata": {},
   "source": [
    "![img](https://luminousmen.com/media/data-types-in-ds.jpeg)"
   ]
  },
  {
   "cell_type": "markdown",
   "metadata": {},
   "source": [
    "### 2.1.1. Análisis de datos categóricos con Python\n",
    "\n",
    "---\n",
    "\n",
    "Cuando trabajamos con estadísticas, es importante reconocer los diferentes tipos de datos: numéricos (discretos y continuos) y categóricos. Los datos no son más que observaciones del mundo en que vivimos, por tanto, los mismos pueden venir en diferentes formas, no solo numérica. \n",
    "\n",
    "---\n",
    "\n",
    "Los datos se dividen en categorías, pero los números colocados en cada categoría tienen un significado. Por ejemplo, la calificación de un restaurante en una escala de 0 (bajo) a 5 (más alta) estrellas representa datos ordinales. Los datos ordinales son a menudo tratados como datos categóricos, en el sentido que se suelen agrupar y ordenar. Sin embargo, a diferencia de los datos categóricos, los números sí tienen un significado matemático.\n",
    "\n",
    "---"
   ]
  },
  {
   "cell_type": "markdown",
   "metadata": {},
   "source": [
    "![img](https://robocrop.realpython.net/?url=https%3A//files.realpython.com/media/Descriptive-Statistics-in-Python_Watermarked.fec81e9a41f9.jpg&w=960&sig=274c90a9fc73c1aafccc437c2db2c7ba12bc4c4c)"
   ]
  },
  {
   "cell_type": "markdown",
   "metadata": {},
   "source": [
    "También vamos a utilizar la librería [pydataset](https://pypi.org/project/pydataset/), la cual nos facilita cargar los diferentes dataset para analizar.\n",
    "\n",
    "La idea es realizar un análisis estadístico sobre los datos de los sobrevivientes a la tragedia del Titanic."
   ]
  },
  {
   "cell_type": "code",
   "execution_count": 1,
   "metadata": {},
   "outputs": [],
   "source": [
    "# importando modulos necesarios\n",
    "import matplotlib.pyplot as plt\n",
    "import numpy as np\n",
    "import pandas as pd\n",
    "import seaborn as sns\n",
    "\n",
    "#Se debe recordar que para la primera ejecución de este código, \n",
    "#se debe habilidar la instalación de 'pydataset'\n",
    "#!pip install pydataset\n",
    "from pydataset import data\n",
    "%matplotlib notebook\n",
    "#Añadir la siguiente línea de código\n",
    "%matplotlib inline "
   ]
  },
  {
   "cell_type": "code",
   "execution_count": 2,
   "metadata": {},
   "outputs": [
    {
     "data": {
      "text/html": [
       "<div>\n",
       "<style scoped>\n",
       "    .dataframe tbody tr th:only-of-type {\n",
       "        vertical-align: middle;\n",
       "    }\n",
       "\n",
       "    .dataframe tbody tr th {\n",
       "        vertical-align: top;\n",
       "    }\n",
       "\n",
       "    .dataframe thead th {\n",
       "        text-align: right;\n",
       "    }\n",
       "</style>\n",
       "<table border=\"1\" class=\"dataframe\">\n",
       "  <thead>\n",
       "    <tr style=\"text-align: right;\">\n",
       "      <th></th>\n",
       "      <th>class</th>\n",
       "      <th>age</th>\n",
       "      <th>sex</th>\n",
       "      <th>survived</th>\n",
       "    </tr>\n",
       "  </thead>\n",
       "  <tbody>\n",
       "    <tr>\n",
       "      <th>1</th>\n",
       "      <td>1st class</td>\n",
       "      <td>adults</td>\n",
       "      <td>man</td>\n",
       "      <td>yes</td>\n",
       "    </tr>\n",
       "    <tr>\n",
       "      <th>2</th>\n",
       "      <td>1st class</td>\n",
       "      <td>adults</td>\n",
       "      <td>man</td>\n",
       "      <td>yes</td>\n",
       "    </tr>\n",
       "    <tr>\n",
       "      <th>3</th>\n",
       "      <td>1st class</td>\n",
       "      <td>adults</td>\n",
       "      <td>man</td>\n",
       "      <td>yes</td>\n",
       "    </tr>\n",
       "    <tr>\n",
       "      <th>4</th>\n",
       "      <td>1st class</td>\n",
       "      <td>adults</td>\n",
       "      <td>man</td>\n",
       "      <td>yes</td>\n",
       "    </tr>\n",
       "    <tr>\n",
       "      <th>5</th>\n",
       "      <td>1st class</td>\n",
       "      <td>adults</td>\n",
       "      <td>man</td>\n",
       "      <td>yes</td>\n",
       "    </tr>\n",
       "    <tr>\n",
       "      <th>6</th>\n",
       "      <td>1st class</td>\n",
       "      <td>adults</td>\n",
       "      <td>man</td>\n",
       "      <td>yes</td>\n",
       "    </tr>\n",
       "    <tr>\n",
       "      <th>7</th>\n",
       "      <td>1st class</td>\n",
       "      <td>adults</td>\n",
       "      <td>man</td>\n",
       "      <td>yes</td>\n",
       "    </tr>\n",
       "    <tr>\n",
       "      <th>8</th>\n",
       "      <td>1st class</td>\n",
       "      <td>adults</td>\n",
       "      <td>man</td>\n",
       "      <td>yes</td>\n",
       "    </tr>\n",
       "    <tr>\n",
       "      <th>9</th>\n",
       "      <td>1st class</td>\n",
       "      <td>adults</td>\n",
       "      <td>man</td>\n",
       "      <td>yes</td>\n",
       "    </tr>\n",
       "    <tr>\n",
       "      <th>10</th>\n",
       "      <td>1st class</td>\n",
       "      <td>adults</td>\n",
       "      <td>man</td>\n",
       "      <td>yes</td>\n",
       "    </tr>\n",
       "  </tbody>\n",
       "</table>\n",
       "</div>"
      ],
      "text/plain": [
       "        class     age  sex survived\n",
       "1   1st class  adults  man      yes\n",
       "2   1st class  adults  man      yes\n",
       "3   1st class  adults  man      yes\n",
       "4   1st class  adults  man      yes\n",
       "5   1st class  adults  man      yes\n",
       "6   1st class  adults  man      yes\n",
       "7   1st class  adults  man      yes\n",
       "8   1st class  adults  man      yes\n",
       "9   1st class  adults  man      yes\n",
       "10  1st class  adults  man      yes"
      ]
     },
     "execution_count": 2,
     "metadata": {},
     "output_type": "execute_result"
    }
   ],
   "source": [
    "# importando dataset\n",
    "titanic = data('titanic')\n",
    "# ver primeros 10 registros\n",
    "titanic.head(10)\n",
    "# visualizar toda la tabla, recordemos que el TIPO DE DATO de 'titanic' es un DataFrame de la paquetería Pandas\n",
    "# titanic"
   ]
  },
  {
   "cell_type": "code",
   "execution_count": 3,
   "metadata": {},
   "outputs": [
    {
     "name": "stdout",
     "output_type": "stream",
     "text": [
      "<class 'pandas.core.frame.DataFrame'>\n",
      "Int64Index: 1316 entries, 1 to 1316\n",
      "Data columns (total 4 columns):\n",
      " #   Column    Non-Null Count  Dtype \n",
      "---  ------    --------------  ----- \n",
      " 0   class     1316 non-null   object\n",
      " 1   age       1316 non-null   object\n",
      " 2   sex       1316 non-null   object\n",
      " 3   survived  1316 non-null   object\n",
      "dtypes: object(4)\n",
      "memory usage: 51.4+ KB\n"
     ]
    }
   ],
   "source": [
    "titanic.info()"
   ]
  },
  {
   "cell_type": "code",
   "execution_count": 4,
   "metadata": {},
   "outputs": [
    {
     "data": {
      "text/html": [
       "<div>\n",
       "<style scoped>\n",
       "    .dataframe tbody tr th:only-of-type {\n",
       "        vertical-align: middle;\n",
       "    }\n",
       "\n",
       "    .dataframe tbody tr th {\n",
       "        vertical-align: top;\n",
       "    }\n",
       "\n",
       "    .dataframe thead th {\n",
       "        text-align: right;\n",
       "    }\n",
       "</style>\n",
       "<table border=\"1\" class=\"dataframe\">\n",
       "  <thead>\n",
       "    <tr style=\"text-align: right;\">\n",
       "      <th></th>\n",
       "      <th>class</th>\n",
       "      <th>age</th>\n",
       "      <th>sex</th>\n",
       "      <th>survived</th>\n",
       "    </tr>\n",
       "  </thead>\n",
       "  <tbody>\n",
       "    <tr>\n",
       "      <th>count</th>\n",
       "      <td>1316</td>\n",
       "      <td>1316</td>\n",
       "      <td>1316</td>\n",
       "      <td>1316</td>\n",
       "    </tr>\n",
       "    <tr>\n",
       "      <th>unique</th>\n",
       "      <td>3</td>\n",
       "      <td>2</td>\n",
       "      <td>2</td>\n",
       "      <td>2</td>\n",
       "    </tr>\n",
       "    <tr>\n",
       "      <th>top</th>\n",
       "      <td>3rd class</td>\n",
       "      <td>adults</td>\n",
       "      <td>man</td>\n",
       "      <td>no</td>\n",
       "    </tr>\n",
       "    <tr>\n",
       "      <th>freq</th>\n",
       "      <td>706</td>\n",
       "      <td>1207</td>\n",
       "      <td>869</td>\n",
       "      <td>817</td>\n",
       "    </tr>\n",
       "  </tbody>\n",
       "</table>\n",
       "</div>"
      ],
      "text/plain": [
       "            class     age   sex survived\n",
       "count        1316    1316  1316     1316\n",
       "unique          3       2     2        2\n",
       "top     3rd class  adults   man       no\n",
       "freq          706    1207   869      817"
      ]
     },
     "execution_count": 4,
     "metadata": {},
     "output_type": "execute_result"
    }
   ],
   "source": [
    "titanic.describe()"
   ]
  },
  {
   "cell_type": "markdown",
   "metadata": {},
   "source": [
    "## El problema con datos como estos, y en general con la mayoría de las tablas de datos, es que nos presentan mucha información y no nos permiten ver que es lo que realmente sucede o sucedió. "
   ]
  },
  {
   "cell_type": "markdown",
   "metadata": {},
   "source": [
    "Por tanto, deberíamos procesarla de alguna manera para hacernos una imagen de lo que los datos realmente representan y nos quieren decir; y que mejor manera para hacernos una imagen de algo que utilizar **visualizaciones**.\n",
    "\n",
    "-------\n",
    "\n",
    "Una buena **visualización de los datos** puede revelar cosas que es probable que no podamos ver en una *tabla de números* y nos ayudará a pensar con claridad acerca de los <font color = red>**patrones**</font> y <font color = red>**relaciones**</font> que pueden estar *escondidos* en los datos. \n",
    "\n",
    "\n",
    "También nos va a ayudar a encontrar las características y patrones más importantes o los casos que son realmente excepcionales y no deberíamos de encontrar."
   ]
  },
  {
   "cell_type": "markdown",
   "metadata": {},
   "source": [
    "### 2.1.2. Tablas de frecuencia"
   ]
  },
  {
   "cell_type": "markdown",
   "metadata": {},
   "source": [
    "Para hacernos una *imagen de los datos*, lo primero que tenemos que hacer es agruparlos. \n",
    "\n",
    "Al armar diferentes grupos nos vamos acercando a la comprensión de los datos.\n",
    "\n",
    "**La idea es ir agrupando las cosas que parecen ir juntas, para poder ver como se distribuyen a través de las diferentes categorías**. \n",
    "\n",
    "Para los *datos categóricos*, agrupar es fácil; simplemente debemos contar el número de ítems que corresponden a cada categoría y juntarlos. \n",
    "\n",
    "Una forma en la que podemos agrupar nuestro dataset del Titanic es contando las diferentes clases de pasajeros. Podemos organizar estos conteos en una *tabla de frecuencia*, que registra los totales y los nombres de las categorías utilizando la función **value_counts** que nos proporciona Pandas del siguiente modo:"
   ]
  },
  {
   "cell_type": "code",
   "execution_count": 5,
   "metadata": {},
   "outputs": [
    {
     "data": {
      "text/plain": [
       "3rd class    706\n",
       "1st class    325\n",
       "2nd class    285\n",
       "Name: class, dtype: int64"
      ]
     },
     "execution_count": 5,
     "metadata": {},
     "output_type": "execute_result"
    }
   ],
   "source": [
    "# tabla de frecuencia de clases de pasajeros\n",
    "pd.value_counts(titanic['class'])"
   ]
  },
  {
   "cell_type": "markdown",
   "metadata": {},
   "source": [
    "Contar las cantidad de apariciones de cada categoría puede ser útil, pero a veces puede resultar más útil saber la *fracción* o proporción de los datos de cada **categoría**, así que podríamos entonces dividir los recuentos por el total de casos para obtener los porcentajes que representa cada categoría.\n",
    "\n",
    "\n",
    "---\n",
    "\n",
    "Una tabla de **frecuencia relativa** muestra los porcentajes, en lugar de los recuentos de los valores en cada categoría. Ambos tipos de tablas muestran cómo los casos se distribuyen a través de las categorías. \n",
    "\n",
    "De esta manera, ellas describen la distribución de una variable categórica, ya que enumeran las posibles categorías y nos dicen con qué frecuencia se produce cada una de ellas."
   ]
  },
  {
   "cell_type": "code",
   "execution_count": 6,
   "metadata": {},
   "outputs": [
    {
     "data": {
      "text/plain": [
       "3rd class    53.647416\n",
       "1st class    24.696049\n",
       "2nd class    21.656535\n",
       "Name: class, dtype: float64"
      ]
     },
     "execution_count": 6,
     "metadata": {},
     "output_type": "execute_result"
    }
   ],
   "source": [
    "# tabla de frecuencia relativa de pasajeros\n",
    "100 * titanic['class'].value_counts() / len(titanic['class'])"
   ]
  },
  {
   "cell_type": "markdown",
   "metadata": {},
   "source": [
    "### 2.1.3. Gráficos de pastel y barras\n",
    "\n",
    "---\n",
    "\n",
    "El gráfico de barras nos ayuda a darnos una impresión visual más precisa de la distribución de nuestros datos. \n",
    "\n",
    "La altura de cada barra muestra el recuento de su categoría. Los barras tienen el mismo ancho, por lo que sus alturas determinan sus áreas, y estas áreas son proporcionales a los recuentos en cada categoría. \n",
    "\n",
    "De esta forma, podemos ver fácilmente que había más del doble de pasajeros de tercera clase, que de primera o segunda clase. \n",
    "\n",
    "Los gráficos de barras hacen que este tipo de comparaciones sean fáciles y naturales. Veamos como podemos crearlos de forma sencilla utilizando el método **plot** dentro de un **DataFrame** de **Pandas**."
   ]
  },
  {
   "cell_type": "code",
   "execution_count": 7,
   "metadata": {},
   "outputs": [
    {
     "data": {
      "image/png": "[encoded data removed]",
      "text/plain": [
       "<Figure size 432x288 with 1 Axes>"
      ]
     },
     "metadata": {
      "needs_background": "light"
     },
     "output_type": "display_data"
    }
   ],
   "source": [
    "# Gráfico de barras de pasajeros del Titanic\n",
    "# Se puede añadir %matplotlib inline\n",
    "plot = titanic['class'].value_counts().plot(kind='bar', title='Pasajeros del Titanic')"
   ]
  },
  {
   "cell_type": "markdown",
   "metadata": {},
   "source": [
    "Si quisiéramos enfocarnos en la proporción relativa de los pasajeros de cada una de las clases, simplemente podemos sustituir a los recuentos con porcentajes y utilizar un *gráfico de barras de frecuencias relativas*."
   ]
  },
  {
   "cell_type": "code",
   "execution_count": 8,
   "metadata": {},
   "outputs": [
    {
     "data": {
      "text/plain": [
       "<AxesSubplot:title={'center':'Pasajeros del Titanic %'}>"
      ]
     },
     "execution_count": 8,
     "metadata": {},
     "output_type": "execute_result"
    },
    {
     "data": {
      "image/png": "[encoded data removed]",
      "text/plain": [
       "<Figure size 432x288 with 1 Axes>"
      ]
     },
     "metadata": {
      "needs_background": "light"
     },
     "output_type": "display_data"
    }
   ],
   "source": [
    "# gráfico de barras de frecuencias relativas.\n",
    "plot = (100 * titanic['class'].value_counts() / len(titanic['class'])).plot(kind='bar', title='Pasajeros del Titanic %')\n",
    "plot"
   ]
  },
  {
   "cell_type": "markdown",
   "metadata": {},
   "source": [
    "### 2.1.4. Gráfico de pastel\n",
    "\n",
    "---\n",
    "\n",
    "El gráfico de pastel muestra el total de casos como un círculo y luego corta este círculo en piezas cuyos tamaños son proporcionales a la fracción que cada categoría representa sobre el total de casos. \n",
    "\n",
    "Los gráfico de pastel dan una impresión rápida de cómo todo un grupo se divide en grupos más pequeños. Lo podríamos graficar del siguiente modo, también utilizando el método plot:"
   ]
  },
  {
   "cell_type": "code",
   "execution_count": 9,
   "metadata": {},
   "outputs": [
    {
     "data": {
      "image/png": "[encoded data removed]",
      "text/plain": [
       "<Figure size 432x432 with 1 Axes>"
      ]
     },
     "metadata": {},
     "output_type": "display_data"
    }
   ],
   "source": [
    "# Gráfico de tarta de pasajeros del Titanic\n",
    "plot = titanic['class'].value_counts().plot(kind='pie', autopct='%.2f', \n",
    "                                            figsize=(6, 6),\n",
    "                                            title='Pasajeros del Titanic')"
   ]
  },
  {
   "cell_type": "markdown",
   "metadata": {},
   "source": [
    "Como se puede apreciar, con el gráfico de tarta no es tan fácil determinar que los pasajeros de tercera clase son más que el doble que los de primera clase; tampoco es fácil determinar si hay más pasajeros de primera o de segunda clase. Para este tipo de comparaciones, son mucho más útiles los gráficos de barras."
   ]
  },
  {
   "cell_type": "markdown",
   "metadata": {},
   "source": [
    "### 2.1.5. Relacionando variables categóricas¶\n",
    "\n",
    "---\n",
    "\n",
    "Al analizar la tragedia del Titanic, una de las preguntas que podríamos hacer es **¿existe alguna relación entre la clase de pasajeros y la posibilidad de alcanzar un bote salvavidas y sobrevivir a la tragedia?**. \n",
    "\n",
    "Para poder responder a esta pregunta, vamos a necesitar analizar a las variables **class** y **survived** de nuestro dataset en forma conjunta. \n",
    "\n",
    "---\n",
    "\n",
    "Una buena forma de analizar dos variables categóricas en forma conjunta, es agrupar los recuentos en una tabla de doble entrada; este tipo de tablas se conocen en estadística con el nombre de tabla de contingencia. Veamos como podemos crear esta tabla utilizando la función **crosstab** de **Pandas**."
   ]
  },
  {
   "cell_type": "code",
   "execution_count": 10,
   "metadata": {},
   "outputs": [
    {
     "data": {
      "text/html": [
       "<div>\n",
       "<style scoped>\n",
       "    .dataframe tbody tr th:only-of-type {\n",
       "        vertical-align: middle;\n",
       "    }\n",
       "\n",
       "    .dataframe tbody tr th {\n",
       "        vertical-align: top;\n",
       "    }\n",
       "\n",
       "    .dataframe thead th {\n",
       "        text-align: right;\n",
       "    }\n",
       "</style>\n",
       "<table border=\"1\" class=\"dataframe\">\n",
       "  <thead>\n",
       "    <tr style=\"text-align: right;\">\n",
       "      <th></th>\n",
       "      <th>class</th>\n",
       "      <th>age</th>\n",
       "      <th>sex</th>\n",
       "      <th>survived</th>\n",
       "    </tr>\n",
       "  </thead>\n",
       "  <tbody>\n",
       "    <tr>\n",
       "      <th>1</th>\n",
       "      <td>1st class</td>\n",
       "      <td>adults</td>\n",
       "      <td>man</td>\n",
       "      <td>yes</td>\n",
       "    </tr>\n",
       "    <tr>\n",
       "      <th>2</th>\n",
       "      <td>1st class</td>\n",
       "      <td>adults</td>\n",
       "      <td>man</td>\n",
       "      <td>yes</td>\n",
       "    </tr>\n",
       "    <tr>\n",
       "      <th>3</th>\n",
       "      <td>1st class</td>\n",
       "      <td>adults</td>\n",
       "      <td>man</td>\n",
       "      <td>yes</td>\n",
       "    </tr>\n",
       "    <tr>\n",
       "      <th>4</th>\n",
       "      <td>1st class</td>\n",
       "      <td>adults</td>\n",
       "      <td>man</td>\n",
       "      <td>yes</td>\n",
       "    </tr>\n",
       "    <tr>\n",
       "      <th>5</th>\n",
       "      <td>1st class</td>\n",
       "      <td>adults</td>\n",
       "      <td>man</td>\n",
       "      <td>yes</td>\n",
       "    </tr>\n",
       "    <tr>\n",
       "      <th>...</th>\n",
       "      <td>...</td>\n",
       "      <td>...</td>\n",
       "      <td>...</td>\n",
       "      <td>...</td>\n",
       "    </tr>\n",
       "    <tr>\n",
       "      <th>1312</th>\n",
       "      <td>3rd class</td>\n",
       "      <td>child</td>\n",
       "      <td>women</td>\n",
       "      <td>no</td>\n",
       "    </tr>\n",
       "    <tr>\n",
       "      <th>1313</th>\n",
       "      <td>3rd class</td>\n",
       "      <td>child</td>\n",
       "      <td>women</td>\n",
       "      <td>no</td>\n",
       "    </tr>\n",
       "    <tr>\n",
       "      <th>1314</th>\n",
       "      <td>3rd class</td>\n",
       "      <td>child</td>\n",
       "      <td>women</td>\n",
       "      <td>no</td>\n",
       "    </tr>\n",
       "    <tr>\n",
       "      <th>1315</th>\n",
       "      <td>3rd class</td>\n",
       "      <td>child</td>\n",
       "      <td>women</td>\n",
       "      <td>no</td>\n",
       "    </tr>\n",
       "    <tr>\n",
       "      <th>1316</th>\n",
       "      <td>3rd class</td>\n",
       "      <td>child</td>\n",
       "      <td>women</td>\n",
       "      <td>no</td>\n",
       "    </tr>\n",
       "  </tbody>\n",
       "</table>\n",
       "<p>1316 rows × 4 columns</p>\n",
       "</div>"
      ],
      "text/plain": [
       "          class     age    sex survived\n",
       "1     1st class  adults    man      yes\n",
       "2     1st class  adults    man      yes\n",
       "3     1st class  adults    man      yes\n",
       "4     1st class  adults    man      yes\n",
       "5     1st class  adults    man      yes\n",
       "...         ...     ...    ...      ...\n",
       "1312  3rd class   child  women       no\n",
       "1313  3rd class   child  women       no\n",
       "1314  3rd class   child  women       no\n",
       "1315  3rd class   child  women       no\n",
       "1316  3rd class   child  women       no\n",
       "\n",
       "[1316 rows x 4 columns]"
      ]
     },
     "execution_count": 10,
     "metadata": {},
     "output_type": "execute_result"
    }
   ],
   "source": [
    "titanic"
   ]
  },
  {
   "cell_type": "code",
   "execution_count": 11,
   "metadata": {},
   "outputs": [
    {
     "data": {
      "text/html": [
       "<div>\n",
       "<style scoped>\n",
       "    .dataframe tbody tr th:only-of-type {\n",
       "        vertical-align: middle;\n",
       "    }\n",
       "\n",
       "    .dataframe tbody tr th {\n",
       "        vertical-align: top;\n",
       "    }\n",
       "\n",
       "    .dataframe thead th {\n",
       "        text-align: right;\n",
       "    }\n",
       "</style>\n",
       "<table border=\"1\" class=\"dataframe\">\n",
       "  <thead>\n",
       "    <tr style=\"text-align: right;\">\n",
       "      <th>class</th>\n",
       "      <th>1st class</th>\n",
       "      <th>2nd class</th>\n",
       "      <th>3rd class</th>\n",
       "      <th>All</th>\n",
       "    </tr>\n",
       "    <tr>\n",
       "      <th>survived</th>\n",
       "      <th></th>\n",
       "      <th></th>\n",
       "      <th></th>\n",
       "      <th></th>\n",
       "    </tr>\n",
       "  </thead>\n",
       "  <tbody>\n",
       "    <tr>\n",
       "      <th>no</th>\n",
       "      <td>122</td>\n",
       "      <td>167</td>\n",
       "      <td>528</td>\n",
       "      <td>817</td>\n",
       "    </tr>\n",
       "    <tr>\n",
       "      <th>yes</th>\n",
       "      <td>203</td>\n",
       "      <td>118</td>\n",
       "      <td>178</td>\n",
       "      <td>499</td>\n",
       "    </tr>\n",
       "    <tr>\n",
       "      <th>All</th>\n",
       "      <td>325</td>\n",
       "      <td>285</td>\n",
       "      <td>706</td>\n",
       "      <td>1316</td>\n",
       "    </tr>\n",
       "  </tbody>\n",
       "</table>\n",
       "</div>"
      ],
      "text/plain": [
       "class     1st class  2nd class  3rd class   All\n",
       "survived                                       \n",
       "no              122        167        528   817\n",
       "yes             203        118        178   499\n",
       "All             325        285        706  1316"
      ]
     },
     "execution_count": 11,
     "metadata": {},
     "output_type": "execute_result"
    }
   ],
   "source": [
    "# Tabla de contingencia class / survived\n",
    "pd.crosstab(index=titanic['survived'],\n",
    "            columns=titanic['class'], margins=True)"
   ]
  },
  {
   "cell_type": "markdown",
   "metadata": {},
   "source": [
    "Los márgenes de la tabla, tanto en la derecha y en la parte inferior, nos muestran los totales. La línea inferior de la tabla representa la distribución de frecuencia de la clase de pasajeros. \n",
    "\n",
    "La columna derecha de la tabla es la distribución de frecuencia de la variable supervivencia. \n",
    "\n",
    "Cuando se presenta la información de este modo, cada celda de cada uno de los márgenes de la tabla representa la *distribución marginal* de esa variable en particular. \n",
    "\n",
    "\n",
    "Cada celda nos va a mostrar el recuento para la combinación de los valores de nuestras dos variables categóricas, en este caso **class** y **survived**."
   ]
  },
  {
   "cell_type": "markdown",
   "metadata": {},
   "source": [
    "---\n",
    "\n",
    "Al igual de como habíamos visto con las tablas de frecuencia, también nos podría ser útil representar a las tablas de contingencia con porcentajes relativos; esto lo podríamos realizar utilizando el método apply del siguiente modo:"
   ]
  },
  {
   "cell_type": "code",
   "execution_count": 12,
   "metadata": {},
   "outputs": [
    {
     "data": {
      "text/html": [
       "<div>\n",
       "<style scoped>\n",
       "    .dataframe tbody tr th:only-of-type {\n",
       "        vertical-align: middle;\n",
       "    }\n",
       "\n",
       "    .dataframe tbody tr th {\n",
       "        vertical-align: top;\n",
       "    }\n",
       "\n",
       "    .dataframe thead th {\n",
       "        text-align: right;\n",
       "    }\n",
       "</style>\n",
       "<table border=\"1\" class=\"dataframe\">\n",
       "  <thead>\n",
       "    <tr style=\"text-align: right;\">\n",
       "      <th>class</th>\n",
       "      <th>1st class</th>\n",
       "      <th>2nd class</th>\n",
       "      <th>3rd class</th>\n",
       "      <th>All</th>\n",
       "    </tr>\n",
       "    <tr>\n",
       "      <th>survived</th>\n",
       "      <th></th>\n",
       "      <th></th>\n",
       "      <th></th>\n",
       "      <th></th>\n",
       "    </tr>\n",
       "  </thead>\n",
       "  <tbody>\n",
       "    <tr>\n",
       "      <th>no</th>\n",
       "      <td>9.270517</td>\n",
       "      <td>12.689970</td>\n",
       "      <td>40.121581</td>\n",
       "      <td>62.082067</td>\n",
       "    </tr>\n",
       "    <tr>\n",
       "      <th>yes</th>\n",
       "      <td>15.425532</td>\n",
       "      <td>8.966565</td>\n",
       "      <td>13.525836</td>\n",
       "      <td>37.917933</td>\n",
       "    </tr>\n",
       "    <tr>\n",
       "      <th>All</th>\n",
       "      <td>24.696049</td>\n",
       "      <td>21.656535</td>\n",
       "      <td>53.647416</td>\n",
       "      <td>100.000000</td>\n",
       "    </tr>\n",
       "  </tbody>\n",
       "</table>\n",
       "</div>"
      ],
      "text/plain": [
       "class     1st class  2nd class  3rd class         All\n",
       "survived                                             \n",
       "no         9.270517  12.689970  40.121581   62.082067\n",
       "yes       15.425532   8.966565  13.525836   37.917933\n",
       "All       24.696049  21.656535  53.647416  100.000000"
      ]
     },
     "execution_count": 12,
     "metadata": {},
     "output_type": "execute_result"
    }
   ],
   "source": [
    "# tabla de contingencia en porcentajes relativos total\n",
    "pd.crosstab(index=titanic['survived'], columns=titanic['class'],\n",
    "            margins=True).apply(lambda r: r/len(titanic) *100,\n",
    "                                axis=1)\n",
    "# Es importante recordar que en la línea de código anterior, al estar usando Pandas, podemos realizar la operación\n",
    "#APPLY, en donde realizamos un recorrido por el conjunto de datos, el cual estará considerando las líneas o renglones\n",
    "#dependiendo la asignación de axis\n",
    "# axis = 0 - renglones\n",
    "# axis = 1 - columnas\n",
    "\n",
    "# para este caso, es parecido el comportamiento de la tabla de contigencia\n",
    "# pd.crosstab(index=titanic['survived'], columns=titanic['class'], margins=True).apply(lambda r: r/len(titanic) *100, axis=0)"
   ]
  },
  {
   "cell_type": "markdown",
   "metadata": {},
   "source": [
    "Con esta tabla podemos ver fácilmente que solo el 37.91% de los pasajeros sobrevivió a la tragedia y que este 37% se compone de la siguiente forma: del total de pasajeros sobrevivió un 15.42% de pasajeros que eran de primera clase, un 8.97% que eran de segunda clase y un 13.52% que eran pasajeros de tercera clase.\n",
    "\n",
    "---\n",
    "\n",
    "Volviendo a nuestra pregunta inicial sobre la posibilidad de sobrevivir según la clase de pasajero, podría ser más útil armar la tabla de porcentajes como un porcentaje relativo sobre el total de cada fila, es decir calcular el porcentaje relativo que cada clase tiene sobre haber sobrevivido o no. Esto lo podemos realizar del siguiente modo:"
   ]
  },
  {
   "cell_type": "code",
   "execution_count": 13,
   "metadata": {},
   "outputs": [
    {
     "data": {
      "text/html": [
       "<div>\n",
       "<style scoped>\n",
       "    .dataframe tbody tr th:only-of-type {\n",
       "        vertical-align: middle;\n",
       "    }\n",
       "\n",
       "    .dataframe tbody tr th {\n",
       "        vertical-align: top;\n",
       "    }\n",
       "\n",
       "    .dataframe thead th {\n",
       "        text-align: right;\n",
       "    }\n",
       "</style>\n",
       "<table border=\"1\" class=\"dataframe\">\n",
       "  <thead>\n",
       "    <tr style=\"text-align: right;\">\n",
       "      <th>class</th>\n",
       "      <th>1st class</th>\n",
       "      <th>2nd class</th>\n",
       "      <th>3rd class</th>\n",
       "    </tr>\n",
       "    <tr>\n",
       "      <th>survived</th>\n",
       "      <th></th>\n",
       "      <th></th>\n",
       "      <th></th>\n",
       "    </tr>\n",
       "  </thead>\n",
       "  <tbody>\n",
       "    <tr>\n",
       "      <th>no</th>\n",
       "      <td>14.932681</td>\n",
       "      <td>20.440636</td>\n",
       "      <td>64.626683</td>\n",
       "    </tr>\n",
       "    <tr>\n",
       "      <th>yes</th>\n",
       "      <td>40.681363</td>\n",
       "      <td>23.647295</td>\n",
       "      <td>35.671343</td>\n",
       "    </tr>\n",
       "  </tbody>\n",
       "</table>\n",
       "</div>"
      ],
      "text/plain": [
       "class     1st class  2nd class  3rd class\n",
       "survived                                 \n",
       "no        14.932681  20.440636  64.626683\n",
       "yes       40.681363  23.647295  35.671343"
      ]
     },
     "execution_count": 13,
     "metadata": {},
     "output_type": "execute_result"
    }
   ],
   "source": [
    "# tabla de contingencia en porcentajes relativos segun sobreviviente\n",
    "pd.crosstab(index=titanic['survived'], columns=titanic['class']\n",
    "           ).apply(lambda r: r/r.sum() *100,\n",
    "                                axis=1)\n",
    "\n",
    "# tabla de contingencia en porcentajes relativos segun sobreviviente con datos redondeados a 3 dig. significativos\n",
    "# pd.crosstab(index=titanic['survived'], columns=titanic['class']).apply(lambda r: r/r.sum() *100, axis=1).round(3)\n",
    "\n",
    "# Otro ejemplo de código para el redondeo\n",
    "# pd.crosstab(index=titanic['survived'], columns=titanic['class']).apply(lambda r: round(r/len(titanic),5) *100, axis=1)"
   ]
  },
  {
   "cell_type": "markdown",
   "metadata": {},
   "source": [
    "Aquí podemos ver que de los pasajeros que sobrevivieron a la tragedia, el 40.68% correspondían a primera clase, el 35.67% a tercera clase y el 23.65% a segunda clase. Por tanto podríamos inferir que los pasajeros de primera clase tenían más posibilidades de sobrevivir.\n",
    "\n",
    "---\n",
    "\n",
    "Es más, también podríamos armar la tabla de porcentaje relativos en relación al total de cada clase de pasajero y así podríamos ver que de los pasajeros de primera clase, logró sobrevivir un 62.46%."
   ]
  },
  {
   "cell_type": "code",
   "execution_count": 14,
   "metadata": {},
   "outputs": [
    {
     "data": {
      "text/html": [
       "<div>\n",
       "<style scoped>\n",
       "    .dataframe tbody tr th:only-of-type {\n",
       "        vertical-align: middle;\n",
       "    }\n",
       "\n",
       "    .dataframe tbody tr th {\n",
       "        vertical-align: top;\n",
       "    }\n",
       "\n",
       "    .dataframe thead th {\n",
       "        text-align: right;\n",
       "    }\n",
       "</style>\n",
       "<table border=\"1\" class=\"dataframe\">\n",
       "  <thead>\n",
       "    <tr style=\"text-align: right;\">\n",
       "      <th>class</th>\n",
       "      <th>1st class</th>\n",
       "      <th>2nd class</th>\n",
       "      <th>3rd class</th>\n",
       "    </tr>\n",
       "    <tr>\n",
       "      <th>survived</th>\n",
       "      <th></th>\n",
       "      <th></th>\n",
       "      <th></th>\n",
       "    </tr>\n",
       "  </thead>\n",
       "  <tbody>\n",
       "    <tr>\n",
       "      <th>no</th>\n",
       "      <td>37.538462</td>\n",
       "      <td>58.596491</td>\n",
       "      <td>74.787535</td>\n",
       "    </tr>\n",
       "    <tr>\n",
       "      <th>yes</th>\n",
       "      <td>62.461538</td>\n",
       "      <td>41.403509</td>\n",
       "      <td>25.212465</td>\n",
       "    </tr>\n",
       "  </tbody>\n",
       "</table>\n",
       "</div>"
      ],
      "text/plain": [
       "class     1st class  2nd class  3rd class\n",
       "survived                                 \n",
       "no        37.538462  58.596491  74.787535\n",
       "yes       62.461538  41.403509  25.212465"
      ]
     },
     "execution_count": 14,
     "metadata": {},
     "output_type": "execute_result"
    }
   ],
   "source": [
    "# tabla de contingencia en porcentajes relativos segun clase\n",
    "pd.crosstab(index=titanic['survived'], columns=titanic['class']\n",
    "           ).apply(lambda r: r/r.sum() *100,\n",
    "                                axis=0)\n",
    "\n",
    "####### Como añadir otras clomnas a la tabla de contigencia\n",
    "\n",
    "#np.round(pd.crosstab(index=titanic['survived'], \n",
    "#                     columns=[titanic['class'],titanic['sex']],\n",
    "#                     margins=True).apply(lambda r: r/len(titanic) *100,axis=1),2) . Redondeado a 2 dig. sig.\n",
    "\n",
    "#pd.crosstab(index=titanic['survived'], \n",
    "#                     columns=[titanic['class'],titanic['sex']],\n",
    "#                     margins=True)"
   ]
  },
  {
   "cell_type": "markdown",
   "metadata": {},
   "source": [
    "Este último resultado lo podríamos representar visualmente con simples gráfico de barras del siguiente modo:"
   ]
  },
  {
   "cell_type": "code",
   "execution_count": 15,
   "metadata": {},
   "outputs": [
    {
     "data": {
      "image/png": "[encoded data removed]",
      "text/plain": [
       "<Figure size 432x288 with 1 Axes>"
      ]
     },
     "metadata": {
      "needs_background": "light"
     },
     "output_type": "display_data"
    }
   ],
   "source": [
    "# Gráfico de barras de sobreviviviente segun clase\n",
    "plot = pd.crosstab(index=titanic['class'],\n",
    "            columns=titanic['survived']).apply(lambda r: r/r.sum() *100,\n",
    "                                              axis=1).plot(kind='bar')"
   ]
  },
  {
   "cell_type": "code",
   "execution_count": 16,
   "metadata": {},
   "outputs": [
    {
     "data": {
      "image/png": "[encoded data removed]",
      "text/plain": [
       "<Figure size 432x288 with 1 Axes>"
      ]
     },
     "metadata": {
      "needs_background": "light"
     },
     "output_type": "display_data"
    }
   ],
   "source": [
    "# Gráfico de barras de sobreviviviente segun clase\n",
    "plot = pd.crosstab(index=titanic['survived'],\n",
    "            columns=titanic['class']\n",
    "                  ).apply(lambda r: r/r.sum() *100,\n",
    "                          axis=0).plot(kind='bar', stacked=True)"
   ]
  },
  {
   "cell_type": "markdown",
   "metadata": {},
   "source": [
    "## Estas mismas manipulaciones las podemos realizar para otro tipo de combinación de variables categóricas, como podría ser el sexo o la edad de los pasajeros, pero eso ya se los dejo a ustedes para que se entretengan y practiquen un rato."
   ]
  },
  {
   "cell_type": "markdown",
   "metadata": {},
   "source": [
    "---\n",
    "\n",
    "En esta sección, vamos a ver como podemos manipular, interpretar y obtener información de los datos cuantitativos.\n",
    "\n",
    "# Recordemos que las **variables cuantitativas** son variables medidas en una escala numérica. \n",
    "Altura, peso, tiempo de respuesta, la calificación subjetiva del dolor, la temperatura, y la puntuación en un examen, son ejemplos de variables cuantitativas. \n",
    "\n",
    "\n",
    "Las variables cuantitativas se distinguen de las variables categóricas (también llamadas cualitativas) como el color favorito, religión, ciudad de nacimiento, y el deporte favorito; en las que no hay un orden o medida involucrados."
   ]
  },
  {
   "cell_type": "markdown",
   "metadata": {},
   "source": [
    "### 2.1.6. Analizando datos cuantitativos con Python\n",
    "\n",
    "---\n",
    "\n",
    "Para los ejemplos de esta sección, vamos a trabajar con el dataset **faithful**, el cual consiste en una colección de observaciones sobre las erupciones del géiser Old Faithful en el parque nacional Yellowstone de los Estados Unidos. La información que contiene este dataset es la siguiente:\n"
   ]
  },
  {
   "cell_type": "code",
   "execution_count": 17,
   "metadata": {},
   "outputs": [
    {
     "data": {
      "text/html": [
       "<div>\n",
       "<style scoped>\n",
       "    .dataframe tbody tr th:only-of-type {\n",
       "        vertical-align: middle;\n",
       "    }\n",
       "\n",
       "    .dataframe tbody tr th {\n",
       "        vertical-align: top;\n",
       "    }\n",
       "\n",
       "    .dataframe thead th {\n",
       "        text-align: right;\n",
       "    }\n",
       "</style>\n",
       "<table border=\"1\" class=\"dataframe\">\n",
       "  <thead>\n",
       "    <tr style=\"text-align: right;\">\n",
       "      <th></th>\n",
       "      <th>eruptions</th>\n",
       "      <th>waiting</th>\n",
       "    </tr>\n",
       "  </thead>\n",
       "  <tbody>\n",
       "    <tr>\n",
       "      <th>1</th>\n",
       "      <td>3.600</td>\n",
       "      <td>79</td>\n",
       "    </tr>\n",
       "    <tr>\n",
       "      <th>2</th>\n",
       "      <td>1.800</td>\n",
       "      <td>54</td>\n",
       "    </tr>\n",
       "    <tr>\n",
       "      <th>3</th>\n",
       "      <td>3.333</td>\n",
       "      <td>74</td>\n",
       "    </tr>\n",
       "    <tr>\n",
       "      <th>4</th>\n",
       "      <td>2.283</td>\n",
       "      <td>62</td>\n",
       "    </tr>\n",
       "    <tr>\n",
       "      <th>5</th>\n",
       "      <td>4.533</td>\n",
       "      <td>85</td>\n",
       "    </tr>\n",
       "    <tr>\n",
       "      <th>...</th>\n",
       "      <td>...</td>\n",
       "      <td>...</td>\n",
       "    </tr>\n",
       "    <tr>\n",
       "      <th>268</th>\n",
       "      <td>4.117</td>\n",
       "      <td>81</td>\n",
       "    </tr>\n",
       "    <tr>\n",
       "      <th>269</th>\n",
       "      <td>2.150</td>\n",
       "      <td>46</td>\n",
       "    </tr>\n",
       "    <tr>\n",
       "      <th>270</th>\n",
       "      <td>4.417</td>\n",
       "      <td>90</td>\n",
       "    </tr>\n",
       "    <tr>\n",
       "      <th>271</th>\n",
       "      <td>1.817</td>\n",
       "      <td>46</td>\n",
       "    </tr>\n",
       "    <tr>\n",
       "      <th>272</th>\n",
       "      <td>4.467</td>\n",
       "      <td>74</td>\n",
       "    </tr>\n",
       "  </tbody>\n",
       "</table>\n",
       "<p>272 rows × 2 columns</p>\n",
       "</div>"
      ],
      "text/plain": [
       "     eruptions  waiting\n",
       "1        3.600       79\n",
       "2        1.800       54\n",
       "3        3.333       74\n",
       "4        2.283       62\n",
       "5        4.533       85\n",
       "..         ...      ...\n",
       "268      4.117       81\n",
       "269      2.150       46\n",
       "270      4.417       90\n",
       "271      1.817       46\n",
       "272      4.467       74\n",
       "\n",
       "[272 rows x 2 columns]"
      ]
     },
     "execution_count": 17,
     "metadata": {},
     "output_type": "execute_result"
    }
   ],
   "source": [
    "#En esta sección seguimos utilizando la paquetería de 'pydataset', en caso de ser necesario, \n",
    "#habilita y ejecuta las siguientes líneas de código\n",
    "\n",
    "#import matplotlib.pyplot as plt\n",
    "#import numpy as np\n",
    "#import pandas as pd\n",
    "#import seaborn as sns\n",
    "#!pip install pydataset\n",
    "#from pydataset import data\n",
    "#%matplotlib inline \n",
    "\n",
    "faithful = data('faithful')\n",
    "faithful"
   ]
  },
  {
   "cell_type": "markdown",
   "metadata": {},
   "source": [
    "Como podemos ver, faithful es un dataset bastante simple que solo contiene observaciones de dos variables; la primera, que se llama eruptions, contiene la información de la duración de la erupción del géiser; mientras que la segunda, se llama waiting y contiene la información sobre el tiempo de espera para la siguiente erupción del géiser.\n",
    "\n",
    "---\n",
    "\n",
    "Al igual de como comentábamos cuando analizamos datos categóricos, lo primero que deberíamos intentar hacer es crear una imagen que represente de la mejor manera posible a nuestros datos, ya que nuestro cerebro tiende a procesar mejor la información visual. Para el caso de las variables cuantitativas, un buen candidato para comenzar a hacernos una imagen de lo que nuestros datos representan, son los **histogramas**.\n",
    "\n",
    "### 2.1.7. Histogramas\n",
    "\n",
    "---\n",
    "\n",
    "Para las variables cuantitativas, a diferencia de lo que pasaba con las variables categóricas, no existe una forma obvia de agrupar los datos; por tal motivo lo que se suele hacer es, dividir los posibles valores en diferentes contenedores del mismo tamaño y luego contar el número de casos que cae dentro de cada uno de los contenedores. \n",
    "\n",
    "\n",
    "Estos contenedores junto con sus recuentos, nos proporcionan una imagen de la distribución de la variable cuantitativa y constituyen la base para poder graficar el histograma. \n",
    "\n",
    "\n",
    "Para construir el gráfico, simplemente debemos representar a los recuentos como barras y graficarlas contra los valores de cada uno de los contenedores.\n",
    "\n",
    "\n",
    "**Con Python podemos representar fácilmente el histograma de la variable eruptions utilizando el método *hist* del DataFrame de *Pandas* del siguiente modo**:"
   ]
  },
  {
   "cell_type": "code",
   "execution_count": 18,
   "metadata": {},
   "outputs": [
    {
     "data": {
      "image/png": "[encoded data removed]",
      "text/plain": [
       "<Figure size 432x288 with 1 Axes>"
      ]
     },
     "metadata": {
      "needs_background": "light"
     },
     "output_type": "display_data"
    }
   ],
   "source": [
    "# histograma duración de erupciones con 8 barras\n",
    "faithful['eruptions'].hist(bins=8) \n",
    "plt.xlabel(\"Duración en minutos\")\n",
    "plt.ylabel(\"Frecuencia\")\n",
    "plt.show()"
   ]
  },
  {
   "cell_type": "markdown",
   "metadata": {},
   "source": [
    "---\n",
    "\n",
    "Como podemos ver con este gráfico, la duración más frecuente de las erupciones del géiser ronda en alrededor de cuatro minutos y medio. Una cosa que debemos hacer notar es que en los histogramas, los contenedores dividen a todos los valores de la variable cuantitativa, por lo que no deberíamos encontrar espacios entre las barras (a diferencia de lo que pasaba con los gráficos de barras que vimos en el artículo anterior). \n",
    "\n",
    "\n",
    "Cualquier espacio entre las barras es una brecha en los datos, que nos indica un región para la que no existen valores.\n",
    "\n",
    "---\n",
    "\n",
    "### 2.1.8. Distribución de frecuencia\n",
    "---\n",
    "\n",
    "Un tema íntimamente relacionado con los histogramas son las tablas de distribución de frecuencia, en definitiva los histogramas no son más que gráficos de tablas de distribución de frecuencia. La distribución de frecuencia de una variable cuantitativa consiste en un resumen de la ocurrencia de un dato dentro de una colección de categorías que no se superponen.\n",
    "\n",
    "Estas categorías las vamos a poder armar según nuestra conveniencia y lo que queramos analizar. Por ejemplo si quisiéramos armar la distribución de frecuencia de la variable eruptions podríamos realizar las siguiente manipulaciones con Pandas:"
   ]
  },
  {
   "cell_type": "code",
   "execution_count": 19,
   "metadata": {},
   "outputs": [
    {
     "data": {
      "text/plain": [
       "(4.0, 4.5]    75\n",
       "(1.5, 2.0]    55\n",
       "(4.5, 5.0]    54\n",
       "(2.0, 2.5]    37\n",
       "(3.5, 4.0]    34\n",
       "(3.0, 3.5]     9\n",
       "(2.5, 3.0]     5\n",
       "(5.0, 5.5]     3\n",
       "Name: eruptions, dtype: int64"
      ]
     },
     "execution_count": 19,
     "metadata": {},
     "output_type": "execute_result"
    }
   ],
   "source": [
    "# Distribución de frecuencia.\n",
    "# 1ro creamos un rango para las categorías.\n",
    "contenedores = np.arange(1.5, 6., 0.5)\n",
    "\n",
    "# luego cortamos los datos en cada contenedor \n",
    "frec = pd.cut(faithful['eruptions'], contenedores)\n",
    "\n",
    "# por último hacemos el recuento de los contenedores\n",
    "# para armar la tabla de frecuencia.\n",
    "tabla_frec = pd.value_counts(frec)\n",
    "tabla_frec"
   ]
  },
  {
   "cell_type": "markdown",
   "metadata": {},
   "source": [
    "Como nos nuestra esta tabla de distribución de frecuencia, la duración que más veces ocurre para las erupciones, se encuentran en el rango de 4 a 4.5 minutos.\n",
    "\n",
    "---\n",
    "\n",
    "### 2.1.9. Diagrama de dispersión\n",
    "---\n",
    "\n",
    "Hasta aquí venimos graficando únicamente una sola variable cuantitativa pero **¿qué pasa si queremos trabajar con dos variables?** Para estos casos existe el diagrama de dispersión. \n",
    "\n",
    "El *diagrama de dispersión* es una de las formas más comunes que existen para visualizar datos y constituye una de las mejores forma de observar relaciones entre dos variables cuantitativas. \n",
    "\n",
    "Veremos que se puede observar un montón de cosas por el solo hecho de mirar. \n",
    "\n",
    "---\n",
    "Este diagrama es una de las mejores formas de visualizar las asociaciones que pueden existir entre nuestros datos.\n",
    "\n",
    "El diagrama de dispersión empareja los valores de dos variables cuantitativas y luego los representa como puntos geométricos dentro de un diagrama cartesiano. \n",
    "\n",
    "Por ejemplo, volviendo a nuestro dataset faithful, podríamos emparejar a las variables eruptions y waiting en la misma observación como coordenadas (x, y) y luego graficarlas en el eje cartesiano. \n",
    "\n",
    "Con la ayuda de Python podríamos generar el diagrama de dispersión del siguiente modo:"
   ]
  },
  {
   "cell_type": "code",
   "execution_count": 20,
   "metadata": {},
   "outputs": [
    {
     "data": {
      "image/png": "[encoded data removed]",
      "text/plain": [
       "<Figure size 432x288 with 1 Axes>"
      ]
     },
     "metadata": {
      "needs_background": "light"
     },
     "output_type": "display_data"
    }
   ],
   "source": [
    "# diagrama de dispersión\n",
    "disp= faithful.plot(kind='scatter', x='eruptions', y='waiting')"
   ]
  },
  {
   "cell_type": "markdown",
   "metadata": {},
   "source": [
    "Como podemos ver con solo observar la dispersión de los datos parece existir una relación lineal entre los datos de este dataset...."
   ]
  },
  {
   "cell_type": "markdown",
   "metadata": {},
   "source": [
    "---\n",
    "---\n",
    "---\n",
    "<a id=\"b\"></a>\n",
    "<h1><center>2.2. Medidas Principales</center></h1>\n",
    "\n",
    "[Regreso a contenido](#contenido)\n",
    "\n",
    "\n",
    "## [Tendencia Central](https://es.wikipedia.org/wiki/Medidas_de_tendencia_central)  y [Dispersión](https://es.wikipedia.org/wiki/Medidas_de_dispersi%C3%B3n) \n",
    "\n",
    "---\n",
    "Una vez que ya nos dimos una buena idea visual de como se distribuyen los datos y de las relaciones que pueden existir entre los mismos, podemos pasar a calcular medidas numéricas propias de la estadística descriptiva. \n",
    "\n",
    "En general, suele ser interesante conocer cual puede ser el promedio o valor central al que tiende la distribución de nuestros datos, para esto se utilizan las medidas de tendencia central, entre las que podemos encontrar a:\n",
    "   * La media aritmética\n",
    "   * La media geométrica\n",
    "   * La media armónica\n",
    "   * La mediana\n",
    "   * La media truncada (o trimedia)\n",
    "   * La moda\n",
    "\n",
    "---------\n",
    "\n",
    "Por un lado, la Media corresponde al punto de equilibrio que toma en cuenta la ubicación y el peso de cada dato. Mientras que la Mediana solo toma en cuenta la ubicación, correspondiendo al percentil 50, es decir, divide la muestra en dos grupos con igual cantidad de datos. Por otro lado, la Moda representa el punto de mayor concentración de datos en una muestra, pudiéndose incluso obtener varias modas.\n",
    "\n",
    "--------\n",
    "\n",
    "\n",
    "Veamos como podemos calcularlas con Python:"
   ]
  },
  {
   "cell_type": "markdown",
   "metadata": {},
   "source": [
    "### 2.2.1. Media aritmética\n",
    "---\n",
    "La media aritmética es el valor obtenido al sumar todos los datos y dividir el resultado entre el número total elementos. La calculamos con el método mean."
   ]
  },
  {
   "cell_type": "code",
   "execution_count": 21,
   "metadata": {},
   "outputs": [
    {
     "data": {
      "text/plain": [
       "3.4877830882352936"
      ]
     },
     "execution_count": 21,
     "metadata": {},
     "output_type": "execute_result"
    }
   ],
   "source": [
    "# media de variable eruptions\n",
    "faithful['eruptions'].mean()\n",
    "\n",
    "## para el cálculo de la mediana se deben ordenar los datos de forma ascendente o descendente\n",
    "# np.sort(faithful['eruptions'])"
   ]
  },
  {
   "cell_type": "markdown",
   "metadata": {},
   "source": [
    "### 2.2.2. Media geométrica\n",
    "---\n",
    "La media geométrica es útil cuando queremos comparar cosas con propiedades muy diferentes; también es recomendada para datos de progresión geométrica, para promediar razones, interés compuesto. Se calcula tomando la raíz n-ésima del producto de todos los datos. La calculamos con la función gmean de SciPy."
   ]
  },
  {
   "cell_type": "code",
   "execution_count": 22,
   "metadata": {},
   "outputs": [
    {
     "data": {
      "text/plain": [
       "3.2713131325361786"
      ]
     },
     "execution_count": 22,
     "metadata": {},
     "output_type": "execute_result"
    }
   ],
   "source": [
    "from scipy.stats import gmean \n",
    "# media geométrica\n",
    "gmean(faithful['eruptions'])"
   ]
  },
  {
   "cell_type": "markdown",
   "metadata": {},
   "source": [
    "### 2.2.3. Media armónica\n",
    "---\n",
    "La media armónica promedia el número de elementos y los divide por la suma de sus inversos. La media armónica es siempre la media más baja y es recomendada para promediar velocidades. La calculamos con la función hmean de SciPy."
   ]
  },
  {
   "cell_type": "code",
   "execution_count": 23,
   "metadata": {},
   "outputs": [
    {
     "data": {
      "text/plain": [
       "3.038933049947261"
      ]
     },
     "execution_count": 23,
     "metadata": {},
     "output_type": "execute_result"
    }
   ],
   "source": [
    "from scipy.stats import hmean \n",
    "# media armónica\n",
    "hmean(faithful['eruptions'])"
   ]
  },
  {
   "cell_type": "markdown",
   "metadata": {},
   "source": [
    "### 2.2.4. Mediana\n",
    "---\n",
    "La mediana representa el valor de posición central en un conjunto de datos ordenados. La podemos calcular utilizando el método median de Pandas:"
   ]
  },
  {
   "cell_type": "code",
   "execution_count": 24,
   "metadata": {},
   "outputs": [
    {
     "data": {
      "text/plain": [
       "4.0"
      ]
     },
     "execution_count": 24,
     "metadata": {},
     "output_type": "execute_result"
    }
   ],
   "source": [
    "# mediana\n",
    "faithful['eruptions'].median()"
   ]
  },
  {
   "cell_type": "markdown",
   "metadata": {},
   "source": [
    "### 2.2.5. Media truncada (Trimedia)\n",
    "---\n",
    "La media truncada es una *mezcla* entre la media aritmética y la mediana. Para calcular el promedio previamente se descartan porciones en el extremo inferior y superior de la distribución de los datos. En Python podemos utilizar la función trim_mean de SciPy."
   ]
  },
  {
   "cell_type": "code",
   "execution_count": 25,
   "metadata": {},
   "outputs": [
    {
     "data": {
      "text/plain": [
       "3.5298073394495413"
      ]
     },
     "execution_count": 25,
     "metadata": {},
     "output_type": "execute_result"
    }
   ],
   "source": [
    "from scipy.stats import trim_mean \n",
    "# media truncada, recortando el 10 superior e inferior\n",
    "trim_mean(faithful['eruptions'], .10)"
   ]
  },
  {
   "cell_type": "markdown",
   "metadata": {},
   "source": [
    "### 2.2.6. Moda\n",
    "---\n",
    "Por último, la moda es el valor que tiene mayor frecuencia absoluta. Son los picos que vemos en el histograma. Dependiendo de la la distribución de los datos puede existir más de una, como en el caso de la variable eruptions. La calculamos con el método mode."
   ]
  },
  {
   "cell_type": "code",
   "execution_count": 26,
   "metadata": {},
   "outputs": [
    {
     "data": {
      "text/plain": [
       "0    1.867\n",
       "1    4.500\n",
       "dtype: float64"
      ]
     },
     "execution_count": 26,
     "metadata": {},
     "output_type": "execute_result"
    }
   ],
   "source": [
    "# moda\n",
    "faithful['eruptions'].mode()\n",
    "\n",
    "#from scipy.stats import mode\n",
    "#mode(faithful['eruptions'])"
   ]
  },
  {
   "cell_type": "markdown",
   "metadata": {},
   "source": [
    "---\n",
    "---\n",
    "---\n",
    "<a id=\"c\"></a>\n",
    "<h1><center>2.3. Medidas de dispersión</center></h1>\n",
    "\n",
    "[Regreso a contenido](#contenido)\n",
    "\n",
    "---\n",
    "Las medidas de tendencia central no son las únicas medidas de resumen estadístico que podemos calcular; otras medidas también de gran importancia son las **medidas de dispersión**. \n",
    "\n",
    "Las medidas de dispersión, también llamadas medidas de variabilidad, muestran la variabilidad de una distribución, indicando por medio de un número si las diferentes puntuaciones de una variable están muy alejadas de la media. Cuanto mayor sea ese valor, mayor será la variabilidad, y cuanto menor sea, más homogénea será a la media.\n",
    "\n",
    "---\n",
    "Así se sabe si todos los casos son parecidos o varían mucho entre ellos. Las principales medidas de dispersión son:\n",
    "   * Varianza\n",
    "   * Desviación estándar\n",
    "   * Cuartiles\n",
    "   * Covarianza\n",
    "   * Coeficiente de correlación\n",
    "\n",
    "\n",
    "Analicemos cada uno de ellos:"
   ]
  },
  {
   "cell_type": "markdown",
   "metadata": {},
   "source": [
    "### 2.3.1. Varianza\n",
    "---\n",
    "La varianza intenta describir la dispersión de los datos. Se define como la esperanza del cuadrado de la desviación de dicha variable respecto a su media. \n",
    "\n",
    "Una varianza pequeña indica que los puntos de datos tienden a estar muy cerca de la media y por lo tanto el uno al otro, mientras que una varianza alta indica que los puntos de datos están muy distribuidos alrededor de la media y la una de la otra. \n",
    "\n",
    "La podemos calcular con el método var."
   ]
  },
  {
   "cell_type": "code",
   "execution_count": 27,
   "metadata": {},
   "outputs": [
    {
     "data": {
      "text/plain": [
       "1.3027283328494672"
      ]
     },
     "execution_count": 27,
     "metadata": {},
     "output_type": "execute_result"
    }
   ],
   "source": [
    "# varianza\n",
    "faithful['eruptions'].var()"
   ]
  },
  {
   "cell_type": "markdown",
   "metadata": {},
   "source": [
    "### 2.3.2. Desviación estándar\n",
    "---\n",
    "La desviación estandar o desviación típica es una medida que se utiliza para cuantificar la cantidad de variación o dispersión de un conjunto de valores de datos. \n",
    "\n",
    "Un desvío estándar cerca de 0 indica que los puntos de datos tienden a estar muy cerca de la media del conjunto, mientras que un alto desvío estándar indica que los puntos de datos se extienden a lo largo de un rango amplio de valores. \n",
    "\n",
    "Se calcula como la raíz cuadrada de la varianza y con Pandas lo podemos obtener con el método std."
   ]
  },
  {
   "cell_type": "code",
   "execution_count": 28,
   "metadata": {},
   "outputs": [
    {
     "data": {
      "text/plain": [
       "1.1413712511052077"
      ]
     },
     "execution_count": 28,
     "metadata": {},
     "output_type": "execute_result"
    }
   ],
   "source": [
    "# desvio estándar\n",
    "faithful['eruptions'].std()"
   ]
  },
  {
   "cell_type": "markdown",
   "metadata": {},
   "source": [
    "### 2.3.3. Cuartiles\n",
    "---\n",
    "Los cuartiles son los tres puntos que dividen el conjunto de datos en cuatro grupos iguales, cada grupo comprende un cuarto de los datos.El (Q1) se define como el número medio entre el número más pequeño y la mediana del conjunto de datos. El segundo cuartil (Q2) es la mediana de los datos. El tercer cuartil (Q3) es el valor medio entre la mediana y el valor más alto del conjunto de datos. Para dividir nuestro dataset en sus cuartiles utilizamos el método quantile."
   ]
  },
  {
   "cell_type": "code",
   "execution_count": 29,
   "metadata": {},
   "outputs": [
    {
     "data": {
      "text/plain": [
       "0.25    2.16275\n",
       "0.50    4.00000\n",
       "0.75    4.45425\n",
       "Name: eruptions, dtype: float64"
      ]
     },
     "execution_count": 29,
     "metadata": {},
     "output_type": "execute_result"
    }
   ],
   "source": [
    "# cuartiles\n",
    "faithful['eruptions'].quantile([.25, .5, .75])"
   ]
  },
  {
   "cell_type": "markdown",
   "metadata": {},
   "source": [
    "Un gráfico relacionado a los cuartiles y describe varias características importantes al mismo tiempo, tales como la dispersión y simetría es el **diagrama de caja**. \n",
    "\n",
    "Para su realización se representan los tres cuartiles y los valores mínimo y máximo de los datos, sobre un rectángulo, alineado horizontal o verticalmente. Podemos utilizar la función boxplot de Seaborn para generarlo."
   ]
  },
  {
   "cell_type": "code",
   "execution_count": 30,
   "metadata": {},
   "outputs": [
    {
     "name": "stderr",
     "output_type": "stream",
     "text": [
      "C:\\Anaconda3\\lib\\site-packages\\seaborn\\_decorators.py:43: FutureWarning: Pass the following variable as a keyword arg: x. From version 0.12, the only valid positional argument will be `data`, and passing other arguments without an explicit keyword will result in an error or misinterpretation.\n",
      "  FutureWarning\n"
     ]
    },
    {
     "data": {
      "image/png": "[encoded data removed]",
      "text/plain": [
       "<Figure size 432x288 with 1 Axes>"
      ]
     },
     "metadata": {
      "needs_background": "light"
     },
     "output_type": "display_data"
    }
   ],
   "source": [
    "# diagrama de cajas\n",
    "cajas=sns.boxplot(list(faithful['eruptions']))"
   ]
  },
  {
   "cell_type": "code",
   "execution_count": 31,
   "metadata": {},
   "outputs": [
    {
     "name": "stderr",
     "output_type": "stream",
     "text": [
      "C:\\Anaconda3\\lib\\site-packages\\seaborn\\_decorators.py:43: FutureWarning: Pass the following variable as a keyword arg: x. From version 0.12, the only valid positional argument will be `data`, and passing other arguments without an explicit keyword will result in an error or misinterpretation.\n",
      "  FutureWarning\n"
     ]
    },
    {
     "data": {
      "image/png": "[encoded data removed]",
      "text/plain": [
       "<Figure size 432x288 with 1 Axes>"
      ]
     },
     "metadata": {
      "needs_background": "light"
     },
     "output_type": "display_data"
    }
   ],
   "source": [
    "# diagrama de cajas\n",
    "cajas=sns.violinplot(list(faithful['eruptions']))"
   ]
  },
  {
   "cell_type": "markdown",
   "metadata": {},
   "source": [
    "Hasta aquí hemos calculado medidas de dispersión para una sola variable, pero nuestro dataset tiene dos variables cuantitativas; veamos como podemos calcular medidas combinadas para la dos variables."
   ]
  },
  {
   "cell_type": "markdown",
   "metadata": {},
   "source": [
    "#### Cuartiles y diagramas de cajas\n",
    "---\n",
    "Los cuartiles son los tres valores de la variable estadística que dividen a un conjunto de datos ordenados en cuatro partes iguales. Q1, Q2 y Q3 determinan los valores correspondientes al 25%, al 50% y al 75% de los datos. Q2 coincide con la mediana.\n",
    "\n",
    "Los diagramas de cajas son una presentación visual que describe varias características importantes al mismo tiempo, tales como la dispersión y simetría. Para su realización se representan los tres cuartiles y los valores mínimo y máximo de los datos, sobre un rectángulo, alineado horizontal o verticalmente. Estos gráficos nos proporcionan abundante información y son sumamente útiles para encontrar valores atípicos y comparar dos conjunto de datos."
   ]
  },
  {
   "cell_type": "markdown",
   "metadata": {},
   "source": [
    "![alt text](https://es.justexw.com/wp-content/uploads/sites/2/diagrama-de-caja-ejemplo.jpg)"
   ]
  },
  {
   "cell_type": "code",
   "execution_count": 32,
   "metadata": {},
   "outputs": [
    {
     "data": {
      "image/png": "[encoded data removed]",
      "text/plain": [
       "<Figure size 648x432 with 1 Axes>"
      ]
     },
     "metadata": {
      "needs_background": "light"
     },
     "output_type": "display_data"
    }
   ],
   "source": [
    "# Ejemplo de grafico de cajas en python\n",
    "\n",
    "datos_1 = np.random.normal(100, 10, 200)\n",
    "datos_2 = np.random.normal(80, 30, 200)\n",
    "datos_3 = np.random.normal(90, 20, 200)\n",
    "datos_4 = np.random.normal(70, 25, 200)\n",
    "\n",
    "datos_graf = [datos_1, datos_2, datos_3, datos_4]\n",
    "\n",
    "# Creando el objeto figura\n",
    "fig = plt.figure(1, figsize=(9, 6))\n",
    "\n",
    "# Creando el subgrafico\n",
    "ax = fig.add_subplot(111)\n",
    "\n",
    "# creando el grafico de cajas\n",
    "bp = ax.boxplot(datos_graf)\n",
    "\n",
    "# visualizar mas facile los atípicos\n",
    "for flier in bp['fliers']:\n",
    "    flier.set(marker='o', color='red', alpha=0.5)\n",
    "# los puntos aislados son valores atípicos"
   ]
  },
  {
   "cell_type": "markdown",
   "metadata": {},
   "source": [
    "#### Regresiones\n",
    "---\n",
    "Las regresiones es una de las herramientas principales de la estadistica inferencial. El objetivo del análisis de regresión es describir la relación entre un conjunto de variables, llamadas variables dependientes, y otro conjunto de variables, llamadas variables independientes o explicativas. \n",
    "\n",
    "Más específicamente, el análisis de regresión ayuda a entender cómo el valor típico de la variable dependiente cambia cuando cualquiera de las variables independientes es cambiada, mientras que se mantienen las otras variables independientes fijas.\n",
    "\n",
    "El producto final del análisis de regresión es la estimación de una función de las variables independientes llamada la función de regresión. \n",
    "\n",
    "**La idea es que en base a esta función de regresión podamos hacer estimaciones sobre eventos futuros**.\n",
    "\n",
    "---\n",
    "La regresión lineal es una de las técnicas más simples y mayormente utilizadas en los análisis de regresiones. Hace suposiciones muy rígidas sobre la relación entre la variable dependiente y y variable independiente x. Asume que la relación va a tomar la forma: $y=β0+β1∗x$\n",
    "\n",
    "---\n",
    "Uno de los métodos más populares para realizar regresiones lineales es el de mínimos cuadrados ordinarios (OLS, por sus siglas en inglés), este método es el estimador más simple y común en la que los dos βs se eligen para minimizar el cuadrado de la distancia entre los valores estimados y los valores reales."
   ]
  },
  {
   "cell_type": "markdown",
   "metadata": {},
   "source": [
    "Veamos un pequeño ejemplo utilizando el dataset longley, el cual es ideal para realizar regresiones:"
   ]
  },
  {
   "cell_type": "code",
   "execution_count": 33,
   "metadata": {},
   "outputs": [
    {
     "data": {
      "text/html": [
       "<div>\n",
       "<style scoped>\n",
       "    .dataframe tbody tr th:only-of-type {\n",
       "        vertical-align: middle;\n",
       "    }\n",
       "\n",
       "    .dataframe tbody tr th {\n",
       "        vertical-align: top;\n",
       "    }\n",
       "\n",
       "    .dataframe thead th {\n",
       "        text-align: right;\n",
       "    }\n",
       "</style>\n",
       "<table border=\"1\" class=\"dataframe\">\n",
       "  <thead>\n",
       "    <tr style=\"text-align: right;\">\n",
       "      <th></th>\n",
       "      <th>GNP.deflator</th>\n",
       "      <th>GNP</th>\n",
       "      <th>Unemployed</th>\n",
       "      <th>Armed.Forces</th>\n",
       "      <th>Population</th>\n",
       "      <th>Year</th>\n",
       "      <th>Employed</th>\n",
       "    </tr>\n",
       "  </thead>\n",
       "  <tbody>\n",
       "    <tr>\n",
       "      <th>1947</th>\n",
       "      <td>83.0</td>\n",
       "      <td>234.289</td>\n",
       "      <td>235.6</td>\n",
       "      <td>159.0</td>\n",
       "      <td>107.608</td>\n",
       "      <td>1947</td>\n",
       "      <td>60.323</td>\n",
       "    </tr>\n",
       "    <tr>\n",
       "      <th>1948</th>\n",
       "      <td>88.5</td>\n",
       "      <td>259.426</td>\n",
       "      <td>232.5</td>\n",
       "      <td>145.6</td>\n",
       "      <td>108.632</td>\n",
       "      <td>1948</td>\n",
       "      <td>61.122</td>\n",
       "    </tr>\n",
       "    <tr>\n",
       "      <th>1949</th>\n",
       "      <td>88.2</td>\n",
       "      <td>258.054</td>\n",
       "      <td>368.2</td>\n",
       "      <td>161.6</td>\n",
       "      <td>109.773</td>\n",
       "      <td>1949</td>\n",
       "      <td>60.171</td>\n",
       "    </tr>\n",
       "    <tr>\n",
       "      <th>1950</th>\n",
       "      <td>89.5</td>\n",
       "      <td>284.599</td>\n",
       "      <td>335.1</td>\n",
       "      <td>165.0</td>\n",
       "      <td>110.929</td>\n",
       "      <td>1950</td>\n",
       "      <td>61.187</td>\n",
       "    </tr>\n",
       "    <tr>\n",
       "      <th>1951</th>\n",
       "      <td>96.2</td>\n",
       "      <td>328.975</td>\n",
       "      <td>209.9</td>\n",
       "      <td>309.9</td>\n",
       "      <td>112.075</td>\n",
       "      <td>1951</td>\n",
       "      <td>63.221</td>\n",
       "    </tr>\n",
       "  </tbody>\n",
       "</table>\n",
       "</div>"
      ],
      "text/plain": [
       "      GNP.deflator      GNP  Unemployed  Armed.Forces  Population  Year  \\\n",
       "1947          83.0  234.289       235.6         159.0     107.608  1947   \n",
       "1948          88.5  259.426       232.5         145.6     108.632  1948   \n",
       "1949          88.2  258.054       368.2         161.6     109.773  1949   \n",
       "1950          89.5  284.599       335.1         165.0     110.929  1950   \n",
       "1951          96.2  328.975       209.9         309.9     112.075  1951   \n",
       "\n",
       "      Employed  \n",
       "1947    60.323  \n",
       "1948    61.122  \n",
       "1949    60.171  \n",
       "1950    61.187  \n",
       "1951    63.221  "
      ]
     },
     "execution_count": 33,
     "metadata": {},
     "output_type": "execute_result"
    }
   ],
   "source": [
    "# importando la api de statsmodels\n",
    "import statsmodels.formula.api as smf\n",
    "import statsmodels.api as sm\n",
    "\n",
    "# Creando un DataFrame de pandas.\n",
    "df = pd.read_csv('https://vincentarelbundock.github.io/Rdatasets/csv/datasets/longley.csv', index_col=0)\n",
    "df.head() # longley dataset"
   ]
  },
  {
   "cell_type": "code",
   "execution_count": 34,
   "metadata": {},
   "outputs": [
    {
     "name": "stderr",
     "output_type": "stream",
     "text": [
      "C:\\Anaconda3\\lib\\site-packages\\scipy\\stats\\stats.py:1535: UserWarning: kurtosistest only valid for n>=20 ... continuing anyway, n=16\n",
      "  \"anyway, n=%i\" % int(n))\n"
     ]
    },
    {
     "data": {
      "text/html": [
       "<table class=\"simpletable\">\n",
       "<caption>OLS Regression Results</caption>\n",
       "<tr>\n",
       "  <th>Dep. Variable:</th>        <td>Employed</td>     <th>  R-squared:         </th> <td>   0.967</td>\n",
       "</tr>\n",
       "<tr>\n",
       "  <th>Model:</th>                   <td>OLS</td>       <th>  Adj. R-squared:    </th> <td>   0.965</td>\n",
       "</tr>\n",
       "<tr>\n",
       "  <th>Method:</th>             <td>Least Squares</td>  <th>  F-statistic:       </th> <td>   415.1</td>\n",
       "</tr>\n",
       "<tr>\n",
       "  <th>Date:</th>             <td>Fri, 12 Feb 2021</td> <th>  Prob (F-statistic):</th> <td>8.36e-12</td>\n",
       "</tr>\n",
       "<tr>\n",
       "  <th>Time:</th>                 <td>10:58:29</td>     <th>  Log-Likelihood:    </th> <td> -14.904</td>\n",
       "</tr>\n",
       "<tr>\n",
       "  <th>No. Observations:</th>      <td>    16</td>      <th>  AIC:               </th> <td>   33.81</td>\n",
       "</tr>\n",
       "<tr>\n",
       "  <th>Df Residuals:</th>          <td>    14</td>      <th>  BIC:               </th> <td>   35.35</td>\n",
       "</tr>\n",
       "<tr>\n",
       "  <th>Df Model:</th>              <td>     1</td>      <th>                     </th>     <td> </td>   \n",
       "</tr>\n",
       "<tr>\n",
       "  <th>Covariance Type:</th>      <td>nonrobust</td>    <th>                     </th>     <td> </td>   \n",
       "</tr>\n",
       "</table>\n",
       "<table class=\"simpletable\">\n",
       "<tr>\n",
       "      <td></td>         <th>coef</th>     <th>std err</th>      <th>t</th>      <th>P>|t|</th>  <th>[0.025</th>    <th>0.975]</th>  \n",
       "</tr>\n",
       "<tr>\n",
       "  <th>Intercept</th> <td>   51.8436</td> <td>    0.681</td> <td>   76.087</td> <td> 0.000</td> <td>   50.382</td> <td>   53.305</td>\n",
       "</tr>\n",
       "<tr>\n",
       "  <th>GNP</th>       <td>    0.0348</td> <td>    0.002</td> <td>   20.374</td> <td> 0.000</td> <td>    0.031</td> <td>    0.038</td>\n",
       "</tr>\n",
       "</table>\n",
       "<table class=\"simpletable\">\n",
       "<tr>\n",
       "  <th>Omnibus:</th>       <td> 1.925</td> <th>  Durbin-Watson:     </th> <td>   1.619</td>\n",
       "</tr>\n",
       "<tr>\n",
       "  <th>Prob(Omnibus):</th> <td> 0.382</td> <th>  Jarque-Bera (JB):  </th> <td>   1.215</td>\n",
       "</tr>\n",
       "<tr>\n",
       "  <th>Skew:</th>          <td> 0.664</td> <th>  Prob(JB):          </th> <td>   0.545</td>\n",
       "</tr>\n",
       "<tr>\n",
       "  <th>Kurtosis:</th>      <td> 2.759</td> <th>  Cond. No.          </th> <td>1.66e+03</td>\n",
       "</tr>\n",
       "</table><br/><br/>Warnings:<br/>[1] Standard Errors assume that the covariance matrix of the errors is correctly specified.<br/>[2] The condition number is large, 1.66e+03. This might indicate that there are<br/>strong multicollinearity or other numerical problems."
      ],
      "text/plain": [
       "<class 'statsmodels.iolib.summary.Summary'>\n",
       "\"\"\"\n",
       "                            OLS Regression Results                            \n",
       "==============================================================================\n",
       "Dep. Variable:               Employed   R-squared:                       0.967\n",
       "Model:                            OLS   Adj. R-squared:                  0.965\n",
       "Method:                 Least Squares   F-statistic:                     415.1\n",
       "Date:                Fri, 12 Feb 2021   Prob (F-statistic):           8.36e-12\n",
       "Time:                        10:58:29   Log-Likelihood:                -14.904\n",
       "No. Observations:                  16   AIC:                             33.81\n",
       "Df Residuals:                      14   BIC:                             35.35\n",
       "Df Model:                           1                                         \n",
       "Covariance Type:            nonrobust                                         \n",
       "==============================================================================\n",
       "                 coef    std err          t      P>|t|      [0.025      0.975]\n",
       "------------------------------------------------------------------------------\n",
       "Intercept     51.8436      0.681     76.087      0.000      50.382      53.305\n",
       "GNP            0.0348      0.002     20.374      0.000       0.031       0.038\n",
       "==============================================================================\n",
       "Omnibus:                        1.925   Durbin-Watson:                   1.619\n",
       "Prob(Omnibus):                  0.382   Jarque-Bera (JB):                1.215\n",
       "Skew:                           0.664   Prob(JB):                        0.545\n",
       "Kurtosis:                       2.759   Cond. No.                     1.66e+03\n",
       "==============================================================================\n",
       "\n",
       "Warnings:\n",
       "[1] Standard Errors assume that the covariance matrix of the errors is correctly specified.\n",
       "[2] The condition number is large, 1.66e+03. This might indicate that there are\n",
       "strong multicollinearity or other numerical problems.\n",
       "\"\"\""
      ]
     },
     "execution_count": 34,
     "metadata": {},
     "output_type": "execute_result"
    }
   ],
   "source": [
    "# utilizando la api de formula de statsmodels\n",
    "est = smf.ols(formula='Employed ~ GNP', data=df).fit()\n",
    "est.summary() # Employed se estima en base a GNP."
   ]
  },
  {
   "cell_type": "markdown",
   "metadata": {},
   "source": [
    "Como podemos ver, el resumen que nos brinda statsmodels sobre nuestro modelo de regresión contiene bastante información sobre como se ajuste el modelo a los datos. Pasemos a explicar algunos de estos valores:\n",
    "\n",
    "\n",
    "   * Dep. Variable: es la variable que estamos estimasdo.\n",
    "   * Model: es el modelo que estamos utilizando.\n",
    "   * R-squared: es el coeficiente de determinación, el cual mide cuan bien nuestra recta de regresion se aproxima a los datos reales.\n",
    "   * Adj. R-squared: es el coeficiente anterior ajustado según el número de observaciones.\n",
    "   * [95.0% Conf. Int.]: Los valores inferior y superior del intervalo de confianza del 95%.\n",
    "   * coef: el valor estimado del coeficiente.\n",
    "   * std err: el error estándar de la estimación del coeficiente.\n",
    "   * Skew: una medida de la asimetria de los datos sobre la media.\n",
    "   * Kurtosis: Una medida de la forma de la distribución. La curtosis compara la cantidad de datos cerca de la media con los que están más lejos de la media(en las colas).\n"
   ]
  },
  {
   "cell_type": "code",
   "execution_count": 35,
   "metadata": {},
   "outputs": [
    {
     "data": {
      "image/png": "[encoded data removed]",
      "text/plain": [
       "<Figure size 432x288 with 1 Axes>"
      ]
     },
     "metadata": {
      "needs_background": "light"
     },
     "output_type": "display_data"
    }
   ],
   "source": [
    "# grafico de regresion. que tanto se ajusta el modelo a los datos.\n",
    "y = df.Employed  # Respuesta\n",
    "X = df.GNP  # Predictor\n",
    "X = sm.add_constant(X) # agrega constante\n",
    "\n",
    "X_1 = pd.DataFrame({'GNP': np.linspace(X.GNP.min(), X.GNP.max(), 100)})\n",
    "X_1 = sm.add_constant(X_1) \n",
    "\n",
    "y_reg = est.predict(X_1) # estimacion\n",
    "\n",
    "plt.scatter(X.GNP, y, alpha=0.3)  # grafica los puntos de datos\n",
    "plt.ylim(30, 100)  # limite de eje y\n",
    "plt.xlabel(\"Producto bruto\") # leyenda eje x\n",
    "plt.ylabel(\"Empleo\") # leyenda eje y\n",
    "plt.title(\"Ajuste de regresion\") # titulo del grafico\n",
    "reg = plt.plot(X_1.GNP, y_reg, 'r', alpha=0.9)  # linea de regresion"
   ]
  },
  {
   "cell_type": "markdown",
   "metadata": {},
   "source": [
    "---\n",
    "### 2.3.4. [Covarianza](https://es.wikipedia.org/wiki/Covarianza)  \n",
    "---\n",
    "La covarianza es el equivalente de la varianza aplicado a una variable bidimensional. \n",
    "\n",
    "Es la media aritmética de los productos de las desviaciones de cada una de las variables respecto a sus medias.La covarianza indica el sentido de la correlación entre las variables; Si es mayor que cero la correlación es directa, en caso de ser menor, la correlación es inversa. La podemos calcular utilizando el método cov."
   ]
  },
  {
   "cell_type": "code",
   "execution_count": 36,
   "metadata": {},
   "outputs": [
    {
     "data": {
      "text/html": [
       "<div>\n",
       "<style scoped>\n",
       "    .dataframe tbody tr th:only-of-type {\n",
       "        vertical-align: middle;\n",
       "    }\n",
       "\n",
       "    .dataframe tbody tr th {\n",
       "        vertical-align: top;\n",
       "    }\n",
       "\n",
       "    .dataframe thead th {\n",
       "        text-align: right;\n",
       "    }\n",
       "</style>\n",
       "<table border=\"1\" class=\"dataframe\">\n",
       "  <thead>\n",
       "    <tr style=\"text-align: right;\">\n",
       "      <th></th>\n",
       "      <th>eruptions</th>\n",
       "      <th>waiting</th>\n",
       "    </tr>\n",
       "  </thead>\n",
       "  <tbody>\n",
       "    <tr>\n",
       "      <th>eruptions</th>\n",
       "      <td>1.302728</td>\n",
       "      <td>13.977808</td>\n",
       "    </tr>\n",
       "    <tr>\n",
       "      <th>waiting</th>\n",
       "      <td>13.977808</td>\n",
       "      <td>184.823312</td>\n",
       "    </tr>\n",
       "  </tbody>\n",
       "</table>\n",
       "</div>"
      ],
      "text/plain": [
       "           eruptions     waiting\n",
       "eruptions   1.302728   13.977808\n",
       "waiting    13.977808  184.823312"
      ]
     },
     "execution_count": 36,
     "metadata": {},
     "output_type": "execute_result"
    }
   ],
   "source": [
    "# covarianza\n",
    "faithful.cov()"
   ]
  },
  {
   "cell_type": "markdown",
   "metadata": {},
   "source": [
    "### ¿Diferencia entre covarianza y correlación?\n",
    "\n",
    "La covarianza y la correlación son muy útiles para comprender la relación entre dos variables continuas. La covarianza indica si ambas variables varían en la misma dirección (covarianza positiva) o en dirección opuesta (covarianza negativa).\n",
    "\n",
    "No hay importancia en el valor numérico de covarianza, solo el signo es útil. Mientras que la correlación explica sobre el cambio en una variable, indicando cuánto cambio de proporción hay con respecto a la segunda variable.\n",
    "\n",
    "La correlación varía entre -1 a +1. Si el valor de correlación es 0, significa que no existe una relación lineal entre las variables, sin embargo, puede existir otra relación funcional.\n",
    "\n",
    "--------\n",
    "\n",
    "En el estudio de la covarianza sólo el signo importa. El valor positivo muestra que ambas variables varían en la misma dirección y el valor negativo muestra que varían en la dirección opuesta.\n",
    "\n",
    "La covarianza entre dos variables x e y se puede calcular de la siguiente manera:\n",
    "\n",
    "![img](https://sitiobigdata.com/wp-content/uploads/2019/10/Qu%C3%A9-es-Covarianza-y-correlaci%C3%B3n1.png)\n",
    "\n",
    "Dónde:\n",
    "\n",
    "    x̄ es la media muestral de x\n",
    "    ȳ es la media muestral de y\n",
    "    x_i e y_i son los valores de x e y para el i-ésimo dato en la muestra.\n",
    "    n es el no. de datos en la muestra\n"
   ]
  },
  {
   "cell_type": "markdown",
   "metadata": {},
   "source": [
    "### 2.3.5. [Correlación](https://www.incibe-cert.es/blog/correlacion-herramientas-analisis-datos)  \n",
    "---\n",
    "El coeficiente de correlación es la medida específica que cuantifica la intensidad de la relación lineal entre dos variables en un análisis de correlación. En los informes de correlación, este coeficiente se simboliza con la r.\n",
    "\n",
    "El coeficiente de correlación oscila entre -1 y 1. \n",
    "\n",
    "**Los valores de r positivos indican una correlación positiva, en la que los valores de ambas variables tienden a incrementarse juntos**.\n",
    "\n",
    "**Los valores de r negativos indican una correlación negativa, en la que los valores de una variable tienden a incrementarse mientras que los valores de la otra variable descienden**.\n",
    "\n",
    "Un valor de 0 implica que no existe una correlación lineal entre las variables.\n",
    "\n",
    "----------\n",
    "\n",
    "**¿Cómo se utiliza el coeficiente de correlación?**\n",
    "\n",
    "Para dos variables, la fórmula compara la distancia de cada dato puntual respecto a la media de la variable y utiliza esta comparación para decirnos hasta qué punto la relación entre las variables se ajusta a una línea imaginaria trazada entre los datos. A esto nos referimos cuando decimos que la correlación examina las relaciones lineales.\n",
    "\n",
    "------------\n",
    "\n",
    "**¿Qué limitaciones hay que tener en cuenta?**\n",
    "\n",
    "La correlación sólo se refiere a las dos variables dadas y no aporta información sobre las relaciones más allá de los datos bivariados. Esta prueba no puede detectar valores atípicos en los datos (y por tanto <font color=red>estos sesgan los resultados</font>) y tampoco puede detectar correctamente las relaciones curvilíneas.\n"
   ]
  },
  {
   "cell_type": "code",
   "execution_count": 37,
   "metadata": {},
   "outputs": [
    {
     "data": {
      "text/html": [
       "<div>\n",
       "<style scoped>\n",
       "    .dataframe tbody tr th:only-of-type {\n",
       "        vertical-align: middle;\n",
       "    }\n",
       "\n",
       "    .dataframe tbody tr th {\n",
       "        vertical-align: top;\n",
       "    }\n",
       "\n",
       "    .dataframe thead th {\n",
       "        text-align: right;\n",
       "    }\n",
       "</style>\n",
       "<table border=\"1\" class=\"dataframe\">\n",
       "  <thead>\n",
       "    <tr style=\"text-align: right;\">\n",
       "      <th></th>\n",
       "      <th>eruptions</th>\n",
       "      <th>waiting</th>\n",
       "    </tr>\n",
       "  </thead>\n",
       "  <tbody>\n",
       "    <tr>\n",
       "      <th>eruptions</th>\n",
       "      <td>1.000000</td>\n",
       "      <td>0.900811</td>\n",
       "    </tr>\n",
       "    <tr>\n",
       "      <th>waiting</th>\n",
       "      <td>0.900811</td>\n",
       "      <td>1.000000</td>\n",
       "    </tr>\n",
       "  </tbody>\n",
       "</table>\n",
       "</div>"
      ],
      "text/plain": [
       "           eruptions   waiting\n",
       "eruptions   1.000000  0.900811\n",
       "waiting     0.900811  1.000000"
      ]
     },
     "execution_count": 37,
     "metadata": {},
     "output_type": "execute_result"
    }
   ],
   "source": [
    "# coeficiente de correlación\n",
    "faithful.corr()"
   ]
  },
  {
   "cell_type": "markdown",
   "metadata": {},
   "source": [
    "![img](https://www.jmp.com/es_co/statistics-knowledge-portal/what-is-correlation/correlation-coefficient/_jcr_content/par/styledcontainer_2069/par/image_9254.img.gif/1596641539725.gif)"
   ]
  },
  {
   "cell_type": "markdown",
   "metadata": {},
   "source": [
    "---\n",
    "---\n",
    "---\n",
    "<a id=\"d\"></a>\n",
    "<h1><center>2.4. Distribuciones de probabilidad</center></h1>\n",
    "\n",
    "[Regreso a contenido](#contenido)\n",
    "\n",
    "---"
   ]
  },
  {
   "cell_type": "markdown",
   "metadata": {},
   "source": [
    "---\n",
    "Las variables aleatorias han llegado a desempeñar un papel importante en casi todos los campos de estudio....\n",
    "\n",
    "Estas variables aleatorias son medidas y analizadas en términos de sus propiedades estadísticas y probabilístas, de las cuales una característica subyacente es su función de distribución. \n",
    "\n",
    "* A pesar de que el número potencial de distribuciones puede ser muy grande, en la práctica, un número relativamente pequeño se utilizan; ya sea porque tienen características matemáticas que las hace fáciles de usar o porque se asemejan bastante bien a una porción de la realidad, o por ambas razones combinadas.\n",
    "\n",
    "---\n",
    "### 2.4.1. ¿Por qué es importante conocer las distribuciones?\n",
    "---\n",
    "Muchos resultados en las ciencias se basan en conclusiones que se extraen sobre una población general **a partir del estudio de una muestra de esta población**. Este proceso se conoce como <font color=red>**inferencia estadística**</font>; y este tipo de inferencia con frecuencia se basa en hacer <font color=blue>suposiciones</font> acerca de la forma en que los datos se distribuyen, o requiere realizar alguna transformación de los datos para que se ajusten mejor a alguna de las distribuciones conocidas y estudiadas en profundidad.\n",
    "\n",
    "Las distribuciones de probabilidad teóricas son útiles en la inferencia estadística porque sus propiedades y características son conocidas. Si la distribución real de un conjunto de datos dado es razonablemente cercana a la de una distribución de probabilidad teórica, muchos de los cálculos se pueden realizar en los datos reales utilizando hipótesis extraídas de la distribución teórica.\n",
    "\n",
    "---\n",
    "\n",
    "Hay muchas distribuciones de probabilidad, pero aquí hablaremos de las más comunes y usadas. Pero primero, necesitamos comprender las funciones de probabilidad para variables aleatorias continuas.\n",
    "\n",
    "---\n",
    "Las distribuciones se pueden clasificar en dos grandes grupos:\n",
    "\n",
    "* Distribuciones Continuas: son aquellas que presentan un número infinito de posibles soluciones. Dentro de este grupo vamos a encontrar a las distribuciones:\n",
    "    1. Normal (o Gaussiana)\n",
    "    2. Log-Normal\n",
    "    3. Exponencial\n",
    "    4. Chi Cuadrada\n",
    "    5. t - Student\n",
    "    6. etc...\n",
    "* Distribuciones Discretas: son aquellas en las que la variable puede tomar un número determinado de valores. Los principales exponentes de este grupo son las distribuciones:\n",
    "    1. Poisson\n",
    "    2. Binomial\n",
    "    3. Geométrica\n",
    "    4. Bernoulli\n",
    "    5. etc...\n",
    "\n",
    "\n",
    "---\n",
    "### 2.4.2. Graficando distribuciones\n",
    "---\n",
    "Una de las mejores maneras de describir una variable es representar los valores que aparecen en el conjunto de datos y el número de veces que aparece cada valor. La representación más común de una distribución es un histograma, que es un gráfico que muestra la frecuencia de cada valor."
   ]
  },
  {
   "cell_type": "code",
   "execution_count": 38,
   "metadata": {},
   "outputs": [],
   "source": [
    "# importando modulos necesarios\n",
    "%matplotlib inline\n",
    "\n",
    "import matplotlib.pyplot as plt\n",
    "import numpy as np \n",
    "from scipy import stats \n",
    "import seaborn as sns \n",
    "\n",
    "np.random.seed(2016) # replicar random\n",
    "\n",
    "# parametros esteticos de seaborn\n",
    "sns.set_palette(\"deep\", desat=.6)\n",
    "sns.set_context(rc={\"figure.figsize\": (8, 4)})"
   ]
  },
  {
   "cell_type": "code",
   "execution_count": 39,
   "metadata": {},
   "outputs": [
    {
     "data": {
      "image/png": "[encoded data removed]",
      "text/plain": [
       "<Figure size 432x288 with 1 Axes>"
      ]
     },
     "metadata": {
      "needs_background": "light"
     },
     "output_type": "display_data"
    }
   ],
   "source": [
    "# Graficando histograma\n",
    "mu, sigma = 0, 0.2 # media y desvio estandar\n",
    "datos = np.random.normal(mu, sigma, 1000) #creando muestra de datos\n",
    "\n",
    "# histograma de distribución normal.\n",
    "cuenta, cajas, ignorar = plt.hist(datos, 20)\n",
    "plt.ylabel('frequencia')\n",
    "plt.xlabel('valores')\n",
    "plt.title('Histograma')\n",
    "plt.show()"
   ]
  },
  {
   "cell_type": "markdown",
   "metadata": {},
   "source": [
    "**Función de densidad de probabilidad (pdf)**\n",
    "\n",
    "Consideremos un experimento en el que la probabilidad de eventos es la siguiente. La probabilidad de obtener los números 1, 2, 3, 4 es 1/10, 2/10, 3/10, 4/10 respectivamente. \n",
    "\n",
    "Sería más conveniente para nosotros si tuviéramos una ecuación para ese experimento que nos diera esos valores basados en la probabilidad de eventos. \n",
    "\n",
    "Por ejemplo, la ecuación de este experimento se puede establecer en f (x) = x / 10, donde x = 1,2,3,4. Esta ecuación (o función) se llama función de distribución de probabilidad. Aunque algunos autores también la llaman función de probabilidad, función de frecuencia o función de masa de probabilidad. Nos dice que tan probable es que *aparezca* una variable aleatoria x.\n",
    "\n",
    "\n",
    "**Función de distribución acumulativa (cdf)**\n",
    "\n",
    "La función de distribución acumulativa proporciona una imagen integral de la distribución de probabilidad. Como sugiere el nombre acumulativo, es simplemente la probabilidad de que una variable tome un valor menor o igual a un valor particular. En el ejemplo anterior dado x = 3, la CDF nos dice la probabilidad de la suma de todas las variables aleatorias de 1 a 3.\n",
    "\n"
   ]
  },
  {
   "cell_type": "markdown",
   "metadata": {},
   "source": [
    "---\n",
    "### 2.4.3. Distribuciones continuas\n",
    "---\n",
    "\n",
    "En esta sección, como sugiere el título, investigamos distribuciones probabilísticas de variables aleatorias continuas, es decir, variables aleatorias cuyo soporte contiene un rango infinito de posibles resultados.\n",
    "\n",
    "\n",
    "#### 2.4.3.1 Distribución uniforme\n",
    "\n",
    "Es un tipo de distribución de probabilidades donde todos los resultados son igualmente probables; cada variable tiene la misma probabilidad de que sea el resultado. \n",
    "\n",
    "Una baraja de cartas tiene distribuciones uniformes porque la probabilidad de que se saque un corazón, un trébol, un diamante o una espada es la misma. La moneda también tiene una distribución uniforme porque la probabilidad de que salga cara o cruz en el lanzamiento de la moneda es la misma."
   ]
  },
  {
   "cell_type": "code",
   "execution_count": 40,
   "metadata": {},
   "outputs": [
    {
     "data": {
      "image/png": "[encoded data removed]",
      "text/plain": [
       "<Figure size 1080x1080 with 1 Axes>"
      ]
     },
     "metadata": {
      "needs_background": "light"
     },
     "output_type": "display_data"
    }
   ],
   "source": [
    "from scipy.stats import uniform\n",
    "import matplotlib.pyplot as plt\n",
    "import numpy as np\n",
    "\n",
    "\n",
    "def uniform2():\n",
    "    fig, ax = plt.subplots(1, 1, figsize=(15,15))\n",
    "    mean, var, skew, kurt = uniform.stats(moments='mvsk')\n",
    "    \n",
    "    x = np.linspace(uniform.ppf(0.01), uniform.ppf(0.99), 100)\n",
    "    ax.plot(x, uniform.pdf(x),\n",
    "        'r-', lw=5, alpha=0.6, label='uniform pdf')\n",
    "    ax.plot(x, uniform.cdf(x),\n",
    "        'b-', lw=5, alpha=0.6, label='uniform cdf')\n",
    "    vals = uniform.ppf([0.001, 0.5, 0.999])\n",
    "    np.allclose([0.001, 0.5, 0.999], uniform.cdf(vals))\n",
    "\n",
    "    r = uniform.rvs(size=1000)\n",
    "    ax.hist(r, density =True, histtype='stepfilled', alpha=0.2)\n",
    "    ax.legend(loc='best', frameon=False)\n",
    "    plt.show()\n",
    "\n",
    "uniform2()\n"
   ]
  },
  {
   "cell_type": "markdown",
   "metadata": {},
   "source": [
    "Más formalmente, esta es la distribución de una variable aleatoria que puede tomar cualquier valor en el intervalo (a, b), y la probabilidad de estar en cualquier segmento dentro (a, b) es proporcional a la longitud del segmento y no depende en su posición, y la probabilidad de valores fuera del intervalo (a, b) es igual a 0.\n",
    "\n",
    "Entonces, una variable aleatoria continua x tiene una distribución uniforme, denominada U (a, b), si su función de densidad de probabilidad es:\n",
    "\n",
    "$$ f(x) = 1 / (b - a) $$"
   ]
  },
  {
   "cell_type": "markdown",
   "metadata": {},
   "source": [
    "#### 2.4.3.2 Distribución Normal (Gaussiana)\n",
    "\n",
    "---\n",
    "La distribución normal es una de las principales distribuciones, ya que es la que con más frecuencia aparece aproximada en los fenómenos reales. \n",
    "\n",
    "Tiene una forma acampanada y es simétrica respecto de un determinado parámetro estadístico. Con la ayuda de Python y haciendo uso de matplot (ver la siguiente [liga](https://matplotlib.org/api/_as_gen/matplotlib.pyplot.hist.html) para mayor información de la paquetería de matplotlib) la podemos graficar de la siguiente manera:"
   ]
  },
  {
   "cell_type": "code",
   "execution_count": 41,
   "metadata": {},
   "outputs": [],
   "source": [
    "# Graficos embebidos.\n",
    "%matplotlib inline \n",
    "import matplotlib.pyplot as plt # importando matplotlib\n",
    "import seaborn as sns # importando seaborn\n",
    "import numpy as np    #importando numpy\n",
    "# parametros esteticos de seaborn\n",
    "sns.set_palette(\"deep\", desat=.6)\n",
    "sns.set_context(rc={\"figure.figsize\": (8, 4)})"
   ]
  },
  {
   "cell_type": "code",
   "execution_count": 42,
   "metadata": {},
   "outputs": [],
   "source": [
    "mu, sigma = 0, 0.1 # media y desvio estandar\n",
    "s = np.random.normal(mu, sigma, 1000) #creando muestra de datos\n",
    "\n",
    "#Recuerden poner diversos parametros para visualizar distintas gausianas\n",
    "#mu, sigma = 0, 1 # media y desvio estandar\n",
    "#s = np.random.normal(mu, sigma, 100) #creando muestra de datos\n",
    "\n",
    "#mu, sigma = 2, 0.5 # media y desvio estandar\n",
    "#s = np.random.normal(mu, sigma, 10000) #creando muestra de datos"
   ]
  },
  {
   "cell_type": "code",
   "execution_count": 43,
   "metadata": {},
   "outputs": [
    {
     "data": {
      "image/png": "[encoded data removed]",
      "text/plain": [
       "<Figure size 432x288 with 1 Axes>"
      ]
     },
     "metadata": {
      "needs_background": "light"
     },
     "output_type": "display_data"
    }
   ],
   "source": [
    "# histograma de distribución normal.\n",
    "#Recordemos que la función plt.hist tiene la posibilidad de recibir diversos parámetros,\n",
    "#en este ejemplo, estamos usando los el conjunto de datos 's', los bins = '30' para definir \n",
    "#el rango de las barras graficadas y density = 'true' hace referencia para formar el area bajo la curva gaussiana.\n",
    "cuenta, cajas, ignorar = plt.hist(s, 30, density=True)\n",
    "normal = plt.plot(cajas, 1/(sigma * np.sqrt(2 * np.pi)) *\n",
    "         np.exp( - (cajas - mu)**2 / (2 * sigma**2) ),\n",
    "         linewidth=2, color='r')"
   ]
  },
  {
   "cell_type": "code",
   "execution_count": 44,
   "metadata": {},
   "outputs": [
    {
     "data": {
      "image/png": "[encoded data removed]",
      "text/plain": [
       "<Figure size 432x288 with 1 Axes>"
      ]
     },
     "metadata": {
      "needs_background": "light"
     },
     "output_type": "display_data"
    }
   ],
   "source": [
    "from scipy.stats import norm\n",
    "import matplotlib.pyplot as plt\n",
    "import numpy as np\n",
    "\n",
    "\n",
    "def normal() -> None:\n",
    "    fig, ax = plt.subplots(1, 1)\n",
    "    mean, var, skew, kurt = norm.stats(moments='mvsk')\n",
    "    x = np.linspace(norm.ppf(0.01),  norm.ppf(0.99), 100)\n",
    "    ax.plot(x, norm.pdf(x),\n",
    "        'r-', lw=5, alpha=0.6, label='norm pdf')\n",
    "    ax.plot(x, norm.cdf(x),\n",
    "        'b-', lw=5, alpha=0.6, label='norm cdf')\n",
    "    vals = norm.ppf([0.001, 0.5, 0.999])\n",
    "    np.allclose([0.001, 0.5, 0.999], norm.cdf(vals))\n",
    "\n",
    "    r = norm.rvs(size=1000)\n",
    "    ax.hist(r, density=True, histtype='stepfilled', alpha=0.2)\n",
    "    ax.legend(loc='best', frameon=False)\n",
    "    plt.show()\n",
    "\n",
    "normal()\n"
   ]
  },
  {
   "cell_type": "markdown",
   "metadata": {},
   "source": [
    "La importancia de las distribuciones normales se debe principalmente al hecho de que las distribuciones de muchos fenómenos naturales se distribuyen al menos aproximadamente de manera normal. \n",
    "\n",
    "Una de las primeras aplicaciones de las distribuciones normales fue el análisis de errores de medidas realizadas en observaciones astronómicas, errores provocados por instrumentos imperfectos y observadores imperfectos.... \n",
    "\n",
    "$$p(x;μ,σ^{2})=(1/{σ√2π})e^{−1/2} (\\displaystyle\\frac{x−μ}{σ})^2$$\n",
    "\n",
    "\n",
    "En dónde $μ$ es el parámetro de ubicación, y va a ser igual a la media aritmética y $σ^{2}$ es la desviación estándar. Algunos ejemplos de variables asociadas a fenómenos naturales que siguen el modelo de la Distribución Normal son:\n",
    "\n",
    "   * características morfológicas de individuos, como la estatura;\n",
    "   * características sociológicas, como el consumo de cierto producto por un mismo grupo de individuos;\n",
    "   * características psicológicas, como el cociente intelectual;\n",
    "   * nivel de ruido en telecomunicaciones;\n",
    "   * errores cometidos al medir ciertas magnitudes;\n",
    "   * etc."
   ]
  },
  {
   "cell_type": "code",
   "execution_count": 45,
   "metadata": {},
   "outputs": [
    {
     "data": {
      "image/png": "[encoded data removed]",
      "text/plain": [
       "<Figure size 432x288 with 1 Axes>"
      ]
     },
     "metadata": {
      "needs_background": "light"
     },
     "output_type": "display_data"
    }
   ],
   "source": [
    "# Graficando Normal\n",
    "mu, sigma = 0, 0.2 # media y desvio estandar\n",
    "normal = stats.norm(mu, sigma)\n",
    "x = np.linspace(normal.ppf(0.01),\n",
    "                normal.ppf(0.99), 100)\n",
    "fp = normal.pdf(x) # Función de Probabilidad\n",
    "plt.plot(x, fp)\n",
    "plt.title('Distribución Normal')\n",
    "plt.ylabel('probabilidad')\n",
    "plt.xlabel('valores')\n",
    "plt.show()"
   ]
  },
  {
   "cell_type": "code",
   "execution_count": 46,
   "metadata": {},
   "outputs": [
    {
     "data": {
      "image/png": "[encoded data removed]",
      "text/plain": [
       "<Figure size 432x288 with 1 Axes>"
      ]
     },
     "metadata": {
      "needs_background": "light"
     },
     "output_type": "display_data"
    }
   ],
   "source": [
    "# histograma\n",
    "aleatorios = normal.rvs(1000) # genera aleatorios\n",
    "cuenta, cajas, ignorar = plt.hist(aleatorios, 20)\n",
    "plt.ylabel('frequencia')\n",
    "plt.xlabel('valores')\n",
    "plt.title('Histograma Normal')\n",
    "plt.show()"
   ]
  },
  {
   "cell_type": "markdown",
   "metadata": {},
   "source": [
    "#### 2.4.3.3 Distribución Log-Normal\n",
    "---\n",
    "La Distribución Log-normal esta dada por la formula:  \n",
    "\n",
    "$$p(x;μ,σ)=(1/{xσ√2π})e^{−1/2} (\\displaystyle\\frac{ln(x−μ)}{σ})^2$$\n",
    "\n",
    "\n",
    "En dónde la variable $x>0$ y los parámetros $μ$ y $σ>0$ son todos números reales. La Distribución Log-normal es aplicable a variables aleatorias que están limitadas por cero, pero tienen pocos valores grandes. Es una distribución con asimetría positiva. Algunos de los ejemplos en que la solemos encontrar son:\n",
    "\n",
    "   * El peso de los adultos.\n",
    "   * La concentración de los minerales en depósitos.\n",
    "   * Duración de licencia por enfermedad.\n",
    "   * Distribución de riqueza\n",
    "   * Tiempos muertos de maquinarias."
   ]
  },
  {
   "cell_type": "code",
   "execution_count": 47,
   "metadata": {},
   "outputs": [
    {
     "data": {
      "image/png": "[encoded data removed]",
      "text/plain": [
       "<Figure size 432x288 with 1 Axes>"
      ]
     },
     "metadata": {
      "needs_background": "light"
     },
     "output_type": "display_data"
    }
   ],
   "source": [
    "# Graficando Log-Normal\n",
    "sigma = 0.6 # parametro\n",
    "lognormal = stats.lognorm(sigma)\n",
    "x = np.linspace(lognormal.ppf(0.01),\n",
    "                lognormal.ppf(0.99), 100)\n",
    "fp = lognormal.pdf(x) # Función de Probabilidad\n",
    "plt.plot(x, fp)\n",
    "plt.title('Distribución Log-normal')\n",
    "plt.ylabel('probabilidad')\n",
    "plt.xlabel('valores')\n",
    "plt.show()"
   ]
  },
  {
   "cell_type": "code",
   "execution_count": 48,
   "metadata": {},
   "outputs": [
    {
     "data": {
      "image/png": "[encoded data removed]",
      "text/plain": [
       "<Figure size 432x288 with 1 Axes>"
      ]
     },
     "metadata": {
      "needs_background": "light"
     },
     "output_type": "display_data"
    }
   ],
   "source": [
    "# histograma\n",
    "aleatorios = lognormal.rvs(1000) # genera aleatorios\n",
    "cuenta, cajas, ignorar = plt.hist(aleatorios, 20)\n",
    "plt.ylabel('frequencia')\n",
    "plt.xlabel('valores')\n",
    "plt.title('Histograma Log-normal')\n",
    "plt.show()"
   ]
  },
  {
   "cell_type": "markdown",
   "metadata": {},
   "source": [
    "#### 2.4.3.4 Distribución Exponencial\n",
    "---\n",
    "La Distribución Exponencial esta dada por la formula:\n",
    "$$p(x;α)= \\displaystyle\\frac{1}{α}e^{\\displaystyle\\frac{-x}{α}}$$\n",
    "\n",
    "En dónde tanto la variable $x$ como el parámetro $α$ son números reales positivos. La Distribución Exponencial tiene bastantes aplicaciones, tales como la desintegración de un átomo radioactivo o el tiempo entre eventos en un proceso de Poisson donde los acontecimientos suceden a una velocidad constante."
   ]
  },
  {
   "cell_type": "code",
   "execution_count": 49,
   "metadata": {},
   "outputs": [
    {
     "data": {
      "image/png": "[encoded data removed]",
      "text/plain": [
       "<Figure size 432x288 with 1 Axes>"
      ]
     },
     "metadata": {
      "needs_background": "light"
     },
     "output_type": "display_data"
    }
   ],
   "source": [
    "# Graficando Exponencial\n",
    "exponencial = stats.expon()\n",
    "x = np.linspace(exponencial.ppf(0.01),\n",
    "                exponencial.ppf(0.99), 100)\n",
    "fp = exponencial.pdf(x) # Función de Probabilidad\n",
    "plt.plot(x, fp)\n",
    "plt.title('Distribución Exponencial')\n",
    "plt.ylabel('probabilidad')\n",
    "plt.xlabel('valores')\n",
    "plt.show()"
   ]
  },
  {
   "cell_type": "code",
   "execution_count": 50,
   "metadata": {},
   "outputs": [
    {
     "data": {
      "image/png": "[encoded data removed]",
      "text/plain": [
       "<Figure size 432x288 with 1 Axes>"
      ]
     },
     "metadata": {
      "needs_background": "light"
     },
     "output_type": "display_data"
    }
   ],
   "source": [
    "# histograma\n",
    "aleatorios = exponencial.rvs(1000) # genera aleatorios\n",
    "cuenta, cajas, ignorar = plt.hist(aleatorios, 20)\n",
    "plt.ylabel('frequencia')\n",
    "plt.xlabel('valores')\n",
    "plt.title('Histograma Exponencial')\n",
    "plt.show()"
   ]
  },
  {
   "cell_type": "markdown",
   "metadata": {},
   "source": [
    "#### 2.4.3.5 Distribución Chi Cuadrada\n",
    "---\n",
    "La Distribución Chi cuadrado esta dada por la función:\n",
    "$p(x;n)= \\displaystyle\\frac{(\\displaystyle\\frac{x}{n})^{{\\displaystyle\\frac{n}{2}}-1}\\epsilon^(\\displaystyle\\frac{-x}{2})}\n",
    "{2\\Gamma(\\displaystyle\\frac{n}{2})}$\n",
    "\n",
    "En dónde la variable $x≥0$ y el parámetro $n$, el número de grados de libertad, es un número entero positivo. Una importante aplicación de la Distribución Chi cuadrado es que cuando un conjunto de datos es representado por un modelo teórico, esta distribución puede ser utilizada para controlar cuan bien se ajustan los valores predichos por el modelo, y los datos realmente observados."
   ]
  },
  {
   "cell_type": "code",
   "execution_count": 51,
   "metadata": {},
   "outputs": [
    {
     "data": {
      "image/png": "[encoded data removed]",
      "text/plain": [
       "<Figure size 432x288 with 1 Axes>"
      ]
     },
     "metadata": {
      "needs_background": "light"
     },
     "output_type": "display_data"
    }
   ],
   "source": [
    "# Graficando Chi cuadrado\n",
    "df = 34 # parametro de forma.\n",
    "chi2 = stats.chi2(df)\n",
    "x = np.linspace(chi2.ppf(0.01),\n",
    "                chi2.ppf(0.99), 100)\n",
    "fp = chi2.pdf(x) # Función de Probabilidad\n",
    "plt.plot(x, fp)\n",
    "plt.title('Distribución Chi cuadrado')\n",
    "plt.ylabel('probabilidad')\n",
    "plt.xlabel('valores')\n",
    "plt.show()"
   ]
  },
  {
   "cell_type": "code",
   "execution_count": 52,
   "metadata": {},
   "outputs": [
    {
     "data": {
      "image/png": "[encoded data removed]",
      "text/plain": [
       "<Figure size 432x288 with 1 Axes>"
      ]
     },
     "metadata": {
      "needs_background": "light"
     },
     "output_type": "display_data"
    }
   ],
   "source": [
    "# histograma\n",
    "aleatorios = chi2.rvs(1000) # genera aleatorios\n",
    "cuenta, cajas, ignorar = plt.hist(aleatorios, 20)\n",
    "plt.ylabel('frequencia')\n",
    "plt.xlabel('valores')\n",
    "plt.title('Histograma Chi cuadrado')\n",
    "plt.show()"
   ]
  },
  {
   "cell_type": "markdown",
   "metadata": {},
   "source": [
    "#### 2.4.3.6 Distribución T de Student\n",
    "---\n",
    "La Distribución t de Student es utilizada para probar si la diferencia entre las medias de dos muestras de observaciones es estadísticamente significativa. \n",
    "\n",
    "Por ejemplo, las alturas de una muestra aleatoria de los jugadores de baloncesto podría compararse con las alturas de una muestra aleatoria de jugadores de fútbol; esta distribución nos podría ayudar a determinar si un grupo es significativamente más alto que el otro."
   ]
  },
  {
   "cell_type": "code",
   "execution_count": 53,
   "metadata": {},
   "outputs": [
    {
     "data": {
      "image/png": "[encoded data removed]",
      "text/plain": [
       "<Figure size 432x288 with 1 Axes>"
      ]
     },
     "metadata": {
      "needs_background": "light"
     },
     "output_type": "display_data"
    }
   ],
   "source": [
    "# Graficando t de Student\n",
    "df = 50 # parametro de forma.\n",
    "t = stats.t(df)\n",
    "x = np.linspace(t.ppf(0.01),\n",
    "                t.ppf(0.99), 100)\n",
    "fp = t.pdf(x) # Función de Probabilidad\n",
    "plt.plot(x, fp)\n",
    "plt.title('Distribución t de Student')\n",
    "plt.ylabel('probabilidad')\n",
    "plt.xlabel('valores')\n",
    "plt.show()"
   ]
  },
  {
   "cell_type": "code",
   "execution_count": 54,
   "metadata": {},
   "outputs": [
    {
     "data": {
      "image/png": "[encoded data removed]",
      "text/plain": [
       "<Figure size 432x288 with 1 Axes>"
      ]
     },
     "metadata": {
      "needs_background": "light"
     },
     "output_type": "display_data"
    }
   ],
   "source": [
    "# histograma\n",
    "aleatorios = t.rvs(1000) # genera aleatorios\n",
    "cuenta, cajas, ignorar = plt.hist(aleatorios, 20)\n",
    "plt.ylabel('frequencia')\n",
    "plt.xlabel('valores')\n",
    "plt.title('Histograma t de Student')\n",
    "plt.show()"
   ]
  },
  {
   "cell_type": "markdown",
   "metadata": {},
   "source": [
    "---\n",
    "### 2.4.4 Distribuciones Discretas\n",
    "\n",
    "#### 2.4.4.1 Distribución Poisson\n",
    "---\n",
    "La Distribución Poisson esta dada por la formula:  $$p(r;μ)=μ^{r}e^{−μ}/r!$$\n",
    "\n",
    "\n",
    "En dónde $r$ es un entero $(r≥0)$ y $μ$ es un número real positivo. La Distribución Poisson describe la probabilidad de encontrar exactamente $r$ eventos en un lapso de tiempo si los acontecimientos se producen de forma independiente a una velocidad constante $μ$. \n",
    "\n",
    "* Es una de las distribuciones más utilizadas en estadística con varias aplicaciones; como por ejemplo describir el número de fallos en un lote de materiales o la cantidad de llegadas por hora a un centro de servicios.\n",
    "---\n",
    "En Python la podemos generar fácilmente con la ayuda de scipy.stats, paquete que utilizaremos para representar a todas las restantes distribuciones a lo largo de todo el bloque."
   ]
  },
  {
   "cell_type": "code",
   "execution_count": 55,
   "metadata": {},
   "outputs": [
    {
     "data": {
      "image/png": "[encoded data removed]",
      "text/plain": [
       "<Figure size 432x288 with 1 Axes>"
      ]
     },
     "metadata": {
      "needs_background": "light"
     },
     "output_type": "display_data"
    }
   ],
   "source": [
    "# Graficando Poisson\n",
    "mu =  3.6 # parametro de forma \n",
    "poisson = stats.poisson(mu) # Distribución\n",
    "x = np.arange(poisson.ppf(0.01),\n",
    "              poisson.ppf(0.99))\n",
    "fmp = poisson.pmf(x) # Función de Masa de Probabilidad\n",
    "plt.plot(x, fmp, '--')\n",
    "plt.vlines(x, 0, fmp, colors='b', lw=5, alpha=0.5)\n",
    "plt.title('Distribución Poisson')\n",
    "plt.ylabel('probabilidad')\n",
    "plt.xlabel('valores')\n",
    "plt.show()"
   ]
  },
  {
   "cell_type": "code",
   "execution_count": 56,
   "metadata": {},
   "outputs": [
    {
     "data": {
      "image/png": "[encoded data removed]",
      "text/plain": [
       "<Figure size 432x288 with 1 Axes>"
      ]
     },
     "metadata": {
      "needs_background": "light"
     },
     "output_type": "display_data"
    }
   ],
   "source": [
    "# histograma\n",
    "aleatorios = poisson.rvs(1000)  # genera aleatorios\n",
    "cuenta, cajas, ignorar = plt.hist(aleatorios, 20)\n",
    "plt.ylabel('frequencia')\n",
    "plt.xlabel('valores')\n",
    "plt.title('Histograma Poisson')\n",
    "plt.show()"
   ]
  },
  {
   "cell_type": "markdown",
   "metadata": {},
   "source": [
    "#### 2.4.4.2 Distribución Binomial\n",
    "---\n",
    "La Distribución Binomial esta dada por la formula:\n",
    "$$p(r;N,p)=\\binom{N}{r}p^r(1−p)N−r$$\n",
    "\n",
    "En dónde $r$ con la condición $0≤r≤N$ y el parámetro $N$ $(N>0)$ son enteros; y el parámetro $p$ $(0≤p≤1)$ es un número real. La Distribución Binomial describe la probabilidad de exactamente $r$ éxitos en $N$ pruebas si la probabilidad de éxito en una sola prueba es $p$."
   ]
  },
  {
   "cell_type": "code",
   "execution_count": 57,
   "metadata": {},
   "outputs": [
    {
     "data": {
      "image/png": "[encoded data removed]",
      "text/plain": [
       "<Figure size 432x288 with 1 Axes>"
      ]
     },
     "metadata": {
      "needs_background": "light"
     },
     "output_type": "display_data"
    }
   ],
   "source": [
    "# Graficando Binomial\n",
    "N, p = 30, 0.4 # parametros de forma \n",
    "binomial = stats.binom(N, p) # Distribución\n",
    "x = np.arange(binomial.ppf(0.01),\n",
    "              binomial.ppf(0.99))\n",
    "fmp = binomial.pmf(x) # Función de Masa de Probabilidad\n",
    "plt.plot(x, fmp, '--')\n",
    "plt.vlines(x, 0, fmp, colors='b', lw=5, alpha=0.5)\n",
    "plt.title('Distribución Binomial')\n",
    "plt.ylabel('probabilidad')\n",
    "plt.xlabel('valores')\n",
    "plt.show()"
   ]
  },
  {
   "cell_type": "code",
   "execution_count": 58,
   "metadata": {},
   "outputs": [
    {
     "data": {
      "image/png": "[encoded data removed]",
      "text/plain": [
       "<Figure size 432x288 with 1 Axes>"
      ]
     },
     "metadata": {
      "needs_background": "light"
     },
     "output_type": "display_data"
    }
   ],
   "source": [
    "# histograma\n",
    "aleatorios = binomial.rvs(1000)  # genera aleatorios\n",
    "cuenta, cajas, ignorar = plt.hist(aleatorios, 20)\n",
    "plt.ylabel('frequencia')\n",
    "plt.xlabel('valores')\n",
    "plt.title('Histograma Binomial')\n",
    "plt.show()"
   ]
  },
  {
   "cell_type": "markdown",
   "metadata": {},
   "source": [
    "#### 2.4.4.3. Distribución Geométrica\n",
    "---\n",
    "La Distribución Geométrica esta dada por la formula:\n",
    "$$p(r;p)=p(1−p)^{r−1}$$\n",
    "\n",
    "En dónde $r≥1$ y el parámetro $p$ $(0≤p≤1)$ es un número real. La Distribución Geométrica expresa la probabilidad de tener que esperar exactamente $r$ pruebas hasta encontrar el primer éxito si la probabilidad de éxito en una sola prueba es $p$. Por ejemplo, en un proceso de selección, podría definir el número de entrevistas que deberíamos realizar antes de encontrar al primer candidato aceptable."
   ]
  },
  {
   "cell_type": "code",
   "execution_count": 59,
   "metadata": {},
   "outputs": [
    {
     "data": {
      "image/png": "[encoded data removed]",
      "text/plain": [
       "<Figure size 432x288 with 1 Axes>"
      ]
     },
     "metadata": {
      "needs_background": "light"
     },
     "output_type": "display_data"
    }
   ],
   "source": [
    "# Graficando Geométrica\n",
    "p =  0.3 # parametro de forma \n",
    "geometrica = stats.geom(p) # Distribución\n",
    "x = np.arange(geometrica.ppf(0.01),\n",
    "              geometrica.ppf(0.99))\n",
    "fmp = geometrica.pmf(x) # Función de Masa de Probabilidad\n",
    "plt.plot(x, fmp, '--')\n",
    "plt.vlines(x, 0, fmp, colors='b', lw=5, alpha=0.5)\n",
    "plt.title('Distribución Geométrica')\n",
    "plt.ylabel('probabilidad')\n",
    "plt.xlabel('valores')\n",
    "plt.show()"
   ]
  },
  {
   "cell_type": "code",
   "execution_count": 60,
   "metadata": {},
   "outputs": [
    {
     "data": {
      "image/png": "[encoded data removed]",
      "text/plain": [
       "<Figure size 432x288 with 1 Axes>"
      ]
     },
     "metadata": {
      "needs_background": "light"
     },
     "output_type": "display_data"
    }
   ],
   "source": [
    "# histograma\n",
    "aleatorios = geometrica.rvs(1000)  # genera aleatorios\n",
    "cuenta, cajas, ignorar = plt.hist(aleatorios, 20)\n",
    "plt.ylabel('frequencia')\n",
    "plt.xlabel('valores')\n",
    "plt.title('Histograma Geométrica')\n",
    "plt.show()"
   ]
  },
  {
   "cell_type": "markdown",
   "metadata": {},
   "source": [
    "#### 2.4.4.4 Distribución Bernoulli\n",
    "---\n",
    "La Distribución de Bernoulli esta dada por la formula:\n",
    "$p(r;p)$=$\\left \\{ \\begin{matrix} 1−p = q & \\mbox{si }r\\mbox{ = 0 ( fracaso )}\n",
    "\\\\ p & \\mbox{si }r\\mbox{ = 1 (éxito)}\\end{matrix}\\right. $\n",
    "\n",
    "En dónde el parámetro $p$ es la probabilidad de éxito en un solo ensayo, la probabilidad de fracaso por lo tanto va a ser $1−p$ (muchas veces expresada como $q$). Tanto $p$ como $q$ van a estar limitados al intervalo de cero a uno. La Distribución de Bernoulli describe un experimento probabilístico en donde el ensayo tiene dos posibles resultados, éxito o fracaso. Desde esta distribución se pueden deducir varias Funciones de Densidad de Probabilidad de otras distribuciones que se basen en una serie de ensayos independientes."
   ]
  },
  {
   "cell_type": "code",
   "execution_count": 61,
   "metadata": {},
   "outputs": [
    {
     "data": {
      "image/png": "[encoded data removed]",
      "text/plain": [
       "<Figure size 432x288 with 1 Axes>"
      ]
     },
     "metadata": {
      "needs_background": "light"
     },
     "output_type": "display_data"
    }
   ],
   "source": [
    "# Graficando Bernoulli\n",
    "p =  0.5 # parametro de forma \n",
    "bernoulli = stats.bernoulli(p)\n",
    "x = np.arange(-1, 3)\n",
    "fmp = bernoulli.pmf(x) # Función de Masa de Probabilidad\n",
    "fig, ax = plt.subplots()\n",
    "ax.plot(x, fmp, 'bo')\n",
    "ax.vlines(x, 0, fmp, colors='b', lw=5, alpha=0.5)\n",
    "ax.set_yticks([0., 0.2, 0.4, 0.6])\n",
    "plt.title('Distribución Bernoulli')\n",
    "plt.ylabel('probabilidad')\n",
    "plt.xlabel('valores')\n",
    "plt.show()"
   ]
  },
  {
   "cell_type": "code",
   "execution_count": 62,
   "metadata": {},
   "outputs": [
    {
     "data": {
      "image/png": "[encoded data removed]",
      "text/plain": [
       "<Figure size 432x288 with 1 Axes>"
      ]
     },
     "metadata": {
      "needs_background": "light"
     },
     "output_type": "display_data"
    }
   ],
   "source": [
    "# histograma\n",
    "aleatorios = bernoulli.rvs(1000)  # genera aleatorios\n",
    "cuenta, cajas, ignorar = plt.hist(aleatorios, 20)\n",
    "plt.ylabel('frequencia')\n",
    "plt.xlabel('valores')\n",
    "plt.title('Histograma Bernoulli')\n",
    "plt.show()"
   ]
  },
  {
   "cell_type": "markdown",
   "metadata": {},
   "source": [
    "# ¿Cómo elegir la distribución que mejor se ajusta a mis datos?\n",
    "---\n",
    "Ahora ya tenemos un conocimiento general de las principales distribuciones con que nos podemos encontrar; pero **¿cómo determinamos que distribución debemos utilizar?**\n",
    "\n",
    "Un modelo que podemos seguir cuando nos encontramos con datos que necesitamos ajustar a una distribución, es comenzar con los datos **sin procesar** y responder a cuatro preguntas básicas acerca de los mismos, que nos pueden ayudar a caracterizarlos. \n",
    "\n",
    "   * La primer pregunta se refiere a si los datos pueden tomar valores discretos o continuos. \n",
    "   * La segunda pregunta que nos debemos hacer, hace referencia a la simetría de los datos y si hay asimetría, en qué dirección se encuentra; en otras palabras, son los valores atípicos positivos y negativos igualmente probables o es uno más probable que el otro. \n",
    "   * La tercer pregunta abarca los límites superiores e inferiores en los datos; hay algunos datos, como los ingresos, que no pueden ser inferiores a cero, mientras que hay otros, como los márgenes de operación que no puede exceder de un valor (100%). \n",
    "   * La última pregunta se refiere a la posibilidad de observar valores extremos en la distribución; en algunos casos, los valores extremos ocurren con muy poca frecuencia, mientras que en otros, se producen con mayor frecuencia. Este proceso, lo podemos resumir en el siguiente gráfico:"
   ]
  },
  {
   "cell_type": "markdown",
   "metadata": {},
   "source": [
    "![alt text](https://2.bp.blogspot.com/-SpjgitfNMb0/TteevRR_Y2I/AAAAAAAAAFQ/IZgd32z2AI8/s1600/distributions.png)"
   ]
  },
  {
   "cell_type": "markdown",
   "metadata": {},
   "source": [
    "### Distribuciones simetricas y asimetricas\n",
    "---\n",
    "Una distribución es simétrica cuando moda, mediana y media coinciden aproximadamente en sus valores. Si una distribución es simétrica, existe el mismo número de valores a la derecha que a la izquierda de la media, por tanto, el mismo número de desviaciones con signo positivo que con signo negativo.\n",
    "\n",
    "Una distribución tiene asimetria positiva (o a la derecha) si la \"cola\" a la derecha de la media es más larga que la de la izquierda, es decir, si hay valores más separados de la media a la derecha. De la misma forma una distribución tiene asimetria negativa (o a la izquierda) si la \"cola\" a la izquierda de la media es más larga que la de la derecha, es decir, si hay valores más separados de la media a la izquierda.\n",
    "\n",
    "Las distribuciones asimétricas suelen ser problemáticas, ya que la mayoría de los métodos estadísticos suelen estar desarrollados para distribuciones del tipo normal. Para salvar estos problemas se suelen realizar transformaciones a los datos para hacer a estas distribuciones más simétricas y acercarse a la distribución normal.\n",
    "\n",
    "Entrar a la siguiente liga para más información de la función [gama](https://docs.scipy.org/doc/scipy/reference/generated/scipy.stats.gamma.html).\n"
   ]
  },
  {
   "cell_type": "code",
   "execution_count": 63,
   "metadata": {},
   "outputs": [
    {
     "data": {
      "image/png": "[encoded data removed]",
      "text/plain": [
       "<Figure size 432x288 with 1 Axes>"
      ]
     },
     "metadata": {
      "needs_background": "light"
     },
     "output_type": "display_data"
    }
   ],
   "source": [
    "# Dibujando la distribucion Gamma\n",
    "#import numpy as np # importando numpy\n",
    "from scipy import stats # importando scipy.stats\n",
    "#import pandas as pd # importando pandas\n",
    "\n",
    "#np.random.seed(2131982) # para poder replicar el random\n",
    "\n",
    "x = stats.gamma(3).rvs(5000)\n",
    "gamma = plt.hist(x, 70, histtype=\"stepfilled\", alpha=.7)"
   ]
  },
  {
   "cell_type": "markdown",
   "metadata": {},
   "source": [
    "En este ejemplo podemos ver que la distribución gamma que dibujamos tiene una asimetria positiva. Les recomiendo echarle un vistazo al siguiente [link](https://support.minitab.com/es-mx/minitab/18/help-and-how-to/statistics/basic-statistics/supporting-topics/data-concepts/how-skewness-and-kurtosis-affect-your-distribution/). para entender un poco mejor la cuestión de la asimetría en los datos.\n",
    "\n"
   ]
  },
  {
   "cell_type": "code",
   "execution_count": 64,
   "metadata": {},
   "outputs": [
    {
     "data": {
      "text/plain": [
       "1.0990196123353102"
      ]
     },
     "execution_count": 64,
     "metadata": {},
     "output_type": "execute_result"
    }
   ],
   "source": [
    "# Calculando la simetria con scipy\n",
    "stats.skew(x)"
   ]
  },
  {
   "cell_type": "markdown",
   "metadata": {},
   "source": [
    "---\n",
    "---\n",
    "---\n",
    "<a id=\"e\"></a>\n",
    "<h1><center>2.5. Ejercicio: Analizando las estadísticas del desempleo a nivel mundial</center></h1>\n",
    "\n",
    "[Regreso a contenido](#contenido)\n",
    "\n",
    "---\n",
    "\n",
    "\n",
    "Ejecuta la siguiente celda para cargar el conjunto de datos desde el repositorio en github a la máquina en colab."
   ]
  },
  {
   "cell_type": "code",
   "execution_count": 65,
   "metadata": {},
   "outputs": [
    {
     "name": "stdout",
     "output_type": "stream",
     "text": [
      "Country Name,Country Code,1991,1992,1993,1994,1995,1996,1997,1998,1999,2000,2001,2002,2003,2004,2005,2006,2007,2008,2009,2010,2011,2012,2013,2014,2015,2016,2017,2018,2019\n",
      "Aruba,ABW,,,,,,,,,,,,,,,,,,,,,,,,,,,,,\n",
      "AfganistÃ¡n,AFG,2.976000071,3.173000097,3.463000059,3.611999989,3.653000116,3.621000051,3.602999926,3.536000013,3.605999947,3.51699996,3.426000118,3.549999952,3.41899991,3.086999893,2.941999912,2.825000048,2.128000021,2.493999958,2.470000029,2.275000095,1.983999968,1.692000031,1.725000024,1.735000014,1.67900002,1.633999944,1.559000015,1.542000055,1.519000053\n",
      "Angola,AGO,22.60199928,20.92499924,21.25,21.1590004,21.14800072,20.06599998,21.46500015,20.43799973,20.89699936,22.88500023,23.11499977,23.89599991,23.92499924,23.64299965,20.53199959,17.67399979,14.63300037,12.04399967,10.60900021,9.088999748,7.361999989,7.359000206,7.453999996,7.428999901,7.278999805,7.281000137,7.138999939,7.252999783,7.245999813\n",
      "Albania,ALB,16.78100014,17.65299988,17.68099976,17.52700043,17.60700035,18.3579998,18.31100082,18.32299995,18.56900024,17.7670002,17.4109993,17.51000023,17.49600029,17.27199936,16.87400055,16.3939991,15.9659996,13.06000042,13.67399979,14.08600044,13.48099995,13.3760004,15.86600018,17.48999977,17.07999992,15.22000027,13.75,13.89799976,13.95600033\n",
      "Andorra,AND,,,,,,,,,,,,,,,,,,,,,,,,,,,,,\n",
      "El mundo Ã¡rabe,ARB,11.63521258,12.01692626,12.9373976,13.09752818,13.40927944,12.64731685,12.10890377,12.17029354,12.34084247,12.75788834,12.55773451,12.59576377,12.50698193,11.49361292,11.26562394,10.37505761,9.846245217,9.471167532,9.257483615,9.176461676,10.03192862,10.22665287,10.21181972,10.21067465,10.21207755,9.961817481,9.951110101,9.938816874,9.931899922\n",
      "Emiratos Ã�rabes Unidos,ARE,1.631999969,1.699000001,1.800999999,1.807000041,1.799999952,1.881000042,1.963999987,2.039000034,2.174999952,2.25,2.403000116,2.640000105,2.867000103,3.03399992,3.119999886,2.773000002,2.467000008,2.332999945,2.698999882,2.663000107,2.493999958,2.40899992,2.292000055,2.061000109,1.835999966,1.636000037,2.463000059,2.575000048,2.642999887\n",
      "Argentina,ARG,5.440000057,6.360000134,10.10000038,11.76000023,18.79999924,17.11000061,14.81999969,12.64999962,14.05000019,15,17.31999969,19.59000015,15.35999966,13.52200031,11.50599957,10.07699966,8.470000267,7.836999893,8.645000458,7.714000225,7.178999901,7.217000008,7.099999905,7.268000126,7.643000126,8.015999794,8.347000122,9.482999802,9.984999657\n",
      "Armenia,ARM,1.600000024,1.799999952,5.300000191,6.599999905,6.699999809,9.300000191,10.80000019,9.399999619,11.19999981,11.25300026,11.43900013,11.5170002,11.2329998,11.2159996,10.80000019,10.28100014,9.812000275,16.36800003,18.73999977,19.00799942,18.44300079,17.30999947,16.17900085,17.49799919,18.26099968,17.61700058,17.82699966,17.71199989,17.70700073\n",
      "Australia,AUS,9.579000473,10.72900009,10.8739996,9.718999863,8.468999863,8.505999565,8.362000465,7.676000118,6.872000217,6.282999992,6.742000103,6.368000031,5.928999901,5.394999981,5.032000065,4.782000065,4.376999855,4.234000206,5.56099987,5.210999966,5.080999851,5.223999977,5.663000107,6.078000069,6.056000233,5.710999966,5.593999863,5.387000084,5.328000069\n",
      "Austria,AUT,3.420000076,3.589999914,4.25,3.535000086,4.347000122,5.281000137,5.149000168,5.522999763,4.697999954,4.686999798,4.006999969,4.848999977,4.778999805,5.834000111,5.627999783,5.243000031,4.857999802,4.127999783,5.301000118,4.820000172,4.56400013,4.864999771,5.335000038,5.619999886,5.72300005,6.013999939,5.499000072,4.785999775,4.635000229\n",
      "AzerbaiyÃ¡n,AZE,0.8999999762,1.799999952,4.5,6.300000191,7.199999809,8.100000381,9.100000381,10,10.89999962,11.80000019,10.89999962,10,9.25,8,7.300000191,6.619999886,6.539999962,6.050000191,5.739999771,5.630000114,5.420000076,5.190000057,4.96999979,4.909999847,4.960000038,5,5,5.21999979,5.395999908\n",
      "Burundi,BDI,1.550999999,1.527999997,1.605000019,1.827000022,1.89199996,1.850000024,2.016000032,1.995000005,2.051000118,2.105999947,2.062000036,2.121999979,2.066999912,2.045000076,1.947999954,1.799999952,1.639999986,1.633999944,1.794999957,1.799999952,1.766000032,1.712000012,1.674000025,1.570000052,1.592000008,1.565999985,1.501000047,1.527999997,1.537999988\n",
      "BÃ©lgica,BEL,6.986000061,6.701000214,8.076999664,9.647000313,9.338999748,9.482999802,8.956000328,9.322999954,8.649000168,6.585999966,6.177000046,6.909999847,7.679999828,7.362999916,8.43999958,8.24600029,7.458000183,6.975999832,7.907999992,8.291999817,7.139999866,7.541999817,8.425000191,8.522999763,8.482000351,7.829999924,7.085999966,6.322999954,6.440999985\n",
      "Benin,BEN,1.480999947,1.50999999,1.552000046,1.286000013,1.20599997,1.157999992,1.059999943,0.976000011,0.8759999871,0.8159999847,0.7129999995,0.6899999976,0.7289999723,0.7689999938,0.8050000072,0.7829999924,0.7319999933,0.7879999876,0.9670000076,1.039999962,2.645999908,2.734999895,2.665999889,2.540999889,2.463000059,2.41899991,2.180000067,2.125,2.025000095\n",
      "Burkina Faso,BFA,2.438999891,2.411000013,2.568000078,2.579999924,2.555999994,2.54399991,2.453999996,2.440000057,2.532999992,2.664000034,2.778000116,2.809000015,2.779999971,3.390000105,4,3.698999882,3.299999952,3.594000101,4.396999836,4.90899992,5.293000221,5.809000015,6.277999878,6.479000092,6.703999996,6.363999844,6.014999866,6.059000015,6.149000168\n",
      "Bangladesh,BGD,2.200000048,2.253000021,2.377000093,2.440000057,2.480000019,2.50999999,2.684999943,2.829999924,3.095000029,3.269999981,3.551000118,3.960999966,4.320000172,4.302000046,4.25,3.59100008,3.767999887,4.077000141,5,3.378999949,3.717999935,4.047999859,4.426000118,4.410999775,4.415999889,4.349999905,4.372000217,4.308000088,4.293000221\n",
      "Bulgaria,BGR,12.18400002,12.34899998,13.03100014,13.53800011,13.33699989,13.50899982,13.69999981,12.19999981,14.10000038,16.21800041,19.92099953,18.10899925,13.7329998,12.0369997,10.08300018,8.951000214,6.877999783,5.609000206,6.816999912,10.27900028,11.26000023,12.27000046,12.94099998,11.42399979,9.142999649,7.574999809,6.164000034,5.261000156,4.818999767\n",
      "Bahrein,BHR,0.97299999,1.032999992,1.128999949,1.13499999,1.128000021,1.105999947,1.085999966,1.059999943,1.078999996,1.052999973,1.031000018,1.05400002,1.06400001,1.041000009,0.9860000014,0.9049999714,0.8379999995,0.8349999785,1.069000006,1.129999995,1.139999986,1.200000048,1.215999961,1.149000049,1.075999975,1.013000011,0.9470000267,0.9620000124,0.9679999948\n",
      "Bahamas,BHS,12.17000008,14.81000042,12.72000027,13.82999992,10.82999992,11.46000004,9.760000229,7.650000095,7.449999809,7.152999878,6.869999886,9.050000191,10.84000015,10.19999981,10.19999981,7.539999962,7.880000114,8.180000305,14.25,14.53999996,14.52000046,14.02000046,16.18000031,13.80000019,12,12.69999981,12.38099957,11.85000038,11.50199986\n",
      "Bosnia y Herzegovina,BIH,17.54999924,18.37700081,19.51399994,20.39500046,21.21199989,21.92700005,22.90299988,23.69599915,25.31100082,26.18700027,27.12899971,28.22200012,29.03000069,29.86599922,30.48999977,31.11000061,28.98399925,23.40500069,24.06800079,27.31200027,27.58200073,28.01000023,27.45000076,27.5170002,27.64999962,25.40999985,20.46999931,20.8390007,21.21800041\n",
      "BelarÃºs,BLR,0.6000000238,3.099999905,8.5,12.80000019,17.70000076,24.39999962,17.10000038,14,12.80000019,11.94200039,11.31400013,10.89299965,10.14999962,9.272000313,8.534999847,7.605000019,6.781000137,6.122000217,6.099999905,6.06099987,6.074999809,6.038000107,5.934999943,5.893000126,5.913000107,5.840000153,5.650000095,5.708000183,5.795000076\n",
      "Belice,BLZ,8.074000359,9.616999626,9.779999733,11.10000038,12.47999954,13.81999969,12.68000031,14.31000042,12.84000015,10.55900002,9.069999695,10.03999996,10.50399971,10.79800034,10.90999985,9.390000343,8.510000229,8.180000305,10.11499977,11.6590004,12.75800037,14.27000046,11.69999981,11.56999969,9.970000267,7.909999847,9,9.368000031,9.496999741\n",
      "Bolivia,BOL,2.890000105,2.881000042,3.150000095,3.289999962,3.289000034,3.296999931,3.280999899,3.184000015,3.352999926,3.365999937,3.417999983,3.460000038,3.503000021,3.461999893,3.256000042,2.987999916,2.72300005,2.602999926,2.862999916,2.576999903,2.219000101,2.048000097,2.394000053,2.006999969,3.065999985,3.055999994,3.23300004,3.257999897,3.266000032\n",
      "Brasil,BRA,6.260000229,6.420000076,6.03000021,6.09800005,6.420000076,7.252999783,8.157999992,9.423000336,10.20800018,9.894000053,9.609999657,9.37100029,9.991000175,9.104999542,9.56799984,8.638999939,8.326999664,7.342999935,8.522000313,7.725999832,6.916999817,7.19299984,6.985000134,6.670000076,8.437000275,11.60900021,12.82699966,12.54399967,12.21800041\n",
      "Barbados,BRB,22.49300003,22.94000053,24.54000092,22.97999954,19.65999985,14.71000004,14.60999966,12.39999962,10.60999966,9.350000381,9.850000381,10.31999969,11,9.569999695,9.079999924,8.729999542,7.409999847,8.119999886,10.02000046,10.68999958,11.18999958,11.59000015,11.55000019,12.17000008,11.35000038,9.720000267,9.487000465,9.56799984,9.588000298\n",
      "Brunei Darussalam,BRN,4.699999809,4.90500021,5.175000191,5.268000126,5.337999821,5.375999928,5.418000221,5.447999954,5.572000027,5.599999905,5.633999825,5.771999836,5.881000042,5.914999962,5.868999958,5.743000031,5.624000072,5.697000027,6.423999786,6.657999992,6.71999979,6.896999836,7.028999805,6.965000153,7.756000042,8.559000015,9.315999985,9.223999977,9.244999886\n",
      "BhutÃ¡n,BTN,1.294999957,1.215999961,1.30400002,1.269000053,1.325999975,1.33099997,1.411000013,1.399999976,1.399999976,1.707999945,1.899999976,1.866000056,1.799999952,2.49000001,3.099999905,3.130000114,3.700000048,3.46600008,3.960000038,3.319999933,3.230000019,2.049999952,2.869999886,2.630000114,2.450000048,2.338999987,2.170000076,2.197000027,2.187000036\n",
      "Botswana,BWA,13.81999969,15.86600018,18.58300018,21.20000076,21.38800049,21.57999992,21.64800072,20.86000061,18.92900085,15.88000011,18.54000092,21.20299911,23.79999924,21.68400002,19.83200073,17.79999924,16.62899971,15.93000031,16.16900063,17.86000061,17.77000046,17.91300011,18.2859993,18.22299957,17.95599937,17.9489994,17.63100052,17.94099998,18.19199944\n",
      "RepÃºblica Centroafricana,CAF,6.741000175,6.835999966,7.119999886,7.236999989,7.184000015,7.531000137,7.626999855,7.471000195,7.609000206,7.59100008,7.597000122,7.681000233,7.717000008,7.599999905,7.329999924,6.959000111,6.605999947,6.388999939,6.872000217,6.926000118,7.001999855,6.918000221,6.894999981,6.901000023,6.754000187,6.646999836,6.447000027,6.482999802,6.521999836\n",
      "CanadÃ¡,CAN,10.31599998,11.19699955,11.37699986,10.39500046,9.48900032,9.619999886,9.100999832,8.277999878,7.583000183,6.828999996,7.218999863,7.664999962,7.573999882,7.184999943,6.757999897,6.320000172,6.035999775,6.137000084,8.343999863,8.055999756,7.511000156,7.291999817,7.073999882,6.914000034,6.906000137,6.999000072,6.340000153,5.920000076,6.05700016\n",
      "Europa Central y del BÃ¡ltico,CEB,9.501198007,9.866817955,11.18158792,11.29054659,10.86693367,10.13746717,9.158796817,8.951553546,10.38551,12.43645755,13.2299211,13.74464336,12.95886308,12.93481377,12.05441535,10.10462335,7.80861418,6.604396453,8.4881597,9.899751356,9.789602392,9.978760754,10.04648544,8.952362681,7.817327597,6.489337213,5.294534851,4.328621021,4.083569169\n",
      "Suiza,CHE,1.77699995,2.811000109,3.717000008,3.878999949,3.326999903,3.704999924,4.203999996,3.596999884,3.144999981,2.665999889,2.49000001,2.924000025,4.116000175,4.315999985,4.436999798,4,3.65199995,3.349999905,4.116000175,4.80700016,4.407999992,4.485000134,4.747000217,4.826000214,4.801000118,4.918000221,4.796999931,4.882999897,4.874000072\n",
      "Islas del Canal,CHI,7.587999821,7.782999992,8.071000099,8.088000298,8.069000244,8.00399971,7.945000172,7.868000031,7.926000118,7.847000122,7.777999878,7.849999905,7.881000042,7.811999798,7.636000156,7.355999947,7.092000008,7.078999996,7.895999908,8.076000214,8.038000107,8.138999939,8.18500042,7.993000031,7.77699995,7.574999809,7.347000122,7.288000107,7.232999802\n",
      "Chile,CHL,5.230000019,4.349999905,4.489999771,5.869999886,4.699999809,7.414000034,7.136000156,7.30700016,11.15799999,10.49100018,10.39000034,10.16800022,9.765000343,10.1619997,9.340000153,9.024000168,8.427000046,9.284999847,11.31299973,8.423999786,7.343999863,6.65899992,6.214000225,6.664999962,6.507999897,6.737999916,6.958000183,7.22300005,7.43200016\n",
      "China,CHN,2.400000095,2.400000095,2.700000048,2.900000095,3,3.099999905,3.200000048,3.200000048,3.299999952,3.299999952,3.799999952,4.199999809,4.599999905,4.5,4.5,4.400000095,4.300000191,4.599999905,4.699999809,4.5,4.5,4.599999905,4.599999905,4.599999905,4.599999905,4.5,4.400000095,4.416999817,4.423999786\n",
      "CÃ´te d'Ivoire,CIV,6.56799984,6.699999809,5.998000145,5.063000202,4.099999905,4.197999954,4.099999905,4.099999905,4.461999893,4.671999931,4.941999912,5.369999886,5.456999779,5.631000042,5.671999931,5.693999767,5.56099987,5.607999802,6.493000031,6.75,7.291999817,7.22300005,4.254000187,3.660000086,3.112999916,2.598999977,2.487999916,2.480000019,2.444999933\n",
      "CamerÃºn,CMR,7.257999897,7.43599987,7.736999989,7.906000137,8.022000313,8.06000042,8.041000366,8.031000137,8.123999596,7.618000031,7.460000038,6.818999767,6.089000225,5.116000175,4.400000095,3.670000076,3.062999964,3.108999968,3.693000078,4.110000134,3.993000031,3.845000029,3.742000103,3.53399992,3.539000034,3.470999956,3.358999968,3.361000061,3.339999914\n",
      "\"Congo, RepÃºblica DemocrÃ¡tica del\",COD,2.540999889,2.407000065,2.747999907,3.029000044,3.012000084,2.516000032,2.454999924,2.446000099,3.082000017,3.048000097,3.063999891,3.096999884,3.062000036,2.934999943,2.848999977,2.904000044,2.983999968,3.170000076,3.66899991,3.946000099,4.297999859,4.485000134,4.429999828,4.160999775,4.173999786,4.295000076,4.102000237,4.15500021,4.271999836\n",
      "\"Congo, RepÃºblica del\",COG,20.33300018,20.44799995,20.48399925,18.91799927,20.03100014,20.02799988,20.4470005,20.59000015,20.18799973,20.15999985,20.03199959,20.52199936,20.34600067,20.21199989,19.79599953,18.23600006,16.44199944,16.11100006,16.10000038,14.14900017,11.96000004,10,10.02900028,9.576000214,9.758999825,9.708999634,10.15600014,10.38199997,10.38700008\n",
      "Colombia,COL,10.11999989,9.43999958,7.800000191,8.25,8.720000267,11.81000042,12.14000034,15,20.05999947,20.52000046,15.03999996,15.63300037,14.18900013,13.71700001,11.86999989,11.50699997,11.20400047,11.27299976,12.06599998,10.98400021,10.11100006,9.739999771,9.052000046,8.57199955,8.298999786,8.692000389,8.871999741,9.093000412,9.187999725\n",
      "Comoras,COM,4.146999836,4.15500021,4.367000103,4.272999763,4.468999863,4.620999813,4.610000134,4.546000004,4.722000122,4.665999889,4.644000053,4.705999851,4.671999931,4.571000099,4.482999802,4.197999954,3.924000025,3.786000013,4.197000027,4.230999947,4.249000072,4.198999882,4.150000095,4.074999809,3.99000001,3.851999998,3.696000099,3.710000038,3.703000069\n",
      "Cabo Verde,CPV,10.32299995,10.46399975,10.83199978,10.84200001,11.10099983,11.1420002,11.19400024,11.45400047,11.65499973,11.72799969,11.69699955,11.71500015,11.81299973,11.35900021,11.23400021,10.96500015,10.10599995,9.961000443,10.64000034,10.67000008,10.97599983,11.60200024,12.11200047,11.99300003,12.11400032,12.31200027,12.24100018,12.27600002,12.30300045\n",
      "Costa Rica,CRI,5.373000145,3.927000046,3.953999996,4.045000076,5.176000118,6.162000179,5.681000233,5.327000141,5.894999981,5.081999779,5.914999962,6.334000111,6.558000088,6.390999794,6.571000099,5.739999771,4.489999771,4.781000137,7.712999821,7.171000004,10.13899994,9.784000397,8.767999649,9.059000015,8.998999596,8.597999573,8.142000198,8.128000259,8.190999985\n",
      "Estados pequeos del Caribe,CSS,13.02492318,13.11260877,13.52025768,12.93552117,12.69067063,12.48525372,12.51912391,11.92287716,11.99457031,11.62312658,11.26719046,11.12867057,10.18359816,9.811227895,9.547825592,8.746980109,8.247696751,8.496131514,9.850974746,10.44484255,10.66062658,11.34100282,11.7641328,10.99975138,10.76891896,10.58924659,9.914562188,8.957645454,8.966007668\n",
      "Cuba,CUB,7.598999977,7.803999901,8.256999969,8.31400013,8.270000458,7.610000134,7.099999905,6.230000019,6.260000229,5.449999809,4.079999924,3.309999943,2.329999924,1.853999972,1.950000048,1.912999988,1.787999988,1.582999945,1.669999957,2.5,3.180000067,3.460000038,3.289999962,2.700000048,2.400000095,2.361999989,2.278000116,2.263999939,2.252000093\n",
      "Chipre,CYP,2.036000013,2.089999914,2.58100009,3.035000086,3.512000084,3.997999907,4.514999866,5.046999931,5.699999809,4.967000008,3.983999968,3.299000025,4.135000229,4.333000183,5.303999901,4.543000221,3.921999931,3.654999971,5.363999844,6.263000011,7.855999947,11.79500008,15.87100029,16.08799934,14.90799999,12.94999981,11.05200005,8.109000206,7.916999817\n",
      "RepÃºblica Checa,CZE,2.269999981,3.181999922,4.320000172,4.296000004,4.024000168,3.894000053,4.270999908,5.903999805,8.48900032,8.762000084,7.991000175,7.019000053,7.544000149,8.210000038,7.927000046,7.147999763,5.320000172,4.392000198,6.662000179,7.278999805,6.710999966,6.978000164,6.953000069,6.107999802,5.046000004,3.950999975,2.890000105,2.397000074,2.473999977\n",
      "Alemania,DEU,5.316999912,6.322999954,7.675000191,8.727999687,8.157999992,8.824999809,9.862999916,9.788000107,8.854999542,7.916999817,7.772999763,8.482000351,9.779000282,10.72700024,11.16699982,10.25,8.657999992,7.524000168,7.742000103,6.96600008,5.823999882,5.379000187,5.230999947,4.980999947,4.624000072,4.122000217,3.746000051,3.424999952,3.198999882\n",
      "Djibouti,DJI,12.23200035,12.45899963,12.83100033,13.21000004,13.51500034,13.51299953,13.54399967,13.43200016,13.81299973,13.63599968,13.61299992,13.6079998,13.29399967,13.00199986,12.69699955,11.7840004,11.02900028,10.77900028,11.71700001,12.47700024,12.41800022,12.28899956,11.72599983,11.74499989,11.09399986,11.04599953,11.16399956,11.12199974,11.02999973\n",
      "Dinamarca,DNK,9.098999977,9.027000427,10.71899986,8.036000252,6.992000103,6.843999863,5.400000095,5.039000034,5.140999794,4.475999832,4.164000034,4.274000168,5.397999763,5.203999996,4.829999924,3.897000074,3.801000118,3.434000015,6.006999969,7.464000225,7.572999954,7.526000023,6.997000217,6.589000225,6.168000221,6.181000233,5.743000031,4.974999905,4.830999851\n",
      "RepÃºblica Dominicana,DOM,6.05700016,6.160999775,6.357999802,6.380000114,6.491000175,6.504000187,6.524000168,6.300000191,6.458000183,6.43200016,7.262000084,6.778999805,6.938000202,6.302999973,6.586999893,5.65500021,5.157999992,4.763999939,5.467000008,5.211999893,6.086999893,6.722000122,7.352000237,6.718999863,7.605000019,7.28399992,5.831999779,5.828999996,5.828000069\n",
      "Argelia,DZA,20.60000038,24.37999916,26.22999954,27.73999977,31.84000015,28.61800003,25.43000031,26.91900063,28.44799995,29.77000046,27.29999924,25.89999962,23.71999931,17.64999962,15.27000046,12.27000046,13.78999996,11.32999992,10.15999985,9.960000038,9.960000038,10.97000027,9.819999695,10.20699978,11.20600033,10.20199966,11.99600029,12.14500046,12.34899998\n",
      "Asia oriental y el PacÃ­fico (excluido altos ingresos),EAP,2.425355726,2.396416186,2.694042111,2.875584015,2.975177182,3.078111981,3.213080186,3.364549382,3.524491702,3.472427999,3.860030789,4.144065466,4.432202309,4.413545778,4.470494266,4.351110959,4.304076924,4.456242425,4.395529368,4.144057157,4.082022402,4.070454687,4.063485389,4.03207892,4.091427108,4.002129032,3.917116961,3.938292172,3.94545415\n",
      "inicial del dividendo demogrÃ¡fico,EAR,3.88564646,3.979693751,4.337553655,4.532446075,4.874971375,4.801135014,4.726718429,4.832040555,5.08264925,5.077730057,5.201675327,5.543588666,5.469939415,5.263852165,5.213021385,4.778372185,4.530360948,4.323181979,4.61700569,4.450215984,4.438750735,4.48140557,4.603195291,4.510154073,4.656637433,4.656287505,4.536072951,4.53908073,4.588520862\n",
      "Asia oriental y el PacÃ­fico,EAS,2.472108441,2.466692374,2.757082135,2.925414744,3.017895444,3.128640642,3.256887688,3.528366155,3.697518772,3.598731434,3.972554631,4.247188801,4.500633965,4.435461658,4.458699981,4.321497976,4.254026654,4.396629199,4.454440997,4.215044251,4.108580954,4.08161867,4.060260684,4.019364474,4.061982121,3.966466253,3.869609884,3.868119814,3.871915372\n",
      "Europa y Asia central (excluido altos ingresos),ECA,5.201177457,5.48368925,6.237014186,7.826182166,9.115240512,9.87750514,10.7482036,11.78695374,11.97650616,10.69829726,10.02583403,9.736313705,9.503149657,9.214441556,8.591850061,8.092871424,7.288936382,7.286292849,8.996582604,8.406248334,7.800821872,7.207280825,7.234515832,7.417088568,7.542561916,7.503900603,7.220870965,7.039704279,7.200292055\n",
      "Europa y Asia central,ECS,6.939491799,7.443077144,8.618512896,9.667059235,9.979248501,10.3264467,10.56722228,10.7437821,10.64562341,9.813948618,9.106684579,9.151833597,9.163818639,9.136716496,8.722140813,8.06932202,7.149017819,7.071311856,8.900835141,8.991802811,8.752373978,8.960756565,9.189919368,8.940020759,8.543163706,8.076599,7.453813602,6.94375318,6.82712406\n",
      "Ecuador,ECU,4.431000233,4.465000153,4.717999935,4.847000122,4.921000004,4.980999947,4.987999916,4.856999874,5.006000042,4.798999786,4.251999855,4.925000191,5.662000179,5.001999855,3.779000044,3.549999952,3.14199996,3.917000055,4.607999802,4.087999821,3.457999945,3.234999895,3.082999945,3.480000019,3.615999937,4.597000122,3.835999966,3.910000086,3.980999947\n",
      "\"Egipto, RepÃºblica Ã�rabe de\",EGY,9.380000114,8.920000076,10.92000008,10.93000031,11.03999996,9,8.369999886,8.029999733,7.949999809,8.979999542,9.260000229,10.01000023,11.01000023,10.31999969,11.19999981,10.48999977,8.800000191,8.517000198,9.086999893,8.756999969,11.84899998,12.59700012,13.15400028,13.10499954,13.05200005,12.40699959,11.77000046,11.43599987,11.29300022\n",
      "Zona del Euro,EMU,8.276050672,8.8900318,10.67587631,11.75774299,11.43417795,11.66523161,11.66033812,11.19979996,10.43975333,9.42446955,8.347926738,8.61444366,8.957976995,9.245232944,8.952793886,8.247729666,7.377709645,7.429980954,9.478211724,10.04029148,10.11387838,11.29321272,11.93183711,11.60419662,10.83614138,10.02283311,9.055182073,8.20808511,7.790755584\n",
      "Eritrea,ERI,6.702000141,6.81400013,6.604000092,6.75,6.870999813,6.632999897,6.556000233,6.578000069,6.446000099,6.861000061,6.446000099,6.863999844,6.816999912,6.856999874,6.71600008,6.629000187,6.360000134,6.106999874,6.831999779,6.899000168,6.907000065,6.926000118,6.954999924,6.867000103,6.80700016,6.684000015,6.497000217,6.543000221,6.546000004\n",
      "EspaÃ±a,ESP,15.9289999,17.70100021,22.1609993,24.20899963,22.67499924,22.1420002,20.69799995,18.67399979,15.47599983,13.78499985,10.34799957,11.14599991,11.28299999,11.09000015,9.145999908,8.451999664,8.232000351,11.25399971,17.85700035,19.86000061,21.38999939,24.78700066,26.09399986,24.44099998,22.05699921,19.63500023,17.22400093,15.48700047,14.69999981\n",
      "Estonia,EST,1.468000054,3.680999994,6.544000149,7.56099987,9.659000397,9.914999962,10.36900043,9.510000229,11.57299995,13.35999966,13.13399982,10.02600002,11.28800011,10.24800014,8.032999992,5.914999962,4.592000008,5.454999924,13.54800034,16.70700073,12.32800007,10.02099991,8.630999565,7.352000237,6.186999798,6.762000084,5.760000229,5.507999897,5.881999969\n",
      "EtiopÃ­a,ETH,2.898000002,2.976000071,3.095999956,3.099999905,3.316999912,3.338000059,3.492000103,3.489000082,3.713999987,3.440999985,3.209000111,3.065999985,2.913000107,2.664999962,2.496999979,2.295000076,2.178999901,2.130000114,2.354000092,2.390000105,2.289000034,2.197000027,2.250999928,2.104000092,2.013999939,1.934999943,1.809999943,1.809000015,1.787999988\n",
      "UniÃ³n Europea,EUU,8.58317225,9.234164635,10.67395248,11.2424781,10.76118373,10.71120505,10.38476749,9.906533845,9.651201389,9.277701125,8.62036278,8.960853598,9.022589258,9.199156788,8.900379509,8.155597964,7.125534321,6.957113077,8.871333358,9.511926183,9.600048734,10.41781939,10.81740586,10.20686805,9.38320489,8.536700676,7.615110322,6.827696429,6.489369837\n",
      "FrÃ¡giles y situaciones de conflicto afectados,FCS,5.141501601,5.096659621,5.312056698,5.358000614,5.395724924,5.435693459,5.490875084,5.508812154,5.733581402,5.85443245,6.015934445,6.184557859,6.165749292,6.158341416,6.114843792,5.991649839,5.89372419,5.948232761,6.070236784,6.110535521,6.089780945,6.029511459,5.912481852,5.756253662,5.797991839,5.901398269,5.833429041,5.883462186,5.916716653\n",
      "Finlandia,FIN,6.502999783,11.59500027,16.20100021,16.4260006,17.00499916,15.57199955,14.96700001,13.21399975,11.69299984,11.13399982,10.28999996,10.42300034,10.46899986,10.3579998,8.383999825,7.718999863,6.854000092,6.368999958,8.248999596,8.394000053,7.781000137,7.68900013,8.19299984,8.663000107,9.376000404,8.81799984,8.640000343,7.755000114,7.251999855\n",
      "Fiji,FJI,3.687999964,3.86500001,3.960000038,4.110000134,4.144000053,4.124000072,4.031000137,3.838000059,4.118000031,4.145999908,4.147999763,4.157000065,4.071000099,4.063000202,3.885999918,3.834000111,3.75999999,3.624000072,4.157000065,4.352000237,4.40500021,4.515999794,4.356999874,4.532999992,4.547999859,4.318999767,4.143000126,4.15199995,4.151000023\n",
      "Francia,FRA,9.133999825,10.20499992,11.3210001,12.59300041,11.83600044,12.36699963,12.56599998,12.07499981,11.98099995,10.21700001,8.609999657,8.701999664,8.305999756,8.913999557,8.493000031,8.447999954,7.657000065,7.063000202,8.736000061,8.87100029,8.81099987,9.399999619,9.920999527,10.29199982,10.35900021,10.05700016,9.397000313,9.180000305,9.098999977\n",
      "GabÃ³n,GAB,16.93700027,17.21899986,17.78000069,17.63599968,17.61800003,17.66200066,17.21199989,17.10199928,17.68300056,17.62299919,17.39900017,17.4260006,17.51799965,17.3010006,16.90999985,17.02700043,17.35400009,17.81800079,19.27400017,20.38999939,20.38699913,20.1760006,20.11100006,19.91600037,19.98600006,19.62599945,19.37400055,19.48800087,19.6060009\n",
      "Reino Unido,GBR,8.552000046,9.777000427,10.34799957,9.649999619,8.694000244,8.192000389,7.072000027,6.203000069,6.043000221,5.561999798,4.695000172,5.037000179,4.80700016,4.593999863,4.75,5.349999905,5.262000084,5.614999771,7.537000179,7.787000179,8.036999702,7.885000229,7.525000095,6.110000134,5.301000118,4.813000202,4.335000038,3.953999996,3.809000015\n",
      "Georgia,GEO,2.700000048,5.400000095,5.400000095,8.399999619,7.599999905,11.5,11.5,14.52999973,13.80000019,10.81999969,11.15999985,12.59000015,11.51000023,12.61999989,13.81000042,13.56999969,13.27999973,17.87000084,18.29999924,17.40999985,17.34000015,17.21999931,16.94000053,14.61999989,14.07999992,13.97000027,13.93000031,14.10599995,14.24600029\n",
      "Ghana,GHA,4.644000053,4.699999809,5.281000137,5.850999832,6.472000122,7.079999924,7.600999832,8.199999809,10.10000038,10.35999966,9.289999962,8.579999924,7.568999767,6.46999979,5.539000034,4.635000229,4.565000057,4.657000065,5.171999931,5.320000172,5.907999992,6.006000042,6.429999828,6.477000237,6.806000233,6.767000198,6.629000187,6.710000038,6.78399992\n",
      "Guinea,GIN,3.89199996,4.038000107,4.210000038,4.335999966,4.388000011,4.386000156,4.393000126,4.407999992,4.458000183,4.388000011,4.453999996,4.548999786,4.349999905,4.297999859,4.211999893,3.97300005,3.910000086,3.697999954,4.127999783,4.28399992,4.224999905,4.103000164,4.203000069,4.232999802,4.210999966,3.667999983,3.572000027,3.607000113,3.572000027\n",
      "Gambia,GMB,9.699999809,9.800999641,10.15999985,10.23700047,10.27499962,10.17599964,10.3210001,10.39299965,10.60900021,10.6260004,10.35700035,10.50699997,10.50800037,9.857999802,9.663999557,9.227000237,9.093999863,9.119999886,9.621999741,9.67800045,9.630000114,9.416999817,9.729000092,9.552000046,9.538999557,9.43599987,8.906000137,8.904999733,8.897999763\n",
      "Guinea-Bissau,GNB,4.032000065,4.073999882,4.381000042,4.208000183,4.602000237,4.638999939,4.492000103,4.561999798,4.764999866,4.676000118,4.617000103,4.738999844,4.678999901,4.650000095,4.479000092,4.230999947,3.953000069,3.858999968,4.303999901,4.379000187,4.438000202,4.452000141,4.473999977,4.275000095,4.31799984,4.21999979,4.032999992,4.05700016,4.070000172\n",
      "Guinea Ecuatorial,GNQ,8.440999985,8.779000282,8.831000328,8.440999985,7.94299984,7.09100008,7.611000061,7.074999809,7.72300005,8.062999725,8.170999527,8.234999657,8.501999855,8.536000252,8.444999695,8.156999588,7.822000027,7.743000031,8.100000381,8.237999916,8.407999992,8.194000244,8.578000069,8.531999588,8.906999588,9.279000282,9.154999733,9.161999702,9.211999893\n",
      "Grecia,GRC,7.656000137,7.842999935,8.612999916,8.862999916,9.062000275,9.654999733,9.576999664,10.83899975,11.85299969,11.24800014,10.45600033,9.975000381,9.411999702,10.31099987,9.994000435,9.008000374,8.395999908,7.760000229,9.616000175,12.7130003,17.86499977,24.43899918,27.4659996,26.49099922,24.89699936,23.53899956,21.48800087,19.20700073,18.08099937\n",
      "Guatemala,GTM,2.61500001,2.596999884,2.746999979,2.845999956,2.898000002,2.924999952,2.928999901,2.861999989,2.91899991,2.897000074,2.78399992,2.851000071,2.806999922,2.970999956,2.993999958,2.885999918,2.796000004,2.84100008,3.308000088,3.496999979,4.125999928,2.765000105,3.016000032,2.717000008,2.506000042,2.825999975,2.684000015,2.726999998,2.746000051\n",
      "Guam,GUM,3.509000063,3.836999893,5.52699995,7.599999905,7.900000095,8.282999992,9.670000076,7.739999771,13.94999981,15.31999969,13.2130003,11.39000034,9.508999825,7.699999809,7,7.400000095,8.300000191,8.347999573,9.300000191,8.199999809,13.30000019,12.19999981,11.5,7.599999905,6.900000095,5.400000095,5.244999886,5.611999989,5.857999802\n",
      "Guyana,GUY,11.94999981,11.89999962,12.23099995,12.46899986,12.29100037,12.21399975,11.97500038,11.83600044,12.06000042,11.85599995,11.75599957,11.81000042,11.76099968,11.57699966,11.08699989,10.69999981,10.47599983,10.47399998,11.39900017,11.65699959,11.74300003,11.93299961,12.28299999,12.36699963,12.55200005,12.3380003,12.11499977,12.15100002,12.21899986\n",
      "Ingreso alto,HIC,6.733674188,7.290055989,7.82810193,7.833237962,7.418016942,7.418465301,7.165236333,7.079652125,6.930644643,6.522522587,6.497386725,6.998589469,7.139689551,6.972437175,6.652450851,6.105889428,5.585067634,5.847891559,7.952841752,8.217327189,7.888669842,7.926120916,7.836499501,7.231453777,6.617682155,6.146963557,5.590455218,5.113904661,4.961949474\n",
      "\"Hong Kong, RegiÃ³n Administrativa Especial\",HKG,1.799999952,1.960000038,1.960000038,1.899999976,3.220000029,2.829999924,2.220000029,4.579999924,6.25,4.920000076,5.090000153,7.28000021,7.860000134,6.739999771,5.579999924,4.769999981,4.010000229,3.559999943,5.260000229,4.309999943,3.420000076,3.289999962,3.400000095,3.299999952,3.319999933,3.390000105,3.089999914,2.778000116,2.75999999\n",
      "Honduras,HND,4.579999924,3.059999943,3.046999931,2.999000072,3.24000001,4.369999886,3.319999933,4.019999981,3.849999905,4.035999775,4,4.019999981,5.300000191,5.989999771,4.90899992,3.575000048,3.210999966,3.155999899,3.292000055,4.118999958,4.474999905,3.753999949,4.096000195,5.487999916,4.592000008,4.668000221,4.047999859,4.076000214,4.109000206\n",
      "PaÃ­ses pobres muy endeudados (PPME),HPC,4.680082659,4.670536716,4.893841763,4.894065599,4.946822133,4.953077333,4.938803633,4.909606174,5.189766999,5.177825992,5.117311875,5.160871998,5.139883444,4.981499347,4.842189874,4.572701398,4.313309291,4.215784833,4.571680661,4.732238459,4.577476425,4.349933751,4.210206209,4.035846645,4.057182751,4.031483096,3.873327616,3.890739576,3.905734913\n",
      "Croacia,HRV,11.14000034,10.97200012,10.88399982,10.51000023,10.11100006,9.680000305,9.710000038,11.3920002,13.55900002,16.06399918,15.82199955,15.05300045,13.92399979,13.66399956,12.59799957,11.13000011,9.909000397,8.529999733,9.201999664,11.61999989,13.67800045,15.93500042,17.25099945,17.29000092,16.17499924,13.10299969,11.20800018,8.850000381,7.769000053\n",
      "HaitÃ­,HTI,6.822999954,6.938000202,7.120999813,7.21600008,7.18200016,7.052999973,7.18599987,7.106999874,7.199999809,8.338999748,9.552000046,11.00300026,12.15799999,13.53800011,14.87699986,15.81200027,16.79999924,15.93900013,16.23500061,15.64299965,14.9289999,14.10000038,14.14299965,13.91800022,13.72399998,13.64700031,13.40499973,13.52600002,13.48400021\n",
      "HungrÃ­a,HUN,9.704999924,9.942000389,12.09799957,10.84700012,10.16800022,10.02200031,8.989999771,8.925000191,6.928999901,6.563000202,5.671000004,5.607999802,5.789999962,5.831999779,7.188000202,7.493999958,7.406000137,7.816999912,10.02999973,11.17199993,11.02900028,11.00300026,10.17599964,7.724999905,6.813000202,5.114999771,4.156000137,3.663000107,3.463999987\n",
      "SÃ³lo BIRF,IBD,3.920529631,3.94046226,4.253675013,4.571470769,4.894453549,4.985547766,5.094394604,5.307140022,5.5935759,5.505725842,5.654654172,5.909992262,6.022657668,5.820008522,5.743946186,5.387886183,5.088664059,5.00598019,5.346635623,5.10579203,5.007888148,5.010285842,5.01152081,4.965075781,5.090759819,5.191171389,5.1213395,5.094671244,5.108120641\n",
      "BIRF y la AIF,IBT,3.88544212,3.910793484,4.216179141,4.502133045,4.781283308,4.877099138,4.972321364,5.161846211,5.427667935,5.348069078,5.465220211,5.688655589,5.771308679,5.575946682,5.484785914,5.136176678,4.853084871,4.784461188,5.125860759,4.918426834,4.830508542,4.834106229,4.858222322,4.786880943,4.944767534,5.035761706,4.946899682,4.921616332,4.933223759\n",
      "total de la AIF,IDA,3.708476105,3.762430757,4.030476642,4.1625467,4.233196645,4.357854207,4.395151187,4.483362637,4.661032603,4.628723195,4.611935012,4.702724011,4.664850079,4.511287637,4.365656803,4.063749886,3.862439728,3.867361797,4.226431636,4.169256647,4.132409142,4.151166923,4.273033731,4.116825474,4.405834202,4.471544059,4.326692904,4.31855148,4.336334615\n",
      "mezcla de la AIF,IDB,3.351905832,3.510005471,3.859895941,4.178277397,4.293531112,4.604742233,4.641961971,4.839957076,4.853683242,4.624629745,4.507998007,4.451279091,4.290335665,4.047038225,3.819245966,3.535461655,3.214983291,3.184415469,3.488092461,3.588681353,3.552342653,3.826639691,4.309617845,4.09605925,5.01495847,5.25737422,5.025185719,4.99818675,5.040583951\n",
      "Indonesia,IDN,2.539999962,2.670000076,3.282000065,3.63499999,3.99000001,4.369999886,4.679999828,5.460000038,6.300000191,6.077000141,6.081999779,6.604000092,6.657000065,7.302999973,7.945000172,7.551000118,8.06000042,7.209000111,6.105999947,5.613999844,5.152999878,4.467999935,4.335999966,4.048999786,4.513999939,4.301000118,4.184999943,4.300000191,4.375\n",
      "SÃ³lo AIF,IDX,3.863180245,3.871792418,4.103966162,4.155763829,4.20742993,4.251999337,4.288808274,4.329772705,4.577946999,4.630494005,4.656745449,4.810931025,4.826285505,4.711582512,4.600359758,4.290721318,4.141760925,4.162730146,4.547770451,4.423337343,4.38766772,4.294848576,4.256758736,4.126071598,4.132473123,4.118975578,4.01541101,4.016055194,4.023508194\n",
      "India,IND,2.361000061,2.407999992,2.572999954,2.59100008,2.611000061,2.664999962,2.630000114,2.671000004,2.743999958,2.730999947,2.868000031,3.052000046,3.181999922,3.09800005,3.101999998,2.736999989,2.398999929,2.267999887,2.474999905,2.444000006,2.519000053,2.690000057,2.822999954,2.765000105,2.782000065,2.730000019,2.556999922,2.551000118,2.551000118\n",
      "Irlanda,IRL,15.77499962,15.02999973,15.58699989,14.56999969,11.9829998,11.71700001,10.20300007,7.698999882,5.803999901,4.31799984,3.683000088,4.215000153,4.478000164,4.491000175,4.342000008,4.414999962,4.980000019,6.774000168,12.60900021,14.53299999,15.35299969,15.45300007,13.74499989,11.85599995,9.904000282,8.366000175,6.710000038,5.690999985,5.28399992\n",
      "\"IrÃ¡n, RepÃºblica IslÃ¡mica del\",IRN,11.10000038,10.63300037,10.70499992,10.5,9.838999748,9.100000381,9.741000175,10.48900032,11.19900036,11.68000031,12.11699963,12.80000019,11.53899956,10.30000019,12.10000038,11.19999981,10.60000038,10.47999954,11.97000027,13.52000046,12.44999981,12.63000011,10.43999958,10.56999969,11.06000042,12.43000031,12.10000038,11.99499989,11.99199963\n",
      "Iraq,IRQ,10.34599972,9.19699955,9.529000282,9.574000359,9.534999847,9.614999771,9.480999947,9.512000084,9.569999695,9.329999924,9.392999649,9.559000015,9.680000305,9.715999603,9.420000076,9.06400013,8.649000168,8.18999958,8.812999725,8.583000183,8.194000244,7.965000153,8.020999908,7.925000191,8.079000473,8.093000412,7.890999794,7.927999973,7.90500021\n",
      "Islandia,ISL,2.548000097,4.304999828,5.256999969,5.326000214,5.196000099,3.599999905,3.720000029,3.069000006,2.177999973,1.93599999,1.873999953,2.987999916,3.996999979,4.031000137,2.546999931,2.829999924,2.250999928,2.946000099,7.21999979,7.56400013,7.027999878,6,5.375999928,4.896999836,3.979000092,2.977999926,2.742000103,2.917999983,2.950000048\n",
      "Israel,ISR,13.38700008,14.07999992,12.74100018,9.934000015,8.781999588,8.454999924,9.751000404,10.7489996,11.18299961,11.10200024,11.81200027,12.88799953,13.50500011,13.02900028,11.34200001,10.70699978,9.37899971,7.703999996,9.534000397,8.479999542,7.138999939,6.856999874,6.208000183,5.889999866,5.250999928,4.797999859,4.215000153,3.950000048,3.930999994\n",
      "Italia,ITA,10.10200024,9.328000069,10.23999977,11.09300041,11.66899967,11.8739996,11.9989996,12.11900043,11.68999958,10.84200001,9.595000267,9.206999779,8.866000175,7.866000175,7.730999947,6.77699995,6.074999809,6.72300005,7.749000072,8.362999916,8.359000206,10.65499973,12.14900017,12.68299961,11.89599991,11.68799973,11.21100044,10.20499992,9.215000153\n",
      "Jamaica,JAM,15.73999977,15.39999962,16.31999969,15.34000015,16.22999954,16.01000023,16.35000038,15.5,15.73999977,15.53899956,14.93000031,14.19099998,11.73999977,11.43999958,11.26299953,10.32499981,9.744999886,10.32999992,11.36200047,12.36600018,12.69999981,13.93000031,15.2510004,13.73999977,13.51099968,13.19200039,11.6590004,9.444999695,9.524000168\n",
      "Jordania,JOR,19.4810009,19.53100014,19.70000076,17.17099953,14.60000038,13.69999981,13.82199955,13.80200005,13.87899971,13.69999981,14.69999981,15.30000019,14.5,14.69499969,14.80000019,14,13.10000038,12.69999981,12.89999962,12.5,12.89999962,12.19999981,12.60000038,11.89999962,13.07499981,15.27499962,14.87899971,15.02499962,14.94499969\n",
      "JapÃ³n,JPN,2.099999905,2.200000048,2.5,2.900000095,3.200000048,3.400000095,3.400000095,4.099999905,4.699999809,4.699999809,5,5.400000095,5.300000191,4.699999809,4.400000095,4.099999905,3.900000095,4,5.099999905,5.099999905,4.520999908,4.300000191,4,3.599999905,3.400000095,3.099999905,2.799999952,2.444999933,2.405999899\n",
      "KazajstÃ¡n,KAZ,0.8999999762,1,1.110000014,7.539999962,10.97999954,12.96000004,13.01000023,13.13000011,13.46000004,12.75,10.43000031,9.329999924,8.779999733,8.399999619,8.130000114,7.789999962,7.260000229,6.630000114,6.550000191,5.769999981,5.389999866,5.289999962,5.199999809,5.059999943,4.929999828,4.960000038,4.900000095,4.885000229,5.425000191\n",
      "Kenya,KEN,8.897000313,9.147999763,9.44299984,9.633000374,9.774999619,9.918999672,9.887000084,9.920999527,10.00399971,9.904000282,9.901000023,10.09200001,10.09899998,9.968999863,9.784000397,9.442000389,9.06499958,8.925999641,9.600000381,9.730999947,9.67800045,9.661999702,9.789999962,9.588000298,9.675000191,9.62899971,9.291999817,9.312999725,9.305000305\n",
      "KirguistÃ¡n,KGZ,1,1.100000024,3.400000095,4.699999809,5.599999905,7.300000191,7.5,8.899999619,8.399999619,7.539999962,7.840000153,12.55000019,9.920000076,8.529999733,8.109999657,8.270000458,8.100000381,8.220000267,8.409999847,8.640000343,8.529999733,8.430000305,8.329999924,8.050000191,7.559999943,7.210000038,6.889999866,7.170000076,7.355999947\n",
      "Camboya,KHM,2.338000059,2.328000069,2.496000051,2.571000099,2.53399992,2.503999949,2.497999907,2.536999941,2.552000046,2.450000048,1.639999986,1.628000021,1.572999954,1.562000036,1.470000029,1.279000044,1.167999983,1.151000023,1.281000018,1.376999974,1.317999959,1.279000044,1.284000039,1.231999993,1.19599998,1.131000042,1.062000036,1.047999978,1.019999981\n",
      "\"Corea, RepÃºblica de\",KOR,2.407000065,2.513000011,2.878000021,2.476000071,2.062999964,2.048000097,2.60800004,6.962999821,6.342000008,4.400000095,4,3.299999952,3.599999905,3.700000048,3.700000048,3.5,3.200000048,3.200000048,3.599999905,3.700000048,3.400000095,3.200000048,3.099999905,3.5,3.599999905,3.700000048,3.700000048,3.795000076,3.713999987\n",
      "Kuwait,KWT,0.7030000091,0.7409999967,0.8000000119,0.6999999881,0.7049999833,0.6999999881,0.6999999881,0.6999999881,0.6999999881,0.8000000119,0.8000000119,1.100000024,1.299999952,1.700000048,1.526000023,1.299999952,1.5,1.75,1.639999986,1.820000052,2.059000015,2.398000002,2.732000113,2.900000095,2.200000048,2.160000086,1.996999979,2.075999975,2.164999962\n",
      "AmÃ©rica Latina y el Caribe (excluido altos ingresos),LAC,6.013365982,5.995631581,6.053237945,6.516056925,7.818967788,8.038938866,7.92147175,8.322528309,9.153206322,9.142117775,8.675850195,9.041112306,8.892288014,8.341313512,7.881689912,7.190528007,6.814059386,6.399274702,7.465365278,6.95762739,6.464730595,6.381565263,6.319445,6.098989449,6.644717906,7.83892137,8.140302348,8.105627425,8.067836745\n",
      "RepÃºblica DemocrÃ¡tica Popular Lao,LAO,2.229000092,2.302999973,2.473999977,2.536999941,2.599999905,2.484999895,2.308000088,2.151000023,2.131999969,2.025000095,1.863000035,1.840000033,1.682999969,1.529000044,1.350000024,1.087000012,0.8650000095,0.7400000095,0.8000000119,0.7080000043,0.7020000219,0.6899999976,0.7160000205,0.69599998,0.6800000072,0.6470000148,0.6029999852,0.6090000272,0.574000001\n",
      "LÃ­bano,LBN,8.220999718,8.092000008,8.380999565,8.468999863,8.465000153,8.498999596,8.619999886,8.251999855,8.406999588,8.390999794,8.107000351,8.111000061,7.999000072,7.849999905,8.392000198,8.711000443,8.979999542,7.243999958,6.355000019,6.461999893,6.43599987,6.40899992,6.381999969,6.28000021,6.232999802,6.263000011,6.113999844,6.166999817,6.196000099\n",
      "Liberia,LBR,2.316999912,2.328000069,2.471999884,2.493999958,2.604000092,2.628999949,2.671000004,2.671999931,2.782000065,2.772000074,2.605999947,2.654999971,2.605999947,2.526000023,2.421999931,2.226000071,2.032000065,1.963999987,2.246000051,2.266000032,2.27699995,2.263000011,2.288000107,2.207000017,2.184000015,2.150000095,2.028000116,2.032999992,2.032000065\n",
      "Libia,LBY,19.41900063,19.57600021,19.88999939,20.09600067,20.70199966,20.57699966,20.75,21.0359993,21.13800049,20.6609993,18.77199936,18.30500031,18.53800011,18.71500015,18.45899963,18.11700058,17.38699913,16.54599953,17.19300079,17.61700058,19.56800079,19.03000069,18.30800056,17.13100052,16.09499931,16.23900032,17.12199974,17.28700066,17.29999924\n",
      "Santa LucÃ­a,LCA,16.32900047,16.36199951,16.79999924,17,15.82999992,16.32999992,20.46999931,21.60000038,18.09000015,16.48999977,18.3220005,20.38999939,22.18000031,20.96999931,18.70000076,16,14,12.72000027,15.36999989,17.14900017,18.86000061,19.05999947,22.20999908,23.1779995,24.09000015,21.26300049,20.79000092,20.86800003,20.46899986\n",
      "AmÃ©rica Latina y el Caribe,LCN,6.110965806,6.075900115,6.137858653,6.599666317,7.787567046,8.069569525,7.948908703,8.326145046,9.212953603,9.169091508,8.731041379,9.076911545,8.923450139,8.398888067,7.937180184,7.2586699,6.870437032,6.494918883,7.591097806,7.027063801,6.510097138,6.40411982,6.327940566,6.130267545,6.640658527,7.786242288,8.077729481,8.054645095,8.02337325\n",
      "PaÃ­ses menos desarrollados: clasificaciÃ³n de las Naciones Unidas,LDC,4.185807364,4.154635032,4.35860236,4.387871694,4.434693794,4.393466028,4.462058259,4.430330312,4.653422255,4.723975372,4.752444025,4.919286214,5.008224446,4.938418296,4.806059802,4.463074228,4.237955059,4.133419835,4.504447655,4.303842371,4.19767392,4.116394911,4.128887919,4.0024787,4.027289725,4.034364946,3.944348369,3.943447797,3.946339808\n",
      "PaÃ­ses de ingreso bajo,LIC,3.482855746,3.485065856,3.725053351,3.812426692,3.892070013,3.899590912,3.953703725,3.984266538,4.188767304,4.204293197,4.242419922,4.334103138,4.297588972,4.183762987,4.086020155,3.943949081,3.783061316,3.786906389,4.069341037,4.171564697,4.093795118,3.964449134,3.892103344,3.714855959,3.760172943,3.735639173,3.565551494,3.566046676,3.567295722\n",
      "Sri Lanka,LKA,14.66100025,14.22000027,13.81000042,13.02999973,12.27000046,11.35000038,10.60000038,9.170000076,8.880000114,7.739999771,7.900000095,8.760000229,8.220000267,8.380000114,7.670000076,6.5,5.96999979,5.21999979,5.849999905,4.940000057,4.110000134,3.880000114,4.440000057,4.400000095,4.670000076,4.369999886,4.179999828,4.399000168,4.322999954\n",
      "PaÃ­ses de ingreso mediano bajo,LMC,3.259058217,3.302545266,3.590717871,3.692007077,3.879867226,4.013515494,4.114635369,4.273759242,4.471355809,4.447307173,4.48459056,4.597519198,4.649899228,4.583219715,4.566707027,4.192627603,3.942429819,3.801563528,3.929300315,3.735783209,3.792758057,3.849542527,3.989202923,3.937562251,4.130142025,4.098283323,3.957154727,3.959905045,3.972904902\n",
      "Ingreso mediano y bajo,LMY,3.788743805,3.816820079,4.122034917,4.405636139,4.7029935,4.800902078,4.909999227,5.105451152,5.342791911,5.230335807,5.33317898,5.550961898,5.638601152,5.444953026,5.365508555,5.046720346,4.794232952,4.742462809,5.072513648,4.863013965,4.779364103,4.782021404,4.806333136,4.742519149,4.911081673,5.01258342,4.931358577,4.916053486,4.930339352\n",
      "Lesotho,LSO,36.1269989,36.23899841,36.63700104,37.26599884,37.07500076,37.1269989,37.93999863,37.16699982,36.81200027,36.14699936,35.30599976,34.84400177,34.07400131,32.97299957,31.92099953,30.27099991,28.68199921,27.43000031,27.65699959,27.19400024,26.43899918,25.3029995,24.57999992,24.33200073,24.29800034,24.16500092,23.61300087,23.59600067,23.47500038\n",
      "avanzada del dividendo demogrÃ¡fico,LTE,3.648732677,3.63558059,3.893430398,4.26522571,4.421907184,4.595779962,4.843351302,5.109909548,5.396278475,5.23179425,5.375210737,5.55170714,5.822876222,5.6438015,5.564071626,5.294000669,5.009460921,5.105614233,5.489009151,5.188296511,5.046522414,5.051709221,5.02138963,4.927594921,5.079300006,5.247772604,5.227184875,5.171970957,5.147796121\n",
      "Lituania,LTU,1.100000024,1.200000048,13.80000019,13.80000019,17.54000092,16.39999962,14.13000011,13.71100044,13.38799953,15.93099976,16.84000015,13.00800037,12.875,10.68400002,8.324999809,5.78000021,4.25,5.826000214,13.78499985,17.81399918,15.39000034,13.36499977,11.77000046,10.69799995,9.119999886,7.861999989,7.072999954,6.006999969,6.638000011\n",
      "Luxemburgo,LUX,1.481999993,2.029000044,2.329999924,3.480000019,2.917999983,3.286000013,2.52699995,2.763000011,2.390000105,2.345000029,1.804999948,2.621000051,3.674999952,5.112999916,4.487999916,4.730999947,4.065000057,5.059999943,5.122000217,4.361000061,4.901000023,5.139999866,5.84800005,5.852000237,6.669000149,6.290999889,5.521999836,5.46999979,5.413000107\n",
      "Letonia,LVA,2.700000048,6.599999905,16.70000076,18.70000076,19,20.70000076,14.89999962,14.46399975,13.78999996,14.21100044,13.8210001,13.82900047,12.06099987,11.70800018,10.03299999,7.03000021,6.052000046,7.738999844,17.51499939,19.48200035,16.20599937,15.04699993,11.86699963,10.84599972,9.873000145,9.642999649,8.715000153,7.856999874,8.222999573\n",
      "\"RegiÃ³n Administrativa Especial de Macao, China\",MAC,3.00999999,2.200000048,2.099999905,2.5,3.599999905,4.199999809,3.200000048,4.599999905,6.300000191,6.800000191,6.400000095,6.300000191,6,4.900000095,4.099999905,3.799999952,3.200000048,3,3.579999924,2.839999914,2.559999943,1.970000029,1.820000052,1.700000048,1.809999943,1.899999976,2,2.023000002,2.019000053\n",
      "Marruecos,MAR,12.88899994,12.87699986,13.35499954,13.74699974,13.62899971,13.97700024,13.72799969,13.75899982,13.93999958,13.57999992,12.46000004,11.59000015,11.92000008,10.82999992,11.01000023,9.670000076,9.56000042,9.569999695,8.960000038,9.090000153,8.909999847,8.989999771,9.229999542,9.699999809,9.460000038,9.300000191,9.05300045,9.039999962,9.027999878\n",
      "RepÃºblica de Moldova,MDA,1.899999976,3.700000048,3.700000048,5.800000191,5.300000191,7.900000095,7.900000095,10,11.14000034,8.460000038,7.289999962,6.800000191,7.949999809,8.170000076,7.289999962,7.380000114,5.070000172,3.980000019,6.400000095,7.446000099,6.68200016,5.578000069,5.104000092,3.855999947,3.694000006,4.184999943,4.09800005,3.411000013,3.733999968\n",
      "Madagascar,MDG,5.15899992,5.282000065,5.592000008,5.715000153,5.761000156,5.769999981,5.796999931,5.68900013,5.861000061,5.800000191,5.349999905,4.945000172,4.46999979,3.201999903,2.359999895,2.519999981,2.555999994,2.673000097,3.513000011,4.28000021,2.062999964,0.5989999771,0.9350000024,1.333999991,1.799999952,1.754999995,1.66900003,1.659000039,1.644999981\n",
      "Maldivas,MDV,0.7149999738,0.7250000238,0.7680000067,0.7850000262,0.7900000215,0.9739999771,1.16900003,1.368000031,1.715000033,1.970000029,2.137000084,2.398000002,2.64199996,2.782999992,2.874000072,3.029000044,3.016000032,3.130000114,3.734999895,4.113999844,4.390999794,4.647999763,5.031000137,5.210000038,5.677999973,6.119999886,5.829999924,6.074999809,6.402999878\n",
      "Oriente Medio y Norte de Ã�frica,MEA,11.16896335,11.4566118,12.18384792,12.21394602,12.30376249,11.43193511,11.11823742,11.36101961,11.64454469,12.09381021,12.05870952,12.27070321,11.94508993,10.8231128,11.00812969,10.09514931,9.518648314,9.126117642,9.392462568,9.543816022,10.07930509,10.26341818,9.824955411,9.836743608,9.906036078,9.939374146,9.87266819,9.817740533,9.792762255\n",
      "MÃ©xico,MEX,3.046999931,3.095999956,3.213999987,4.248000145,6.888000011,5.25,4.054999828,3.572999954,2.487999916,2.562999964,2.538000107,3.003000021,3.454999924,3.937000036,3.558000088,3.565999985,3.628000021,3.874000072,5.355999947,5.302999973,5.170000076,4.887000084,4.914000034,4.809000015,4.313000202,3.858999968,3.420000076,3.322000027,3.378000021\n",
      "Macedonia del Norte,MKD,34.60300064,34.70100021,35.70800018,36.20899963,35.9090004,35.95500183,36,34.5,32.40000153,32.20000076,30.52000046,31.94000053,36.68999863,37.1609993,37.25,36.02500153,34.93500137,33.76100159,32.17900085,32.02000046,31.37800026,31.01600075,28.99600029,28.03000069,26.06800079,23.72400093,22.38100052,21.55200005,21.58099937\n",
      "MalÃ­,MLI,3.101000071,3.122999907,3.252000093,3.204999924,3.207000017,3.338000059,3.299999952,3.986999989,4.872000217,5.53399992,6.306000233,7.278999805,8.041999817,8.75,10.01399994,10.84300041,11.71000004,10.10700035,9.395999908,8.069999695,6.900000095,7.086999893,7.300000191,6.375,7.729000092,9.729999542,9.43500042,9.569000244,9.776000023\n",
      "Malta,MLT,6.106999874,6.269999981,6.513000011,6.52699995,6.511000156,6.455999851,6.406000137,6.34100008,6.389999866,6.323999882,7.106999874,6.90199995,7.487999916,7.316999912,6.922999859,6.797999859,6.472000122,5.977000237,6.888999939,6.847000122,6.377999783,6.308000088,6.386000156,5.803999901,5.390999794,4.702000141,4.566999912,4.583000183,4.626999855\n",
      "Myanmar,MMR,0.996999979,1.019999981,1.113000035,1.146999955,1.154000044,1.157999992,1.167000055,1.161000013,1.218000054,1.22300005,1.202999949,1.236999989,1.207999945,1.136000037,1.065000057,0.94599998,0.8370000124,0.7879999876,0.9089999795,0.9100000262,0.8949999809,0.8700000048,0.8379999995,0.7929999828,0.7659999728,1.175999999,1.550999999,1.56400001,1.575000048\n",
      "Oriente Medio y Norte de Ã�frica (excluido altos ingresos),MNA,11.91029025,12.05460931,12.95360943,13.12308579,13.44247945,12.47067425,12.09350644,12.38212132,12.71645311,13.24724465,13.19038034,13.36246533,12.95074677,11.65280163,11.95831694,10.96674334,10.45649443,10.19258394,10.4715106,10.74844617,11.50069426,11.81835446,11.32184377,11.39100564,11.58781271,11.66283851,11.54453774,11.48297838,11.45538266\n",
      "Montenegro,MNE,28.56800079,28.91600037,29.70400047,29.77899933,29.91500092,29.81800079,30.09799957,30.06900024,30.39100075,30.42300034,30.12899971,30.78899956,31.04199982,30.70400047,30.30999947,24.6760006,19.39999962,17.14999962,19.09000015,19.64900017,19.67099953,19.97500038,19.49600029,17.99699974,17.54400063,17.72299957,16.07099915,15.46199989,15.77600002\n",
      "Mongolia,MNG,5.494999886,5.452000141,5.493000031,5.639999866,5.857999802,5.913000107,5.909999847,5.921000004,6.034999847,6.073999882,5.972000122,6.199999809,6.800000191,7.288000107,7.605000019,7.028999805,7.199999809,5.565000057,5.860000134,6.548999786,4.769000053,3.904999971,4.230999947,4.797999859,4.861000061,7.235000134,6.359000206,6.320000172,6.346000195\n",
      "Mozambique,MOZ,2.357000113,2.313999891,2.51699996,2.598999977,2.487999916,2.730999947,2.700000048,2.683000088,2.594000101,2.648999929,2.892999887,2.951999903,3.13499999,3.407000065,3.414000034,3.290999889,3.194999933,3.239000082,3.730000019,3.815999985,3.733999968,3.279999971,3.233999968,3.184000015,3.426000118,3.381000042,3.173000097,3.171999931,3.190000057\n",
      "Mauritania,MRT,11.53999996,11.54699993,12.15200043,10.77400017,12.11200047,12.22399998,12.21700001,12.25300026,12.24600029,12.05900002,11.89599991,12.48200035,12.03999996,10.95499992,10.13300037,10.63899994,10.27099991,9.711000443,10.74699974,10.59399986,10.30099964,9.864999771,9.987000465,10.21100044,10.78899956,10.37800026,10.27600002,10.30500031,10.32199955\n",
      "Mauricio,MUS,8.887000084,9.069000244,9.369999886,9.437000275,9.590000153,9.581999779,9.380999565,9.239999771,9.293999672,9.277000427,9.138999939,8.204999924,8.359999657,8.336999893,9.524000168,9.039999962,8.475000381,7.170000076,7.256999969,7.653999805,7.447000027,7.472000122,7.322000027,7.467000008,7.409999847,6.813000202,6.751999855,6.867000103,6.868999958\n",
      "Malawi,MWI,7.414000034,7.30700016,7.965000153,7.760000229,8.208999634,8.31400013,8.362000465,8.262999535,8.425999641,8.404000282,8.31499958,8.30700016,8.225000381,8.093999863,7.800000191,7.093999863,6.461999893,6.179999828,6.429999828,6.323999882,6.373000145,6.177000046,5.946000099,5.875999928,5.785999775,5.711999893,5.467999935,5.429999828,5.375\n",
      "Malasia,MYS,3.586999893,3.710000038,4.110000134,3.657000065,3.150000095,2.519999981,2.450000048,3.200000048,3.430000067,3,3.529999971,3.480000019,3.609999895,3.539999962,3.529999971,3.319999933,3.230000019,3.339999914,3.690000057,3.25,3.049999952,3.039999962,3.109999895,2.880000114,3.099999905,3.440000057,3.410000086,3.359999895,3.398999929\n",
      "AmÃ©rica del Norte,NAC,7.161234182,7.873631533,7.350531614,6.545471303,6.030172838,5.862064466,5.40370262,4.882099403,4.552466248,4.273865391,4.980394236,5.975649309,6.154069543,5.702217533,5.257546285,4.799826364,4.770881766,5.821327017,9.157212272,9.463446439,8.793424945,7.984803362,7.342145619,6.249378312,5.457251112,5.100788902,4.571528306,4.151099576,4.109221021\n",
      "Namibia,NAM,19.13999939,19.06900024,19.53300095,19.39999962,21.03800011,22.56200027,24.45000076,22.62199974,21.47100067,20.29999924,20.39800072,21.30800056,21.75600052,22.09000015,21.88699913,21.10499954,20.53899956,19.98900032,21.53700066,22.10000038,19.63999939,16.77099991,19.02799988,18.52099991,20.83099937,23.35199928,23.08799934,23.09499931,23.18700027\n",
      "Nueva Caledonia,NCL,17.98999977,18.29700089,18.74399948,18.77000046,18.74099922,18.63999939,18.2859993,17.90800095,17.73699951,17.36300087,17.00799942,16.86199951,16.65800095,16.30999947,15.56299973,14.69900036,13.88300037,13.41899967,13.97000027,14.2840004,14.33899975,14.56200027,14.71899986,14.59000015,14.32699966,14.07900047,13.79699993,13.61900043,13.42000008\n",
      "NÃ­ger,NER,1.271999955,1.292999983,1.429999948,1.422000051,1.450999975,1.458999991,1.43900001,1.462000012,1.498999953,1.470000029,1.470000029,1.921000004,2.39199996,2.836999893,3.099999905,2.226999998,1.55400002,1.034000039,0.8650000095,0.5019999743,0.3190000057,0.3319999874,0.3230000138,0.3219999969,0.298999995,0.3109999895,0.2849999964,0.2730000019,0.2569999993\n",
      "Nigeria,NGA,3.562000036,3.562000036,3.825999975,4.015999794,3.947000027,3.950999975,3.973999977,3.992000103,4.008999825,3.953999996,4.028999805,4.110000134,4.063000202,3.980000019,3.869999886,3.665999889,3.438999891,3.424000025,3.756999969,3.769999981,3.697000027,3.693000078,3.703000069,4.436999798,5.313000202,6.236999989,6.013000011,6.026000023,6.105999947\n",
      "Nicaragua,NIC,7.09499979,7.245999813,7.53399992,7.596000195,7.596000195,7.534999847,7.446000099,7.419000149,7.349999905,7.467999935,7.443999767,7.605999947,7.599999905,6.409999847,5.369999886,5.309999943,4.889999866,6.199999809,8.159999847,7.829999924,6.381000042,5.208000183,5.28000021,4.519000053,4.396999836,4.340000153,4.212999821,4.479000092,4.869999886\n",
      "PaÃ­ses Bajos,NLD,7.28399992,5.554999828,6.284999847,7.15899992,7.157000065,6.421000004,5.511000156,4.394000053,3.621999979,2.724999905,2.118999958,2.553999901,3.592999935,4.645999908,4.72300005,3.904999971,3.178999901,2.75,3.413000107,4.449999809,4.977000237,5.821000099,7.243000031,7.415999889,6.872000217,6.006000042,4.839000225,3.880000114,3.760999918\n",
      "Noruega,NOR,5.407000065,5.909999847,5.965000153,5.348999977,6.30700016,5.035999775,4.686999798,3.736999989,3.246999979,3.457999945,3.737999916,4.021999836,4.221000195,4.256000042,4.381000042,3.398999929,2.493000031,2.549999952,3.102999926,3.520999908,3.214999914,3.122999907,3.423000097,3.483999968,4.296000004,4.678999901,4.162000179,3.91899991,3.967000008\n",
      "Nepal,NPL,1.582999945,1.575000048,1.672000051,1.748000026,1.697000027,1.697999954,1.730999947,1.713000059,1.850000024,1.820000052,1.863000035,1.871000051,1.886999965,1.804999948,1.702000022,1.549000025,1.381999969,1.335999966,1.567999959,1.521999955,1.523000002,1.582000017,1.549999952,1.457999945,1.42900002,1.425999999,1.253000021,1.264000058,1.246999979\n",
      "Nueva Zelandia,NZL,10.61400032,10.66699982,9.803999901,8.354000092,6.460999966,6.289999962,6.856999874,7.717999935,7.022999763,6.130000114,5.433000088,5.282000065,4.750999928,4.005000114,3.806999922,3.857000113,3.661000013,4.166999817,6.120999813,6.55700016,6.491000175,6.931000233,6.264999866,5.751999855,5.364999771,5.099999905,4.702000141,4.521999836,4.80700016\n",
      "Miembros OCDE,OED,6.677296582,7.199221445,7.728658589,7.797764898,7.546459464,7.393021338,7.08436689,6.954462668,6.748994712,6.323529632,6.341241221,6.888978661,7.06069452,6.961740146,6.638418942,6.069362014,5.616289866,5.946073074,8.127001348,8.326764947,7.950197026,7.938872108,7.881129464,7.358846787,6.77043757,6.323808853,5.761696938,5.315842557,5.232113686\n",
      "OmÃ¡n,OMN,4.603000164,4.785999775,5.058000088,5.073999882,5.056000233,4.994999886,4.93900013,4.867000103,4.921000004,4.847000122,4.782000065,4.849999905,4.880000114,4.81400013,4.650000095,4.393000126,4.152999878,4.142000198,4.698999882,4.65899992,4.433000088,4.321000099,4.164000034,3.848999977,3.542000055,3.266000032,3.137000084,3.112999916,3.084000111\n",
      "Otros Estados pequeos,OSS,11.46432638,12.05727285,12.93074536,13.37322177,13.81639562,13.9893767,14.31840615,13.97098069,14.04344216,13.72634764,13.65994427,13.55281282,13.78445989,13.24825944,12.67383568,11.57524707,10.64898292,10.07757688,11.01810925,11.27814805,10.77456682,10.42943427,10.63186918,10.33814667,10.23851635,10.20934969,9.851017278,9.724766324,9.776461721\n",
      "PakistÃ¡n,PAK,0.5799999833,0.5989999771,0.6389999986,0.6800000072,0.7039999962,0.7099999785,0.7080000043,0.7089999914,0.7620000243,0.7409999967,0.7200000286,0.7519999743,0.7459999919,0.7149999738,0.6660000086,0.5820000172,0.3980000019,0.4230000079,0.5350000262,0.6529999971,0.7960000038,1.674999952,2.953999996,1.827000022,3.565999985,3.440000057,3.180999994,3.038000107,3.019999981\n",
      "PanamÃ¡,PAN,3.913000107,3.842999935,3.907999992,3.97300005,3.961999893,4.054999828,4.112999916,4.065000057,4.171999931,4.205999851,4.377999783,4.551000118,4.413000107,4.347000122,4.222000122,3.934999943,3.430000067,3.201999903,3.757999897,3.713000059,2.311000109,2.391000032,2.299999952,2.72300005,3.002000093,3.315000057,3.900000095,3.921999931,3.904999971\n",
      "PerÃº,PER,5.204999924,5.244999886,5.473999977,5.513999939,5.46600008,5.519999981,5.527999878,5.478000164,5.697999954,5.701000214,5.671000004,5.798999786,4.788000107,4.901000023,4.860000134,4.260000229,4.188000202,4.05700016,3.900000095,3.477999926,3.441999912,3.108999968,3.236999989,2.961999893,3,3.535000086,3.460000038,2.844000101,2.90199995\n",
      "Filipinas,PHL,3.246000051,3.290999889,3.424000025,3.506000042,3.579999924,3.566999912,3.551000118,3.608999968,3.848999977,3.83100009,3.697999954,3.617000103,3.52699995,3.552999973,3.795000076,4.052000046,3.434000015,3.720000029,3.85800004,3.605000019,3.592000008,3.503999949,3.496999979,3.599999905,3.026000023,2.707999945,2.552000046,2.515000105,2.411999941\n",
      "Papua Nueva Guinea,PNG,2.697999954,2.664000034,2.845000029,2.881000042,2.91899991,2.963000059,3.003000021,2.993000031,3.035000086,2.920000076,2.845999956,2.878000021,2.743999958,2.552000046,2.378000021,2.111000061,1.907999992,1.764000058,2.046999931,2.002000093,2.619999886,2.660000086,2.710999966,2.637000084,2.575999975,2.480999947,2.351999998,2.367000103,2.368999958\n",
      "Polonia,POL,13.05599976,13.31900024,13.99800014,14.44400024,13.3380003,12.35400009,10.96399975,9.93500042,12.28999996,16.31299973,18.37299919,19.89500046,19.37000084,19.07299995,17.74600029,13.84000015,9.602000237,7.118000031,8.166999817,9.637000084,9.631999969,10.0880003,10.32600021,8.989999771,7.500999928,6.160999775,4.887000084,3.673000097,3.270999908\n",
      "previa al dividendo demogrÃ¡fico,PRE,5.844343697,5.762895612,6.005743766,6.02085749,6.009923759,5.960376119,5.97320199,5.900504146,6.088776021,6.133655065,6.163762754,6.291860927,6.300051465,6.185396233,5.976017016,5.633359905,5.229846146,5.039308516,5.375857697,5.479675695,5.267989492,5.094362576,4.951232886,4.927854271,5.122493821,5.277933906,5.092285846,5.109924082,5.13364066\n",
      "Puerto Rico,PRI,16.18000031,16.93000031,16.90999985,14.60000038,13.93000031,13.64000034,13.80000019,13.46000004,11.81000042,10.07999992,11.39999962,11.93999958,11.77999973,10.31000042,11.35000038,11.01000023,10.93000031,11.47999954,15,16.10000038,15.69999981,14.5,14.30000019,13.89999962,12,11.80000019,10.80000019,11.44400024,11.16600037\n",
      "\"Corea, RepÃºblica Popular DemocrÃ¡tica de\",PRK,3.58100009,3.628999949,3.891000032,3.997999907,4.127999783,4.157999992,4.245999813,4.203999996,4.308000088,4.254000187,4.197999954,4.271999836,4.157999992,4.078999996,3.917999983,3.663000107,3.381000042,3.278000116,3.637000084,3.654000044,3.66899991,3.637000084,3.671999931,3.582999945,3.54399991,3.447000027,3.286999941,3.302999973,3.301000118\n",
      "Portugal,PRT,3.91899991,3.984999895,5.300000191,6.712999821,7.06400013,7.297999859,6.571000099,4.65199995,4.578000069,3.809000015,3.828000069,4.497000217,6.131999969,6.316999912,7.581999779,7.646999836,7.964000225,7.552000046,9.43200016,10.77000046,12.67700005,15.52700043,16.18300056,13.89400005,12.44400024,11.06599998,8.866999626,6.860000134,6.129000187\n",
      "Paraguay,PRY,8.579999924,8.701999664,9.093999863,9.059000015,9.248000145,9.234999657,9.291999817,9.380000114,9.637999535,9.704000473,9.652999878,9.392999649,6.81400013,6.513000011,4.824999809,5.276000023,4.712999821,4.414999962,5.460000038,4.568999767,4.669000149,4.085000038,4.385000229,5.03399992,4.556000233,5.255000114,4.614999771,4.711999893,4.676000118\n",
      "Ribera Occidental y Gaza,PSE,13.84200001,13.89400005,14.22000027,14.19900036,14.38099957,14.24699974,14.19400024,13.92399979,13.8039999,13.5340004,25.29800034,31.22200012,25.47999954,26.7859993,23.51499939,23.74099922,21.71800041,26.61199951,24.54800034,23.73399925,20.93600082,22.97299957,23.39699936,26.94599915,25.82099915,26.88999939,27.44400024,30.18199921,29.86599922\n",
      "Estados pequeos de las Islas del Pacfico,PSS,3.334561851,3.475982896,3.616828121,3.755139622,3.817630731,3.832347301,3.821550126,3.749058619,3.975662513,3.990381757,4.021921522,4.108494846,4.070930749,3.924001315,3.700580809,3.483795105,3.318033957,3.195128321,3.609412847,3.655883685,3.772715394,4.036483207,3.934532933,3.995834695,3.906251266,3.79088139,3.597274764,3.597736513,3.595244655\n",
      "Polinesia Francesa,PYF,11.42000008,11.63700008,11.95499992,11.97399998,11.95300007,11.88099957,11.81599998,11.73099995,11.79399967,11.70699978,11.63000011,11.71000004,11.95300007,12.08100033,12.07299995,11.91100025,11.73999977,11.72200012,12.85200024,13.09700012,13.04500008,13.18299961,13.24499989,12.98499966,12.68999958,12.4119997,12.09700012,12.01599979,11.97200012\n",
      "Qatar,QAT,1.324000001,1.460000038,1.687999964,1.702000022,1.68599999,1.631999969,1.583999991,1.524000049,1.569000006,1.508000016,1.455000043,1.50999999,1.534000039,1.480000019,1.205000043,0.8700000048,0.5199999809,0.3100000024,0.3100000024,0.4499999881,0.5600000024,0.4799999893,0.2700000107,0.1899999976,0.1599999964,0.1400000006,0.1400000006,0.1420000046,0.1449999958\n",
      "Rumania,ROU,8.18900013,8.260000229,8.401000023,8.170000076,8.010000229,6.739999771,5.513999939,5.629000187,6.236999989,6.967000008,6.558000088,8.109999657,6.949999809,7.718999863,7.173999786,7.269000053,6.413000107,5.787000179,6.859000206,6.959000111,7.177000046,6.794000149,7.096000195,6.802000046,6.811999798,5.901000023,4.927000046,4.295000076,4.15899992\n",
      "FederaciÃ³n de Rusia,RUS,5.070000172,5.181000233,5.882999897,8.130999565,9.449000359,9.664999962,11.81299973,13.26099968,13.03600025,10.58100033,8.977999687,7.875,8.210000038,7.763000011,7.124000072,7.054999828,6.001999855,6.204999924,8.300999641,7.368999958,6.535999775,5.43599987,5.458000183,5.159999847,5.571000099,5.559000015,5.211999893,4.743999958,4.545000076\n",
      "Rwanda,RWA,0.3000000119,0.3339999914,0.4009999931,0.4740000069,0.5260000229,0.5600000024,0.6169999838,0.65200001,0.7239999771,0.7760000229,0.80400002,0.8899999857,0.9480000138,0.9629999995,0.949000001,0.8600000143,0.7509999871,0.699000001,0.9620000124,1.059999943,1.093000054,1.105999947,1.154000044,1.16900003,1.098999977,1.034999967,0.9539999962,0.9710000157,0.9919999838\n",
      "Asia meridional,SAS,2.412073602,2.439448371,2.58227433,2.593681567,2.597512183,2.624418889,2.597089098,2.622480613,2.700552696,2.680303197,2.81140843,3.006931854,3.126545166,3.049521714,3.02898136,2.656839232,2.372025748,2.293346851,2.557151904,2.372471003,2.456162623,2.692084028,2.962721737,2.800531643,2.99206852,2.928723286,2.772760544,2.749731574,2.744285773\n",
      "Arabia Saudita,SAU,6.994999886,7.199999809,7.017000198,6.56099987,6.090000153,5.600999832,5.140999794,4.691999912,4.349999905,4.570000172,4.619999886,5.269999981,5.559999943,5.820000172,6.050000191,6.25,5.730000019,5.079999924,5.380000114,5.550000191,5.769999981,5.519999981,5.570000172,5.71999979,5.590000153,5.650000095,5.889999866,5.919000149,5.918000221\n",
      "SudÃ¡n,SDN,15.79699993,15.42800045,16.03800011,16.06100082,16.25499916,16.66300011,16.55699921,16.4279995,16.71199989,16.93499947,16.62100029,16.48600006,16.61400032,16.3390007,16.05699921,15.26099968,14.89500046,14.80000019,13,13.35200024,13.04199982,13.17800045,13.26099968,13.20899963,13.15499973,13.00899982,12.77299976,12.8760004,12.99699974\n",
      "Senegal,SEN,5.370999813,5.407000065,5.609000206,5.609000206,5.657999992,5.68599987,5.65899992,5.649000168,5.703000069,5.603000164,5.607999802,5.650000095,6.776000023,7.958000183,9.088000298,10.02999973,9.498999596,9.315999985,10.36299992,10.54100037,10.35999966,9.31400013,8.512999535,7.630000114,6.756999969,6.612999916,6.436999798,6.464000225,6.521999836\n",
      "Singapur,SGP,2.180000067,3.089999914,3.069999933,3.029999971,3.299999952,3.569999933,2.5,3.410000086,4.849999905,3.700000048,3.75999999,5.650000095,5.929999828,5.840000153,5.590000153,4.480000019,3.900000095,3.960000038,5.860000134,4.119999886,3.890000105,3.720000029,3.859999895,3.74000001,3.789999962,4.079999924,3.907000065,3.767999887,3.624000072\n",
      "Islas SalomÃ³n,SLB,2.184999943,2.285000086,2.414000034,2.490999937,2.503999949,2.46600008,2.471999884,2.457999945,2.53399992,2.484999895,2.482000113,2.594000101,2.517999887,2.484999895,2.335999966,2.075000048,1.853999972,1.786000013,2.019999981,1.726999998,1.898000002,2.085000038,2.040999889,2.096999884,2.013000011,1.930999994,1.771000028,1.789999962,1.792999983\n",
      "Sierra Leona,SLE,3.181999922,3.213999987,3.461999893,3.490999937,3.529999971,3.497999907,3.563999891,3.556999922,3.645999908,3.615999937,3.522000074,3.569000006,3.503000021,3.420000076,3.461999893,3.438999891,3.417000055,3.505000114,4.032999992,3.790999889,3.74000001,4.107999802,4.545000076,4.677999973,4.75,4.710000038,4.324999809,4.313000202,4.329999924\n",
      "El Salvador,SLV,7.53000021,7.880000114,9.93999958,7.679999828,7.650000095,7.679999828,7.980000019,7.099999905,6.679999828,6.960000038,6.960000038,5.730000019,6.260000229,6.050000191,7.21999979,6.570000172,6.409999847,5.880000114,7.329999924,4.893000126,4.302000046,3.845999956,3.693000078,4.163000107,4,4.418000221,4.385000229,4.389999866,4.346000195\n",
      "Somalia,SOM,14.32999992,14.34200001,14.80200005,14.90799999,15.12899971,15.09799957,15.18500042,15.08100033,15.32199955,15.25899982,15.18200016,15.33600044,15.20199966,15.09399986,14.86400032,14.39900017,13.81900024,13.68799973,14.46199989,14.56799984,14.61800003,14.55200005,14.63099957,14.46500015,14.4119997,14.25899982,13.91300011,13.95600033,13.95499992\n",
      "Serbia,SRB,12.86999989,12.97799969,13.31900024,13.40299988,13.39999962,13.19999981,13.80000019,13.69999981,13.69999981,12.60000038,12.80000019,13.80000019,15.19999981,18.5,20.85000038,20.85000038,18.05999947,13.70499992,16.1420002,19.21800041,22.9659996,24,22.15399933,19.22299957,17.92099953,15.25699997,13.47700024,13.51000023,13.51299953\n",
      "Ã�frica al sur del Sahara (excluido altos ingresos),SSA,6.965239597,6.976965142,7.276759527,7.338998332,7.403207648,7.422265773,7.493429655,7.423808478,7.667608654,7.667957112,7.664805072,7.878108313,7.708494727,7.312201908,7.109803419,6.742641244,6.28105245,5.866408231,6.206518464,6.337913178,6.172523413,6.033751361,5.931537837,5.900490069,6.076069637,6.251668175,6.121277764,6.094926771,6.113449316\n",
      "SudÃ¡n del Sur,SSD,12.70899963,12.80200005,13.21500015,13.35200024,13.49199963,13.48600006,13.54100037,13.46399975,13.65200043,13.59500027,13.5369997,13.68599987,13.59300041,13.43599987,13.20499992,12.74199963,12.31700039,12.14999962,13.11100006,13.14099979,12.96899986,12.67199993,12.86600018,12.44200039,12.8380003,12.57600021,12.63899994,12.6960001,12.71500015\n",
      "Ã�frica al sur del Sahara,SSF,6.965239597,6.976965142,7.276759527,7.338998332,7.403207648,7.422265773,7.493429655,7.423808478,7.667608654,7.667957112,7.664805072,7.878108313,7.708494727,7.312201908,7.109803419,6.742641244,6.28105245,5.866408231,6.206518464,6.337913178,6.172523413,6.033751361,5.931537837,5.900490069,6.076069637,6.251668175,6.121277764,6.094926771,6.113449316\n",
      "PequeÃ±os Estados,SST,11.41325813,11.85389597,12.56740121,12.73429701,12.98380876,13.0541256,13.29492532,12.90747014,12.99411604,12.68826803,12.56172953,12.46063552,12.4116681,11.94403827,11.47345677,10.50699833,9.731758101,9.375899611,10.38570744,10.71015012,10.39032716,10.29007644,10.52804768,10.16374451,10.04246338,9.982712551,9.572854497,9.29649864,9.33947125\n",
      "Santo TomÃ© y PrÃ­ncipe,STP,13.40299988,13.47999954,13.84799957,13.97299957,14.06499958,14.13799953,14.2510004,14.21399975,14.40799999,14.39999962,15.72999954,17.62999916,16.36000061,16.12000084,16.46999931,16.64999962,15.28100014,13.99199963,14.69299984,13.73999977,13.72299957,13.59000015,13.92700005,13.88599968,13.60499954,13.56999969,13.13899994,13.31900024,13.40100002\n",
      "Suriname,SUR,16.97299957,17.28000069,15.64000034,12.69999981,8.390000343,10.88000011,10.56000042,10.63000011,13.60000038,12.88000011,11.91399956,11.07499981,10.39999962,9.489999771,9.340000153,9.232999802,8.267000198,8.048000336,8.720000267,7.150000095,7.539999962,8.100000381,6.599999905,6.940000057,7.21999979,7.289000034,7.598999977,7.631000042,7.412000179\n",
      "RepÃºblica Eslovaca,SVK,11.68299961,11.89299965,12.19999981,13.65400028,13.10900021,11.3409996,11.89400005,12.18700027,15.94699955,19.06200027,19.38199997,18.72100067,17.12000084,18.59900093,16.25600052,13.37300014,11.14299965,9.508000374,12.02499962,14.37899971,13.61699963,13.9630003,14.22000027,13.18400002,11.48099995,9.670000076,8.130999565,6.756000042,6.367000103\n",
      "Eslovenia,SVN,7.079999924,7.736000061,8.510000229,8.239999771,7.150000095,6.907999992,6.646999836,7.388999939,7.323999882,6.918000221,5.68200016,5.921999931,6.479000092,6.012000084,6.506000042,5.949999809,4.81799984,4.370999813,5.856999874,7.236000061,8.166000366,8.840000153,10.10200024,9.668000221,8.961999893,8,6.56400013,5.510000229,5.501999855\n",
      "Suecia,SWE,3.243000031,5.722000122,9.329999924,9.579999924,8.897000313,9.546999931,10.35900021,8.940999985,7.606999874,5.46600008,4.730000019,4.965000153,5.554999828,6.69299984,7.486000061,7.065999985,6.160999775,6.235000134,8.350999832,8.609999657,7.803999901,7.975999832,8.052000046,7.953000069,7.43200016,6.989999771,6.717999935,6.443999767,6.837999821\n",
      "Eswatini,SWZ,20.35199928,20.49099922,21.02099991,21.28800011,21.64999962,22.08600044,22.5,22.46199989,23.96999931,24.9090004,25.44199944,26.50699997,27.32799911,27.69099998,28.24699974,28.28300095,28.23999977,27.29599953,27.75399971,27.30900002,26.6760006,25.98399925,25.41300011,24.49500084,23.64299965,22.71800041,22.34000015,22.47699928,22.85400009\n",
      "RepÃºblica Ã�rabe Siria,SYR,6.75,7.059999943,7.400000095,7.5,7.199999809,7.245999813,7.339000225,7.447999954,7.599999905,9.539999962,11.63000011,11.68000031,10.27999973,9.831999779,9.112999916,8.170000076,8.420000076,10.92000008,8.140000343,8.609999657,8.62899971,8.670000076,8.673000336,8.449000359,8.392000198,8.253000259,8.031000137,8.119999886,8.18200016\n",
      "Chad,TCD,0.6019999981,0.621999979,0.6999999881,0.7149999738,0.8320000172,0.9169999957,1.004999995,1.105999947,1.225999951,1.27699995,1.174000025,1.047000051,1.161999941,1.468999982,1.488000035,1.355000019,1.269999981,1.286000013,1.611999989,1.618999958,1.763000011,1.777999997,2.114000082,2.052999973,2.171999931,2.417000055,2.198999882,2.229000092,2.319000006\n",
      "Asia oriental y el PacÃ­fico (BIRF y la AIF),TEA,2.408341439,2.378290201,2.676518948,2.859227564,2.95841784,3.062554214,3.198255641,3.352529955,3.513298965,3.461306013,3.85521116,4.142239927,4.436109863,4.418305472,4.478372737,4.360923874,4.317216964,4.473067686,4.406409038,4.151113229,4.087972786,4.076707824,4.069148306,4.038588028,4.099392183,4.010240008,3.926351599,3.947647097,3.954991459\n",
      "Europa y Asia central (BIRF y la AIF),TEC,5.973975919,6.248565719,6.993753206,8.452698367,9.50309247,10.09712572,10.75653019,11.61593333,12.02028562,11.24962577,10.8358901,10.69357022,10.42314844,10.1283959,9.445142059,8.625429409,7.514957693,7.283606056,8.925777332,8.544367469,8.014358482,7.538238099,7.592938918,7.644044008,7.61655689,7.436072665,7.053117806,6.765165128,6.868829795\n",
      "Togo,TGO,1.843999982,1.902999997,2.181999922,2.186000109,2.183000088,2.15899992,2.23300004,2.183000088,2.385999918,2.101999998,2.08100009,2.109999895,2.092999935,1.998999953,1.978999972,1.848999977,1.675999999,1.646000028,1.889000058,1.934000015,1.863000035,1.898000002,1.812000036,1.786000013,1.692000031,1.654000044,1.657999992,1.667999983,1.669999957\n",
      "Tailandia,THA,2.630000114,1.350000024,1.49000001,1.350000024,1.100000024,1.070000052,0.8700000048,3.400000095,2.970000029,2.390000105,2.599999905,1.820000052,1.539999962,1.50999999,1.350000024,1.220000029,1.179999948,1.179999948,1.039000034,0.621999979,0.6600000262,0.5799999833,0.4889999926,0.5759999752,0.5970000029,0.6880000234,0.6320000291,0.6650000215,0.6949999928\n",
      "TayikistÃ¡n,TJK,1.899999976,2.099999905,6.199999809,8.800000191,10.30000019,13.39999962,13.89999962,16.5,15.39999962,14.61200047,14.27499962,14.15999985,13.8760004,13.4119997,12.98099995,11.86299992,11.02799988,10.89000034,11.5,11.63399982,11.57199955,11.70300007,11.82199955,11.64900017,11.35000038,10.98900032,10.73799992,10.92199993,11.08199978\n",
      "TurkmenistÃ¡n,TKM,1.399999976,1.5,1.5,4.699999809,8.300000191,10.30000019,11,12.19999981,12.69999981,11.78100014,10.75399971,9.991999626,9.145000458,8.215000153,7.361000061,6.353000164,5.383999825,4.506999969,4.385000229,4,3.976000071,3.959000111,3.977999926,3.895999908,3.839999914,3.799000025,3.694999933,3.782999992,3.851000071\n",
      "AmÃ©rica Latina y el Caribe (BIRF y la AIF),TLA,5.985854233,5.939282755,5.99254246,6.486540898,7.724146258,8.034827219,7.922018502,8.335234024,9.259415373,9.24304634,8.811310108,9.176079414,9.036373114,8.514647274,8.032845828,7.340696842,6.946782098,6.561916324,7.662405463,7.061021887,6.52020966,6.412557718,6.337475713,6.149605729,6.686992635,7.859773698,8.162201919,8.136041728,8.104284385\n",
      "Timor-Leste,TLS,3.25999999,3.315999985,3.506999969,3.58100009,3.607000113,3.631999969,3.661999941,3.763000011,3.924000025,3.970999956,4.063000202,4.172999859,4.290999889,3.84800005,3.601000071,3.28399992,3.102999926,2.963999987,3.180000067,3.301000118,3.200999975,3.249000072,3.325999975,3.288000107,3.342999935,2.979000092,2.963000059,2.999000072,3.007999897\n",
      "Oriente Medio y Norte de Ã�frica (BIRF y la AIF),TMN,11.89668878,12.04145436,12.94442672,13.11521538,13.43548768,12.45705241,12.07695717,12.36983913,12.70780578,13.24494187,13.10011902,13.23093235,12.85340191,11.5349248,11.86723371,10.86285802,10.36245553,10.05295507,10.34972208,10.63575552,11.41357241,11.71213202,11.20529866,11.22939965,11.43745961,11.50096284,11.37473538,11.27876804,11.24972447\n",
      "Tonga,TON,1.197000027,1.187000036,1.299999952,1.547000051,1.837000012,2.131000042,2.489000082,2.875,3.433000088,3.796000004,4.186999798,4.736000061,5.179999828,3.492000103,2.138999939,1.090000033,0.9879999757,0.9570000172,1.125,1.146000028,1.133999944,1.113000035,1.13499999,1.110000014,1.080000043,1.054999948,1.003000021,1.02699995,1.018000007\n",
      "Asia meridional (BIRF y la AIF),TSA,2.412073602,2.439448371,2.58227433,2.593681567,2.597512183,2.624418889,2.597089098,2.622480613,2.700552696,2.680303197,2.81140843,3.006931854,3.126545166,3.049521714,3.02898136,2.656839232,2.372025748,2.293346851,2.557151904,2.372471003,2.456162623,2.692084028,2.962721737,2.800531643,2.99206852,2.928723286,2.772760544,2.749731574,2.744285773\n",
      "Ã�frica al sur del Sahara (BIRF y la AIF),TSS,6.965239597,6.976965142,7.276759527,7.338998332,7.403207648,7.422265773,7.493429655,7.423808478,7.667608654,7.667957112,7.664805072,7.878108313,7.708494727,7.312201908,7.109803419,6.742641244,6.28105245,5.866408231,6.206518464,6.337913178,6.172523413,6.033751361,5.931537837,5.900490069,6.076069637,6.251668175,6.121277764,6.094926771,6.113449316\n",
      "Trinidad y Tobago,TTO,3.438999891,3.572000027,3.773000002,3.785000086,3.772000074,3.724999905,3.684000015,3.630000114,3.670000076,3.61500001,3.566999912,3.617000103,3.638000011,3.589999914,3.469000101,3.28399992,3.11500001,3.107000113,3.648000002,3.775000095,3.247999907,3.453000069,2.460000038,2.223999977,2.210999966,2.971999884,2.816999912,2.829999924,2.813999891\n",
      "TÃºnez,TUN,15.07400036,15.15100002,15.47999954,15.81799984,15.88000011,16.02000046,15.93999958,15.43299961,15.21000004,14.93999958,14.39999962,14.55000019,14.51000023,14.22999954,12.87199974,12.51000023,12.36499977,12.44400024,13.29100037,13.04899979,18.33399963,17.62999916,15.93400002,15.05799961,15.21800041,15.51399994,15.37899971,15.47799969,15.51000023\n",
      "TurquÃ­a,TUR,8.210000038,8.508999825,8.961999893,8.576999664,7.644000053,6.629000187,6.84100008,6.888000011,7.686999798,6.494999886,8.380999565,10.3579998,10.54199982,10.8380003,10.63599968,8.718000412,8.868000031,9.710000038,12.55200005,10.65999985,8.795999527,8.149000168,8.732000351,9.880000114,10.23600006,10.83899975,10.81900024,10.89500046,11.89500046\n",
      "TanzanÃ­a,TZA,3.599999905,3.450999975,3.595999956,3.558000088,3.611999989,3.58100009,3.48300004,3.257999897,3.308000088,3.155999899,2.993999958,3.246999979,3.358999968,3.437999964,3.46600008,3.299000025,2.693000078,2.35800004,2.5,3.035000086,3.470000029,3.24000001,2.930000067,2.125,2.122999907,2.095000029,1.93900001,1.932000041,1.911999941\n",
      "Uganda,UGA,0.9399999976,0.9200000167,1.16900003,1.424000025,1.636000037,1.827999949,2.098999977,2.354000092,2.707000017,2.832999945,3.155999899,3.5,3.599999905,2.644999981,1.899999976,2.122999907,2.256000042,2.661999941,3.599999905,3.680000067,3.595000029,3.551000118,1.909999967,1.888000011,1.870000005,1.792000055,1.697999954,1.741999984,1.786999941\n",
      "Ucrania,UKR,1.899999976,1.899999976,2,2,5.619999886,7.650000095,8.930000305,11.31999969,11.86400032,11.70699978,11.06099987,10.13599968,9.05700016,8.590000153,7.179999828,6.809999943,6.349999905,6.360000134,8.840000153,8.100000381,7.860000134,7.53000021,7.170000076,9.270000458,9.140000343,9.350000381,9.510000229,9.380999565,9.312000275\n",
      "Ingreso mediano alto,UMC,4.190702705,4.215444257,4.545440198,4.988806496,5.400213943,5.491187387,5.620775466,5.876423294,6.155702166,5.966589834,6.138632111,6.463826767,6.610366886,6.31682799,6.201275232,5.901852406,5.641248355,5.658446297,6.167147035,5.90207972,5.709389057,5.697119401,5.657722136,5.618673673,5.802802436,6.057027254,6.062696061,6.048404944,6.088439425\n",
      "Uruguay,URY,12.64000034,12.93799973,13.37699986,13.40200043,13.3739996,13.27400017,13.18400002,13.06700039,13.15499973,13.03499985,12.9289999,13.03899956,13.08600044,12.97900009,12.00899982,10.84399986,9.402999878,8.024999619,7.739999771,7.157999992,6.30700016,6.451000214,6.443999767,6.546999931,7.487999916,7.84100008,7.889999866,7.960999966,7.941999912\n",
      "Estados Unidos,USA,6.800000191,7.5,6.900000095,6.118999958,5.650000095,5.451000214,5,4.510000229,4.218999863,3.992000103,4.730999947,5.782999992,5.988999844,5.528999805,5.083000183,4.623000145,4.622000217,5.78399992,9.25399971,9.633000374,8.949000359,8.069000244,7.375,6.168000221,5.28000021,4.868999958,4.355000019,3.933000088,3.868999958\n",
      "UzbekistÃ¡n,UZB,1.899999976,2.900000095,4.900000095,7.300000191,7.800000191,10.69999981,10.89999962,13.30000019,13.30000019,12.11900043,11.00399971,10.20699978,9.220999718,8.057999611,6.927000046,5.849999905,4.989999771,4.889999866,5.039999962,5.360000134,4.960000038,4.869999886,4.860000134,5.090000153,5.150000095,5.159999847,4.972000122,5.22300005,5.499000072\n",
      "San Vicente y las Granadinas,VCT,19.77000046,19.54500008,20.26600075,20.80400085,20.3560009,20.85899925,20.6779995,20.59799957,21.0909996,21.13100052,21.10000038,20.86100006,20.55999947,20.4109993,20.15699959,19.27400017,18.79400063,18.79999924,19.75200081,19.91600037,19.79100037,19.71999931,19.69099998,19.68700027,20.1989994,20.06500053,19.7310009,19.76099968,19.70999908\n",
      "Venezuela,VEN,9.449999809,7.690000057,6.599999905,8.56000042,10.23999977,11.77000046,11.15999985,11.14999962,14.52999973,13.98999977,13.03999996,16.17000008,16.78000069,15.06999969,10.66300011,8.605999947,7.278999805,6.244999886,8.050000191,8.449999809,6.90199995,6.600999832,7.539999962,6.949999809,6.820000172,7.460000038,7.421999931,8.364999771,9.079000473\n",
      "Islas VÃ­rgenes (EE.UU.),VIR,8.720000267,8.928999901,9.237000465,9.25399971,9.234999657,9.164999962,9.102000237,9.020000458,9.081999779,8.998000145,8.923999786,9.001000404,9.034000397,8.960000038,8.772000313,8.472000122,8.187999725,8.173999786,9.050000191,9.241999626,9.201000214,9.309000015,9.357999802,9.154000282,8.923000336,8.706000328,8.461999893,8.409999847,8.357000351\n",
      "Viet Nam,VNM,1.962000012,1.963999987,1.881000042,1.932999969,1.942999959,1.929999948,2.869999886,2.289999962,2.329999924,2.25999999,2.75999999,2.119999886,2.25,2.140000105,2.224999905,2.174000025,2.026000023,2.380000114,1.736999989,1.113999963,0.9990000129,1.02699995,1.251999974,1.256000042,1.858999968,1.850999951,1.886000037,1.891000032,1.894000053\n",
      "Vanuatu,VUT,5.994999886,6.079999924,6.355999947,6.452000141,6.502999783,6.53000021,6.559000015,6.537000179,6.665999889,6.578000069,6.577000141,6.676000118,6.664999962,6.357999802,6.186999798,5.781000137,5.373000145,5.058000088,5.460000038,5.636000156,5.888000011,6.051000118,5.991000175,5.869999886,5.526000023,5.693999767,5.422999859,5.40899992,5.397999763\n",
      "Mundo,WLD,4.394101274,4.522016501,4.865783031,5.087660014,5.239414195,5.314333586,5.349764691,5.487484438,5.647618863,5.476817919,5.553601299,5.823286845,5.919060892,5.728088797,5.603405019,5.242479719,4.940264919,4.946892824,5.602664989,5.478005908,5.345875527,5.353330827,5.35402249,5.190535637,5.21666888,5.21524393,5.048580597,4.95100167,4.935883677\n",
      "Samoa,WSM,2.099999905,2.354000092,2.684999943,2.964999914,3.217999935,3.496000051,3.776000023,4.004000187,4.43200016,4.71600008,4.960000038,5.112999916,5.151000023,5.137000084,5.139999866,4.958000183,4.750999928,4.769000053,5.34499979,5.524000168,5.679999828,8.751999855,8.795999527,8.720000267,8.616000175,8.605999947,8.324000359,8.324999809,8.456999779\n",
      "\"Yemen, Rep. del\",YEM,8.041999817,7.980999947,8.269000053,8.340000153,8.786000252,9.19699955,9.762999535,10.63599968,11.46000004,11.44099998,11.5909996,11.92300034,11.91399956,11.86699963,11.79899979,11.60599995,11.3380003,11.34300041,12.51299953,12.90499973,13.05799961,13.25199986,13.50699997,13.46700001,14.02299976,13.52400017,13.17500019,12.93400002,12.80900002\n",
      "SudÃ¡frica,ZAF,28.27099991,28.60899925,29.41699982,29.55900002,29.58200073,29.79800034,29.85099983,29.74799919,30.20199966,30.22900009,30.89599991,33.47299957,32.45600128,29.57600021,29.25300026,28.48900032,26.66600037,22.43300056,23.53800011,24.69300079,24.65299988,24.73200035,24.56900024,24.89800072,25.15600014,26.5510006,27.32699966,26.95800018,27.32099915\n",
      "Zambia,ZMB,18.89999962,19.25600052,19.70000076,17.94199944,16.61599922,15.30000019,13.81299973,12,12.66300011,12.93000031,13.81000042,14.49100018,14.82499981,15.26500034,15.89999962,12.5,9.987000465,7.929999828,10.62300014,13.18999958,10.19999981,7.849999905,7.801000118,7.706999779,7.446000099,7.372000217,7.205999851,7.209000111,7.144999981\n",
      "Zimbabwe,ZWE,4.518000126,4.519000053,4.857999802,4.960000038,5.587999821,6.270999908,6.929999828,6.374000072,6,5.703000069,5.40500021,5.241000175,4.867000103,4.389999866,4.28399992,4.066999912,4.160999775,4.449999809,5.03399992,5.122000217,5.368000031,5.607999802,5.623000145,5.518000126,5.438000202,5.238999844,4.94299984,4.914999962,4.897999763\n"
     ]
    },
    {
     "name": "stderr",
     "output_type": "stream",
     "text": [
      "  % Total    % Received % Xferd  Average Speed   Time    Time     Time  Current\n",
      "                                 Dload  Upload   Total   Spent    Left  Speed\n",
      "\n",
      "  0     0    0     0    0     0      0      0 --:--:-- --:--:-- --:--:--     0\n",
      "  0     0    0     0    0     0      0      0 --:--:-- --:--:-- --:--:--     0\n",
      "  0     0    0     0    0     0      0      0 --:--:--  0:00:01 --:--:--     0curl: (6) Could not resolve host: application\n",
      "  % Total    % Received % Xferd  Average Speed   Time    Time     Time  Current\n",
      "                                 Dload  Upload   Total   Spent    Left  Speed\n",
      "\n",
      "  0     0    0     0    0     0      0      0 --:--:-- --:--:-- --:--:--     0\n",
      "100 83683  100 83683    0     0   332k      0 --:--:-- --:--:-- --:--:--  332k\n"
     ]
    }
   ],
   "source": [
    "# Fetch the dataset using the raw GitHub URL.\n",
    "!curl --remote-name \\\n",
    "     -H 'Accept: application/vnd.github.v3.raw' \\\n",
    "     --location https://raw.githubusercontent.com/jhermosillo/DIPLOMADO_CDP/main/02_Analisis_Estadistico/data/desempleo_mundial.csv"
   ]
  },
  {
   "cell_type": "markdown",
   "metadata": {},
   "source": [
    "Veamos las primeras líneas del archivo usando un comando de linux en la celda de colab:"
   ]
  },
  {
   "cell_type": "code",
   "execution_count": 66,
   "metadata": {},
   "outputs": [
    {
     "name": "stderr",
     "output_type": "stream",
     "text": [
      "head: cannot open 'desempleo_mundial.csv' for reading: No such file or directory\n"
     ]
    }
   ],
   "source": [
    "import pandas as pd\n",
    "!head -n 5 desempleo_mundial.csv"
   ]
  },
  {
   "cell_type": "code",
   "execution_count": null,
   "metadata": {},
   "outputs": [],
   "source": [
    "import pandas as pd\n",
    "# leer el dataframe usando read_csv\n",
    "desempleo_df = pd.read_csv(\"desempleo_mundial.csv\", sep=',', header=0)\n",
    "# mostrar los primeros elementos con head\n",
    "desempleo_df.head()"
   ]
  },
  {
   "cell_type": "markdown",
   "metadata": {},
   "source": [
    "# Características del dataset\n",
    "\n",
    "¿Qué tipos de datos contiene nuestro dataframe?"
   ]
  },
  {
   "cell_type": "code",
   "execution_count": null,
   "metadata": {},
   "outputs": [],
   "source": [
    "for name, t in zip(desempleo_df.columns, desempleo_df.dtypes):\n",
    "  print(name, t)"
   ]
  },
  {
   "cell_type": "code",
   "execution_count": null,
   "metadata": {},
   "outputs": [],
   "source": [
    "desempleo_df.info()"
   ]
  },
  {
   "cell_type": "markdown",
   "metadata": {},
   "source": [
    "#### ¿Qué tamaño tiene nuestro dataset?\n",
    "\n",
    "Utiliza el método shape para conocer el número de filas y columnas en el dataframe.\n"
   ]
  },
  {
   "cell_type": "code",
   "execution_count": null,
   "metadata": {},
   "outputs": [],
   "source": [
    "m,n = desempleo_df.shape\n",
    "print(\"Filas:\", m)\n",
    "print(\"Columnas:\", n)"
   ]
  },
  {
   "cell_type": "markdown",
   "metadata": {},
   "source": [
    "### Estadísticas generales del dataset.\n",
    "\n",
    "Usa describre() para mostrar las estadísticas generales de las columnas numéricas en el dataframe."
   ]
  },
  {
   "cell_type": "code",
   "execution_count": null,
   "metadata": {},
   "outputs": [],
   "source": [
    "desempleo_df.describe()"
   ]
  },
  {
   "cell_type": "markdown",
   "metadata": {},
   "source": [
    "\n",
    "## Tratamiento de datos\n",
    "### Datos faltantes\n",
    "\n",
    "Antes de poder hacer transformaciones y operaciones en los datos, es importante identificar la posible existencia de datos faltantes. El método isna() de pandas, permite obtener un dataframe booleano que identifica entradas faltantes.\n",
    "\n",
    "Usémos isna(), sum(axis=0) y to_frame().T para resumir el resultado de datos faltantes como un conteo por columnas:"
   ]
  },
  {
   "cell_type": "code",
   "execution_count": null,
   "metadata": {},
   "outputs": [],
   "source": [
    "desempleo_df.isna().sum(axis=0).to_frame().T"
   ]
  },
  {
   "cell_type": "markdown",
   "metadata": {},
   "source": [
    "### Desechar aquellos renglones (o filas) con valores NaN con Pandas\n"
   ]
  },
  {
   "cell_type": "code",
   "execution_count": null,
   "metadata": {},
   "outputs": [],
   "source": [
    "desempleo_df = desempleo_df.dropna()\n",
    "desempleo_df"
   ]
  },
  {
   "cell_type": "markdown",
   "metadata": {},
   "source": [
    "\n",
    "## Graficando el contenido del dataframe\n",
    "\n",
    "Empecemos en graficar de forma abrupta los datos con el método .plot(). "
   ]
  },
  {
   "cell_type": "code",
   "execution_count": null,
   "metadata": {},
   "outputs": [],
   "source": [
    "desempleo_df.plot(figsize=(15,4))\n",
    "desempleo_df.plot(subplots=True, figsize=(15,6))"
   ]
  },
  {
   "cell_type": "code",
   "execution_count": null,
   "metadata": {},
   "outputs": [],
   "source": [
    "test = desempleo_df.melt(id_vars=[\"Country Name\", \"Country Code\"], var_name=\"Date\", value_name=\"Value\")\n",
    "test"
   ]
  },
  {
   "cell_type": "code",
   "execution_count": null,
   "metadata": {},
   "outputs": [],
   "source": [
    "test[\"Date\"] = pd.to_numeric(test[\"Date\"])\n",
    "test.plot.scatter(x=\"Value\", y=\"Date\")\n",
    "desempleo_df.describe()"
   ]
  },
  {
   "cell_type": "code",
   "execution_count": null,
   "metadata": {},
   "outputs": [],
   "source": [
    "desempleo_df.mean().plot()"
   ]
  },
  {
   "cell_type": "code",
   "execution_count": null,
   "metadata": {},
   "outputs": [],
   "source": [
    "arr = desempleo_df.to_numpy()\n",
    "arr\n",
    "arr[:, [2, 3, 4]].mean(axis=0)"
   ]
  }
 ],
 "metadata": {
  "kernelspec": {
   "display_name": "Python 3",
   "language": "python",
   "name": "python3"
  },
  "language_info": {
   "codemirror_mode": {
    "name": "ipython",
    "version": 3
   },
   "file_extension": ".py",
   "mimetype": "text/x-python",
   "name": "python",
   "nbconvert_exporter": "python",
   "pygments_lexer": "ipython3",
   "version": "3.7.6"
  }
 },
 "nbformat": 4,
 "nbformat_minor": 4
}
